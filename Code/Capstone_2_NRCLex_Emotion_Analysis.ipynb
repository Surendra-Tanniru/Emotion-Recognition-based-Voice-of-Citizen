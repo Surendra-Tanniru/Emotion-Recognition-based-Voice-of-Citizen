{
 "cells": [
  {
   "cell_type": "code",
   "execution_count": 1,
   "metadata": {},
   "outputs": [],
   "source": [
    "# Interactive shell of Ipython is used to execute multiple statements at a time\n",
    "from IPython.core.interactiveshell import InteractiveShell\n",
    "InteractiveShell.ast_node_interactivity='all'"
   ]
  },
  {
   "cell_type": "code",
   "execution_count": 2,
   "metadata": {},
   "outputs": [],
   "source": [
    "from bs4 import BeautifulSoup\n",
    "from urllib.request import urlopen\n",
    "import nltk\n",
    "from nltk.corpus import stopwords\n",
    "#nltk.download('stopwords')\n",
    "%matplotlib inline\n",
    "import matplotlib.pyplot as plt \n",
    "import operator\n",
    "from wordcloud import WordCloud\n",
    "import pandas as pd\n",
    "\n",
    "import re\n",
    "import os\n",
    "import tweepy as tw\n",
    "import spacy\n",
    "import en_core_web_sm\n",
    "#nlp = spacy.load(\"en_core_web_sm\")\n",
    "nlp = en_core_web_sm.load()\n",
    "spacy_stopwords = spacy.lang.en.stop_words.STOP_WORDS"
   ]
  },
  {
   "cell_type": "code",
   "execution_count": 29,
   "metadata": {},
   "outputs": [],
   "source": [
    "consumer_key= 'xxxx'\n",
    "consumer_secret= 'xxxx'\n",
    "\n",
    "access_token= 'xxxx'\n",
    "access_token_secret= 'xxxx'\n",
    "\n",
    "bearer_token='xxxx'"
   ]
  },
  {
   "cell_type": "code",
   "execution_count": 30,
   "metadata": {},
   "outputs": [],
   "source": [
    "auth = tw.OAuthHandler(consumer_key, consumer_secret)\n",
    "auth.set_access_token(access_token, access_token_secret)\n",
    "api = tw.API(auth, wait_on_rate_limit=True)"
   ]
  },
  {
   "cell_type": "code",
   "execution_count": 57,
   "metadata": {},
   "outputs": [
    {
     "data": {
      "text/plain": [
       "<tweepy.cursor.ItemIterator at 0x1a98b34a430>"
      ]
     },
     "execution_count": 57,
     "metadata": {},
     "output_type": "execute_result"
    }
   ],
   "source": [
    "import json\n",
    "\n",
    "search_term = \"Silkboard+traffic -filter:retweets\"\n",
    "\n",
    "tweets = tw.Cursor(api.search,\n",
    "                   q=search_term,\n",
    "                   lang=\"en\",\n",
    "                   since='2022-08-01').items(100)\n",
    "\n",
    "tweets"
   ]
  },
  {
   "cell_type": "code",
   "execution_count": 58,
   "metadata": {},
   "outputs": [
    {
     "data": {
      "text/html": [
       "<div>\n",
       "<style scoped>\n",
       "    .dataframe tbody tr th:only-of-type {\n",
       "        vertical-align: middle;\n",
       "    }\n",
       "\n",
       "    .dataframe tbody tr th {\n",
       "        vertical-align: top;\n",
       "    }\n",
       "\n",
       "    .dataframe thead th {\n",
       "        text-align: right;\n",
       "    }\n",
       "</style>\n",
       "<table border=\"1\" class=\"dataframe\">\n",
       "  <thead>\n",
       "    <tr style=\"text-align: right;\">\n",
       "      <th></th>\n",
       "      <th>user</th>\n",
       "      <th>tweet</th>\n",
       "      <th>location</th>\n",
       "      <th>time</th>\n",
       "    </tr>\n",
       "  </thead>\n",
       "  <tbody>\n",
       "    <tr>\n",
       "      <th>0</th>\n",
       "      <td>ashmitamohapatr</td>\n",
       "      <td>silkboard traffic will be the death of me</td>\n",
       "      <td></td>\n",
       "      <td>2022-09-24 11:27:06</td>\n",
       "    </tr>\n",
       "    <tr>\n",
       "      <th>1</th>\n",
       "      <td>GutsyThala</td>\n",
       "      <td>The capital of traffic in Bangalore - Silk Boa...</td>\n",
       "      <td>Bengaluru, India</td>\n",
       "      <td>2022-09-23 18:06:34</td>\n",
       "    </tr>\n",
       "    <tr>\n",
       "      <th>2</th>\n",
       "      <td>SumanthChinthal</td>\n",
       "      <td>@Suryapsingh32 @satishacharya Fix your traffic...</td>\n",
       "      <td></td>\n",
       "      <td>2022-09-22 11:58:30</td>\n",
       "    </tr>\n",
       "    <tr>\n",
       "      <th>3</th>\n",
       "      <td>shivarajyadavm</td>\n",
       "      <td>Those who always crack silkboard traffic jokes...</td>\n",
       "      <td>Bengaluru</td>\n",
       "      <td>2022-09-21 04:18:38</td>\n",
       "    </tr>\n",
       "  </tbody>\n",
       "</table>\n",
       "</div>"
      ],
      "text/plain": [
       "              user                                              tweet  \\\n",
       "0  ashmitamohapatr          silkboard traffic will be the death of me   \n",
       "1       GutsyThala  The capital of traffic in Bangalore - Silk Boa...   \n",
       "2  SumanthChinthal  @Suryapsingh32 @satishacharya Fix your traffic...   \n",
       "3   shivarajyadavm  Those who always crack silkboard traffic jokes...   \n",
       "\n",
       "           location                time  \n",
       "0                   2022-09-24 11:27:06  \n",
       "1  Bengaluru, India 2022-09-23 18:06:34  \n",
       "2                   2022-09-22 11:58:30  \n",
       "3         Bengaluru 2022-09-21 04:18:38  "
      ]
     },
     "execution_count": 58,
     "metadata": {},
     "output_type": "execute_result"
    }
   ],
   "source": [
    "users_locs = [[tweet.user.screen_name,tweet.text, tweet.user.location,tweet.created_at] for tweet in tweets]\n",
    "\n",
    "tweet_text = pd.DataFrame(data=users_locs, \n",
    "                    columns=['user', 'tweet',\"location\",'time'])\n",
    "tweet_text\n",
    "\n",
    "## other values that are available in tweet\n",
    "## dict_keys(['created_at', 'id', 'id_str', 'text', 'truncated', 'entities', 'source', 'in_reply_to_status_id',\n",
    "## 'in_reply_to_status_id_str', 'in_reply_to_user_id', 'in_reply_to_user_id_str', 'in_reply_to_screen_name', 'user',\n",
    "## 'geo', 'coordinates', 'place', 'contributors', 'is_quote_status', 'retweet_count', 'favorite_count', 'favorited',\n",
    "## 'retweeted', 'lang'])"
   ]
  },
  {
   "cell_type": "code",
   "execution_count": 59,
   "metadata": {},
   "outputs": [],
   "source": [
    "### done with exploring .. now start actual work"
   ]
  },
  {
   "cell_type": "code",
   "execution_count": 60,
   "metadata": {},
   "outputs": [
    {
     "data": {
      "text/plain": [
       "['silkboard traffic will be the death of me',\n",
       " 'The capital of traffic in Bangalore - Silk Board is missed in this reels. I strongly condemn this baava\\n\\n#SilkBoard… https://t.co/N443UWmktt',\n",
       " '@Suryapsingh32 @satishacharya Fix your traffic first before talking about Hyderabad. We can cross entire Telangana… https://t.co/wgAeM2u0fW',\n",
       " 'Those who always crack silkboard traffic jokes, they never lived in a city Called MUMBAI. https://t.co/JYm2oi70rS']"
      ]
     },
     "execution_count": 60,
     "metadata": {},
     "output_type": "execute_result"
    },
    {
     "data": {
      "text/plain": [
       "4"
      ]
     },
     "execution_count": 60,
     "metadata": {},
     "output_type": "execute_result"
    },
    {
     "data": {
      "text/plain": [
       "['In Bangalore, who is richer than CEO?\\nThe average traffic police.',\n",
       " '@VandanaJain_ This is precisely what \"Bangalore people\" would not be caught dead doing. You can move here, find a j… https://t.co/tHiYrxiHV2',\n",
       " 'I need help @narendramodi @PMOIndia  @Bangalore commissioner police. @Bangalore traffic commissioner police.',\n",
       " '@vinodblru @rajdugar @dyamannavar @anil_lulla @SWRRLY @southernrailway @ChristinMP_TOI @captsanthoshkc… https://t.co/gXQMAJOkhA',\n",
       " '#BangaloreTrafficPolice #bangaloretraffic In Bangalore most places \"NO Entry\" sign is either placed so high or hidd… https://t.co/ESM0vsPzPt']"
      ]
     },
     "execution_count": 60,
     "metadata": {},
     "output_type": "execute_result"
    },
    {
     "data": {
      "text/plain": [
       "200"
      ]
     },
     "execution_count": 60,
     "metadata": {},
     "output_type": "execute_result"
    }
   ],
   "source": [
    "\n",
    "search_term = \"traffic+silkboard -filter:retweets\"\n",
    "\n",
    "tweets = tw.Cursor(api.search,\n",
    "                   q=search_term,\n",
    "                   lang=\"en\",\n",
    "                   since='2022-01-01').items(100) #YYYY-MM-DD\n",
    "\n",
    "all_tweets = [tweet.text for tweet in tweets]\n",
    "total_tweets = []\n",
    "\n",
    "all_tweets[:5]\n",
    "len(all_tweets)\n",
    "\n",
    "for tweet in all_tweets:\n",
    "    total_tweets.append(tweet)\n",
    "\n",
    "search_term = \"Bangalore+traffic -filter:retweets\"\n",
    "\n",
    "tweets = tw.Cursor(api.search,\n",
    "                   q=search_term,\n",
    "                   lang=\"en\",\n",
    "                   since='2022-01-01').items(200) #YYYY-MM-DD\n",
    "\n",
    "all_tweets = [tweet.text for tweet in tweets]\n",
    "\n",
    "all_tweets[:5]\n",
    "len(all_tweets)\n",
    "\n",
    "for tweet in all_tweets:\n",
    "    total_tweets.append(tweet)"
   ]
  },
  {
   "cell_type": "code",
   "execution_count": 61,
   "metadata": {},
   "outputs": [
    {
     "data": {
      "text/plain": [
       "['The capital of traffic in Bangalore - Silk Board is missed in this reels. I strongly condemn this baava\\n\\n#SilkBoard… https://t.co/N443UWmktt',\n",
       " '@bicyclemayorblr @BBMPCOMM @BBMPAdmn @blrcitytraffic @jointcptraffic @ArvindLBJP @PCMohanMP @CMofKarnataka… https://t.co/XWxoGBgCvT',\n",
       " 'My dream is to propose my girlfriend in silk board junction traffic.',\n",
       " '@TansuYegen Very good, come to bangalore and start selling these... People can now avoid silk board traffic easily!!!',\n",
       " '@krtcskr It would be romantic only if he drove in Bangalore traffic, from Silk board to Hebbal.']"
      ]
     },
     "execution_count": 61,
     "metadata": {},
     "output_type": "execute_result"
    },
    {
     "data": {
      "text/plain": [
       "11"
      ]
     },
     "execution_count": 61,
     "metadata": {},
     "output_type": "execute_result"
    },
    {
     "data": {
      "text/plain": [
       "['@blrcitytraffic @BlrCityPolice \\n\\nCould you please register a traffic offence against wrong and illegal parking on r… https://t.co/aeBf0HurSX',\n",
       " '#Koramangala #TTMC (Traffic and Transit Management Centre) today.\\n\\nAbsolutely deserted.\\n\\nHardly half a km away is S… https://t.co/04QaM4LRKK',\n",
       " '@siddaramaiah @PMOIndia @BJP4Karnataka Do you want to make it PayRG -&gt; Pay Rahul Gandhi-&gt; 50%.  As ex-cm who has no… https://t.co/DzRqFkw0ej',\n",
       " '@HMLokesh @DcpComdCentre @acpsouthtrf @DCPTrEastBCP @DgpKarnataka Huge Traffic in Form mall road koramangala due to… https://t.co/zXezRBhLs6',\n",
       " '@blrcitytraffic plz raise a traffic violation for wrong parking right in front of my gate. see the 2nd pic for reg… https://t.co/WvywZ7yhtT']"
      ]
     },
     "execution_count": 61,
     "metadata": {},
     "output_type": "execute_result"
    },
    {
     "data": {
      "text/plain": [
       "6"
      ]
     },
     "execution_count": 61,
     "metadata": {},
     "output_type": "execute_result"
    },
    {
     "data": {
      "text/plain": [
       "['@anil_lulla @kirankumaar @DVSadanandGowda @drmsbc @dyamannavar @nBangalorepost @SWRRLY @BBMPCOMM @krishnabgowda The… https://t.co/RK0K4aJPRG',\n",
       " '@BSBommai  Sir please take some serious and urgent action on the pathetic road condition of ORR around Hebbal to Go… https://t.co/H24ZztsC9w',\n",
       " '@cheemskarni yes but let that infrastructure  be limited to public utility bus/van ,\\nFrom past 2 decades none of th… https://t.co/uWglvEgdEo',\n",
       " \"@Namma_ORRCA I've been travelling from eco world to hebbal everyday, a piece of advice, if we have the pillars rais… https://t.co/YwLARFnjpU\",\n",
       " '@CMofKarnataka \\nSo much traffic near hebbal still police puts barricade to test for drunk. Driving  and huge pile u… https://t.co/hXHZ9B4vM6']"
      ]
     },
     "execution_count": 61,
     "metadata": {},
     "output_type": "execute_result"
    },
    {
     "data": {
      "text/plain": [
       "14"
      ]
     },
     "execution_count": 61,
     "metadata": {},
     "output_type": "execute_result"
    },
    {
     "data": {
      "text/plain": [
       "['The other side of H S Prasad, giving back to society only to receive more encouragement to give back more and more.… https://t.co/VzbkJ8By0k',\n",
       " 'Hi @blrcitytraffic, In Varthur to Whitefield Mayura Bakery stretch, is it allowed to park 4 wheelers in the left la… https://t.co/8PB0dWDyw9',\n",
       " '@wftrps @AddlCPTraffic @DCPTrEastBCP @acpwfieldtrf @blrcitytraffic Request Traffic Department to Help in 24/7 Perma… https://t.co/iwclNLrufe',\n",
       " '#M60 J17 anti-clockwise exit (Prestwich / Whitefield) - Congestion - Full details at https://t.co/h8TkrzcyGe (Updated every 5 minutes)',\n",
       " '#M60 J17 anti-clockwise exit (Prestwich / Whitefield) - Congestion - Full details at https://t.co/h8TkrzcyGe (Updated every 5 minutes)']"
      ]
     },
     "execution_count": 61,
     "metadata": {},
     "output_type": "execute_result"
    },
    {
     "data": {
      "text/plain": [
       "30"
      ]
     },
     "execution_count": 61,
     "metadata": {},
     "output_type": "execute_result"
    },
    {
     "data": {
      "text/plain": [
       "['@BSBommai @BBMPCOMM THIS is what a city admin needs to do to ease traffic congestion in Bangalore. Instead, you upr… https://t.co/yr8mOXxMKH',\n",
       " '@mepratap @AshwiniVaishnaw We need inter city trains from Bangalore to Mangalore on daily basis. It will reduce the… https://t.co/A7D62iiPGh',\n",
       " '@TOIBengaluru traffic congestion and parking issues are all over Bangalore sir and not only near ikea :). @BSBommai @CMofKarnataka',\n",
       " \"@mybangalore @blrcitytraffic @CPBlr @NammaBengaluroo @BangaloreMirror Auto rickshaws should stop in Bangalore; it's… https://t.co/VjxiJsxMbh\",\n",
       " 'Mad respect for the Doctor! 🙌\\n\\nThere are heroes nobody talks about but they exist.\\n\\n3-4 kms may not seem like much,… https://t.co/1jvOK02Ghu']"
      ]
     },
     "execution_count": 61,
     "metadata": {},
     "output_type": "execute_result"
    },
    {
     "data": {
      "text/plain": [
       "5"
      ]
     },
     "execution_count": 61,
     "metadata": {},
     "output_type": "execute_result"
    }
   ],
   "source": [
    "\n",
    "search_term = \"traffic+silk board -filter:retweets\"\n",
    "\n",
    "tweets = tw.Cursor(api.search,\n",
    "                   q=search_term,\n",
    "                   lang=\"en\",\n",
    "                   since='2022-01-01').items(100) #YYYY-MM-DD\n",
    "\n",
    "all_tweets = [tweet.text for tweet in tweets]\n",
    "\n",
    "all_tweets[:5]\n",
    "len(all_tweets)\n",
    "for tweet in all_tweets:\n",
    "    total_tweets.append(tweet)\n",
    "\n",
    "search_term = \"traffic+koramangala -filter:retweets\"\n",
    "\n",
    "tweets = tw.Cursor(api.search,\n",
    "                   q=search_term,\n",
    "                   lang=\"en\",\n",
    "                   since='2022-01-01').items(100) #YYYY-MM-DD\n",
    "\n",
    "all_tweets = [tweet.text for tweet in tweets]\n",
    "all_tweets[:5]\n",
    "len(all_tweets)\n",
    "for tweet in all_tweets:\n",
    "    total_tweets.append(tweet)\n",
    "\n",
    "search_term = \"traffic+hebbal -filter:retweets\"\n",
    "\n",
    "tweets = tw.Cursor(api.search,\n",
    "                   q=search_term,\n",
    "                   lang=\"en\",\n",
    "                   since='2022-01-01').items(100) #YYYY-MM-DD\n",
    "\n",
    "all_tweets = [tweet.text for tweet in tweets]\n",
    "all_tweets[:5]\n",
    "len(all_tweets)\n",
    "for tweet in all_tweets:\n",
    "    total_tweets.append(tweet)\n",
    "\n",
    "search_term = \"traffic+whitefield -filter:retweets\"\n",
    "\n",
    "tweets = tw.Cursor(api.search,\n",
    "                   q=search_term,\n",
    "                   lang=\"en\",\n",
    "                   since='2022-01-01').items(100) #YYYY-MM-DD\n",
    "\n",
    "all_tweets = [tweet.text for tweet in tweets]\n",
    "all_tweets[:5]\n",
    "len(all_tweets)\n",
    "for tweet in all_tweets:\n",
    "    total_tweets.append(tweet)\n",
    "\n",
    "search_term = \"'bangalore+traffic congestion' -filter:retweets\"\n",
    "\n",
    "tweets = tw.Cursor(api.search,\n",
    "                   q=search_term,\n",
    "                   lang=\"en\",\n",
    "                   since='2022-01-01').items(100) #YYYY-MM-DD\n",
    "\n",
    "all_tweets = [tweet.text for tweet in tweets]\n",
    "all_tweets[:5]\n",
    "len(all_tweets)\n",
    "for tweet in all_tweets:\n",
    "    total_tweets.append(tweet)\n"
   ]
  },
  {
   "cell_type": "code",
   "execution_count": 62,
   "metadata": {},
   "outputs": [
    {
     "data": {
      "text/plain": [
       "[]"
      ]
     },
     "execution_count": 62,
     "metadata": {},
     "output_type": "execute_result"
    },
    {
     "data": {
      "text/plain": [
       "[]"
      ]
     },
     "execution_count": 62,
     "metadata": {},
     "output_type": "execute_result"
    },
    {
     "data": {
      "text/plain": [
       "[\"@DVSadanandGowda @JnanendraAraga Sir it's high time you need to review the situation of hebbal traffic after recent… https://t.co/HZbtxP1Jr0\"]"
      ]
     },
     "execution_count": 62,
     "metadata": {},
     "output_type": "execute_result"
    },
    {
     "data": {
      "text/plain": [
       "['Hi @blrcitytraffic, In Varthur to Whitefield Mayura Bakery stretch, is it allowed to park 4 wheelers in the left la… https://t.co/8PB0dWDyw9',\n",
       " '#M60 J17 anti-clockwise exit (Prestwich / Whitefield) - Congestion - Full details at https://t.co/h8TkrzcyGe (Updated every 5 minutes)',\n",
       " '#M60 J17 anti-clockwise exit (Prestwich / Whitefield) - Congestion - Full details at https://t.co/h8TkrzcyGe (Updated every 5 minutes)',\n",
       " '#M60 J17 anti-clockwise exit (Prestwich / Whitefield) - Congestion - Full details at https://t.co/h8TkrzcyGe (Updated every 5 minutes)',\n",
       " '#M60 J17 clockwise access (Prestwich / Whitefield) - Congestion - Full details at https://t.co/h8TkryUXhE (Updated every 5 minutes)']"
      ]
     },
     "execution_count": 62,
     "metadata": {},
     "output_type": "execute_result"
    }
   ],
   "source": [
    "search_term = \"'silkboard+traffic congestion' -filter:retweets\"\n",
    "\n",
    "tweets = tw.Cursor(api.search,\n",
    "                   q=search_term,\n",
    "                   lang=\"en\",\n",
    "                   since='2022-01-01').items(100) #YYYY-MM-DD\n",
    "\n",
    "all_tweets = [tweet.text for tweet in tweets]\n",
    "all_tweets[:5]\n",
    "for tweet in all_tweets:\n",
    "    total_tweets.append(tweet)\n",
    "\n",
    "search_term = \"'silk board+traffic congestion' -filter:retweets\"\n",
    "\n",
    "tweets = tw.Cursor(api.search,\n",
    "                   q=search_term,\n",
    "                   lang=\"en\",\n",
    "                   since='2022-01-01').items(100) #YYYY-MM-DD\n",
    "\n",
    "all_tweets = [tweet.text for tweet in tweets]\n",
    "all_tweets[:5]\n",
    "for tweet in all_tweets:\n",
    "    total_tweets.append(tweet)\n",
    "\n",
    "search_term = \"'hebbal+traffic congestion' -filter:retweets\"\n",
    "\n",
    "tweets = tw.Cursor(api.search,\n",
    "                   q=search_term,\n",
    "                   lang=\"en\",\n",
    "                   since='2022-01-01').items(100) #YYYY-MM-DD\n",
    "\n",
    "all_tweets = [tweet.text for tweet in tweets]\n",
    "all_tweets[:5]\n",
    "for tweet in all_tweets:\n",
    "    total_tweets.append(tweet)\n",
    "\n",
    "search_term = \"'whitefield+traffic congestion' -filter:retweets\"\n",
    "\n",
    "tweets = tw.Cursor(api.search,\n",
    "                   q=search_term,\n",
    "                   lang=\"en\",\n",
    "                   since='2022-01-01').items(100) #YYYY-MM-DD\n",
    "\n",
    "all_tweets = [tweet.text for tweet in tweets]\n",
    "all_tweets[:5]\n",
    "for tweet in all_tweets:\n",
    "    total_tweets.append(tweet)\n"
   ]
  },
  {
   "cell_type": "code",
   "execution_count": 63,
   "metadata": {},
   "outputs": [],
   "source": [
    "def remove_url(txt):\n",
    "    return \" \".join(re.sub(r'(http[^ ]*)|(www\\.[^ ]*)|[^0-9A-Za-z \\t]',\" \", txt).split())\n",
    "\n",
    "all_tweets_no_urls = []\n",
    "for tweet in total_tweets:\n",
    "    all_tweets_no_urls.append(remove_url(tweet))"
   ]
  },
  {
   "cell_type": "code",
   "execution_count": 64,
   "metadata": {},
   "outputs": [],
   "source": [
    "df = pd.DataFrame(all_tweets_no_urls,columns=['Tweet'])"
   ]
  },
  {
   "cell_type": "code",
   "execution_count": 65,
   "metadata": {},
   "outputs": [
    {
     "data": {
      "text/plain": [
       "280"
      ]
     },
     "execution_count": 65,
     "metadata": {},
     "output_type": "execute_result"
    }
   ],
   "source": [
    "#df\n",
    "len(df)"
   ]
  },
  {
   "cell_type": "code",
   "execution_count": 66,
   "metadata": {},
   "outputs": [
    {
     "data": {
      "text/plain": [
       "254"
      ]
     },
     "execution_count": 66,
     "metadata": {},
     "output_type": "execute_result"
    }
   ],
   "source": [
    "df.drop_duplicates(inplace=True)\n",
    "len(df)"
   ]
  },
  {
   "cell_type": "code",
   "execution_count": 67,
   "metadata": {},
   "outputs": [],
   "source": [
    "df.to_csv('C:\\\\Users\\\\Surendra\\\\OneDrive\\\\Desktop\\\\Capstone\\\\Capstone_2\\\\tweets_on_silkboard_traffic.csv', index = False)"
   ]
  },
  {
   "cell_type": "code",
   "execution_count": null,
   "metadata": {},
   "outputs": [],
   "source": []
  },
  {
   "cell_type": "code",
   "execution_count": 6,
   "metadata": {},
   "outputs": [],
   "source": [
    "\n",
    "def build_lex_dict(file):\n",
    "    ''' This method/Function will create a Lexicon dictionary'''\n",
    "    df = pd.read_csv(file,encoding='latin-1',header = None)\n",
    "    lex_resource = df.values\n",
    "    lex_dict = {}\n",
    "    for pair in lex_resource:\n",
    "        lex_dict[pair[0]] = pair[1]\n",
    "    return lex_dict\n",
    "\n",
    "def wordfreq(lst):\n",
    "    ''' This method will get the word frequency from the tokens'''\n",
    "    word_freq = {}\n",
    "    for tok in lst:\n",
    "        if tok.lower() in word_freq:\n",
    "            word_freq[tok.lower()]+=1\n",
    "        else:\n",
    "            word_freq[tok.lower()]=1\n",
    "    return word_freq\n",
    "\n",
    "\n",
    "def word_dict(word_dict):\n",
    "    ''' This method/function will sort the word dictionary in descending order of counts of each token'''\n",
    "    sorted_d = sorted(word_dict.items(), key=operator.itemgetter(1),reverse=True)\n",
    "#    print(sorted_d)\n",
    "\n",
    "    \n",
    "def sw_declare_removal(word_list):\n",
    "    all_stopwords = stopwords.words('english')     ## from NLTK library\n",
    "    spacy_stopwords = spacy.lang.en.stop_words.STOP_WORDS    ## from spacy\n",
    "#    tokens_without_sw = [word for word in word_list if not word in all_stopwords]  ## we can use this lambda expression also\n",
    "    sw = ['the','#','a','you','to','and','of','in','=','is','that','if','it','class=\"sister\"','can','for','or','as','this','<a',\n",
    "          'but','with','are','use','will','by','on','not','be','an','all','your','only','&','-','|','us','00','up','Rs','rs',\n",
    "          '00Rs','₹','rs.','speeches','was','me','so','my','have','had','i','at','our' ,'speech:',\"5\",\n",
    "          \"yourself\", \"yourselves\",\"#m60\",\"j17\",\"/\",\"sir\",\"m60\",\"bangalore\",\"traffic\",\"congestion\",\"details\",\"updated\",\"like\",\n",
    "         \"time\",\"anti\",\"need\",\"city\",\"u\",\"amp\",\"2\",'road']\n",
    "    all_stopwords.extend(sw)\n",
    "\n",
    "    word_list2 = {}\n",
    "    for word,v in word_list.items():\n",
    "        if word not in all_stopwords:\n",
    "            if word not in spacy_stopwords:\n",
    "                word_list2.update({word:v})\n",
    "    return word_list2\n",
    "        \n",
    "\n",
    "def freq_dist_plot(words):\n",
    "    ''' This method/Function is will plot a Frequency distribution plot for the word frequency'''\n",
    "    Freq_dist_nltk=nltk.FreqDist(words)\n",
    "    print(Freq_dist_nltk)\n",
    "    \n",
    "    sorted_d = sorted(Freq_dist_nltk.items(), key=operator.itemgetter(1),reverse=True)\n",
    "    Freq_dist_nltk.plot(25, cumulative=False)\n",
    "    return Freq_dist_nltk\n",
    " \n",
    "def bar_plot(word_list_new):   \n",
    "    sorted_d = sorted(word_list_new.items(), key=operator.itemgetter(1),reverse=True)\n",
    "    print(sorted_d[:15])\n",
    "    dict_of_words = dict(sorted_d[:15])\n",
    "    fig, ax = plt.subplots(figsize=(8, 4))\n",
    "    plt.bar(range(len(dict_of_words)), list(dict_of_words.values()),color=\"purple\")  #, align='center')\n",
    "    plt.xticks(range(len(dict_of_words)), list(dict_of_words.keys()),rotation=90)\n",
    "    ax.set_title(\"Frequent Words Found in Tweets\")\n",
    "    plt.show()\n",
    "    print(dict_of_words)\n",
    "    return dict_of_words\n",
    "\n",
    "    \n",
    "def wordcloud(Freq_dist_nltk):\n",
    "    ''' This method/Function will plot word cloud visualization'''\n",
    "#     wordcloud = WordCloud(width= 3000, height = 2000, random_state=1, \n",
    "#                           background_color='white', \n",
    "#                           #mask=np.array(Image.open('D:\\\\MBA\\\\Reva\\\\Module04_Text Analytics\\\\Twitter_Sentiment_Analysis\\\\twitter.png')), \n",
    "#                           colormap='rainbow', collocations=False).generate_from_frequencies(Freq_dist_nltk)\n",
    "    wordcloud = WordCloud().generate_from_frequencies(Freq_dist_nltk)\n",
    "    # Display the generated image:\n",
    "    # the matplotlib way:\n",
    "    plt.imshow(wordcloud, interpolation='bilinear')\n",
    "    plt.axis(\"off\")"
   ]
  },
  {
   "cell_type": "code",
   "execution_count": 7,
   "metadata": {},
   "outputs": [],
   "source": [
    "import numpy as np\n",
    "from PIL import Image\n",
    "import re\n",
    "\n",
    "def Visualize_URL(tweets_msg):\n",
    "    \n",
    "    total_words = []\n",
    "    for tweet in tweets_msg:\n",
    "        tweet = re.sub('silk board', 'silkboard', tweet)\n",
    "        tweet = re.sub('roads', 'road', tweet)\n",
    "        tweet = re.sub('traffic police', 'trafficpolice', tweet)\n",
    "        tweet = re.sub('traffic jam', 'traffic', tweet)\n",
    "        tweet = re.sub('jam', 'traffic', tweet)\n",
    "#        tweet = re.findall(r'\\bsilk board\\b|\\S+', s)\n",
    "        s1 = tweet.replace(',','').lower().split()\n",
    "        total_words.extend(s1)\n",
    "    \n",
    "    tokens = total_words\n",
    "    \n",
    "    ## Create Word frequencies\n",
    "    word_list = wordfreq(tokens)\n",
    "    \n",
    "    ### Stop word declare and removal\n",
    "    word_list_new = sw_declare_removal(word_list)\n",
    "        \n",
    "    ## Check the word list Dictionary in descending order by value\n",
    "    word_dict(word_list_new)\n",
    "    \n",
    "    ## Freq dist plot   \n",
    "    Freq_dist_nltk = freq_dist_plot(word_list_new)\n",
    "    \n",
    "    ## bar plot\n",
    "    dict_of_words = bar_plot(word_list_new)\n",
    "\n",
    "    # Create Word cloud Visualization\n",
    "    wordcloud(Freq_dist_nltk)\n",
    "    \n",
    "    return dict_of_words\n",
    "    \n",
    "    ## finding sentiment score\n",
    "    #sentiment = sentiment_analysis(tweets_msg)\n",
    "    #return sentiment"
   ]
  },
  {
   "cell_type": "code",
   "execution_count": 8,
   "metadata": {
    "scrolled": false
   },
   "outputs": [
    {
     "name": "stdout",
     "output_type": "stream",
     "text": [
      "<FreqDist with 1328 samples and 2086 outcomes>\n"
     ]
    },
    {
     "data": {
      "image/png": "[encoded data removed]",
      "text/plain": [
       "<Figure size 432x288 with 1 Axes>"
      ]
     },
     "metadata": {
      "needs_background": "light"
     },
     "output_type": "display_data"
    },
    {
     "name": "stdout",
     "output_type": "stream",
     "text": [
      "[('blrcitytraffic', 21), ('whitefield', 18), ('people', 16), ('hebbal', 11), ('bengaluru', 10), ('mumbai', 9), ('bsbommai', 9), ('police', 8), ('cmofkarnataka', 8), ('trafficpolice', 7), ('help', 7), ('bad', 7), ('stuck', 7), ('travel', 7), ('route', 7)]\n"
     ]
    },
    {
     "data": {
      "image/png": "[encoded data removed]",
      "text/plain": [
       "<Figure size 576x288 with 1 Axes>"
      ]
     },
     "metadata": {
      "needs_background": "light"
     },
     "output_type": "display_data"
    },
    {
     "name": "stdout",
     "output_type": "stream",
     "text": [
      "{'blrcitytraffic': 21, 'whitefield': 18, 'people': 16, 'hebbal': 11, 'bengaluru': 10, 'mumbai': 9, 'bsbommai': 9, 'police': 8, 'cmofkarnataka': 8, 'trafficpolice': 7, 'help': 7, 'bad': 7, 'stuck': 7, 'travel': 7, 'route': 7}\n"
     ]
    },
    {
     "data": {
      "text/plain": [
       "{'blrcitytraffic': 21,\n",
       " 'whitefield': 18,\n",
       " 'people': 16,\n",
       " 'hebbal': 11,\n",
       " 'bengaluru': 10,\n",
       " 'mumbai': 9,\n",
       " 'bsbommai': 9,\n",
       " 'police': 8,\n",
       " 'cmofkarnataka': 8,\n",
       " 'trafficpolice': 7,\n",
       " 'help': 7,\n",
       " 'bad': 7,\n",
       " 'stuck': 7,\n",
       " 'travel': 7,\n",
       " 'route': 7}"
      ]
     },
     "execution_count": 8,
     "metadata": {},
     "output_type": "execute_result"
    },
    {
     "data": {
      "image/png": "[encoded data removed]",
      "text/plain": [
       "<Figure size 432x288 with 1 Axes>"
      ]
     },
     "metadata": {
      "needs_background": "light"
     },
     "output_type": "display_data"
    }
   ],
   "source": [
    "# Generate a Sentiment analysis and word cloud image\n",
    "\n",
    "    # create Lexicon Dictionary\n",
    "file = 'C:\\\\Users\\\\Surendra\\\\OneDrive\\\\Desktop\\\\Capstone\\\\Capstone_2\\\\AFINN-111.csv'\n",
    "lexicon = build_lex_dict(file)\n",
    "\n",
    "df_text = pd.read_csv('C:\\\\Users\\\\Surendra\\\\OneDrive\\\\Desktop\\\\Capstone\\\\Capstone_2\\\\tweets_on_silkboard_traffic.csv')\n",
    "#df_text.head()\n",
    "\n",
    "tweets_msg = df_text['Tweet'].values\n",
    "#tweets\n",
    "\n",
    "URL_wordcloud = Visualize_URL(tweets_msg)\n",
    "#URL_wordcloud\n",
    "URL_wordcloud"
   ]
  },
  {
   "cell_type": "code",
   "execution_count": 9,
   "metadata": {},
   "outputs": [
    {
     "data": {
      "text/plain": [
       "[('blrcitytraffic', 21),\n",
       " ('whitefield', 18),\n",
       " ('people', 16),\n",
       " ('hebbal', 11),\n",
       " ('bengaluru', 10),\n",
       " ('mumbai', 9),\n",
       " ('bsbommai', 9),\n",
       " ('police', 8),\n",
       " ('cmofkarnataka', 8),\n",
       " ('trafficpolice', 7),\n",
       " ('help', 7),\n",
       " ('bad', 7),\n",
       " ('stuck', 7),\n",
       " ('travel', 7),\n",
       " ('route', 7)]"
      ]
     },
     "execution_count": 9,
     "metadata": {},
     "output_type": "execute_result"
    }
   ],
   "source": [
    "word_list = list(URL_wordcloud.items())\n",
    "word_list"
   ]
  },
  {
   "cell_type": "code",
   "execution_count": 10,
   "metadata": {},
   "outputs": [
    {
     "name": "stdout",
     "output_type": "stream",
     "text": [
      "INSERT INTO \"public\".\"wordfreqcount\"(\"word\",\"count\") VALUES(%s,%s)\n"
     ]
    }
   ],
   "source": [
    "# import psycopg2\n",
    "# import sys\n",
    "\n",
    "# def insert_freq_list(x):\n",
    "#     sql = '''INSERT INTO \"public\".\"wordfreqcount\"(\"word\",\"count\") VALUES(%s,%s)'''\n",
    "#     conn = psycopg2.connect(database=\"NRC_lex_capstone2\", user='postgres', password='passme@123', host='127.0.0.1', port= '5432'\n",
    "#         )\n",
    "#     print(sql)\n",
    "#     #Setting auto commit false\n",
    "#     conn.autocommit = True\n",
    "#     try:\n",
    "#         cur = conn.cursor()\n",
    "#         # execute the INSERT statement\n",
    "#         cur.executemany(sql,x)\n",
    "#         # commit the changes to the database\n",
    "#         conn.commit()\n",
    "#         # close communication with the database\n",
    "#         cur.close()\n",
    "#     except (Exception, psycopg2.DatabaseError) as error:\n",
    "#         print(error)\n",
    "#     finally:\n",
    "#         if conn is not None:\n",
    "#             conn.close()\n",
    "\n",
    "# if __name__ == '__main__':\n",
    "#     insert_freq_list(word_list)\n"
   ]
  },
  {
   "cell_type": "code",
   "execution_count": null,
   "metadata": {},
   "outputs": [],
   "source": []
  },
  {
   "cell_type": "code",
   "execution_count": null,
   "metadata": {},
   "outputs": [],
   "source": []
  },
  {
   "cell_type": "code",
   "execution_count": null,
   "metadata": {},
   "outputs": [],
   "source": []
  },
  {
   "cell_type": "code",
   "execution_count": 186,
   "metadata": {},
   "outputs": [],
   "source": [
    "# emolex_words = emolex_df.pivot(index='word', columns='emotion', values='association').reset_index()\n",
    "# emolex_words.head()"
   ]
  },
  {
   "cell_type": "code",
   "execution_count": 74,
   "metadata": {},
   "outputs": [],
   "source": [
    "import os, re, csv, json, sys, string\n",
    "import numpy as np\n",
    "import pandas as pd\n",
    "from collections import defaultdict, Counter\n",
    "\n",
    "import gzip\n",
    "\n",
    "from tqdm import tqdm\n",
    "\n",
    "import pickle as pkl\n",
    "from argparse import ArgumentParser\n",
    "import logging\n",
    "\n",
    "tqdm.pandas()"
   ]
  },
  {
   "cell_type": "code",
   "execution_count": 75,
   "metadata": {},
   "outputs": [
    {
     "data": {
      "text/plain": [
       "_StoreAction(option_strings=['--dataPath'], dest='dataPath', nargs=None, const=None, default=None, type=None, choices=None, help='path to CSV data file with texts', metavar=None)"
      ]
     },
     "execution_count": 75,
     "metadata": {},
     "output_type": "execute_result"
    },
    {
     "data": {
      "text/plain": [
       "_StoreAction(option_strings=['--lexPath'], dest='lexPath', nargs=None, const=None, default=None, type=None, choices=None, help='path to lexicon. CSV with columns \"word\" plus emotion columns', metavar=None)"
      ]
     },
     "execution_count": 75,
     "metadata": {},
     "output_type": "execute_result"
    },
    {
     "data": {
      "text/plain": [
       "_StoreAction(option_strings=['--lexNames'], dest='lexNames', nargs='*', const=None, default=None, type=<class 'str'>, choices=None, help='Names of the lexicons/column names in the lexicon CSV', metavar=None)"
      ]
     },
     "execution_count": 75,
     "metadata": {},
     "output_type": "execute_result"
    },
    {
     "data": {
      "text/plain": [
       "_StoreAction(option_strings=['--savePath'], dest='savePath', nargs=None, const=None, default=None, type=None, choices=None, help='path to save folder', metavar=None)"
      ]
     },
     "execution_count": 75,
     "metadata": {},
     "output_type": "execute_result"
    }
   ],
   "source": [
    "parser = ArgumentParser()\n",
    "parser.add_argument('--dataPath', help='path to CSV data file with texts')\n",
    "parser.add_argument('--lexPath', help='path to lexicon. CSV with columns \"word\" plus emotion columns')\n",
    "parser.add_argument('--lexNames', nargs=\"*\", type=str, help='Names of the lexicons/column names in the lexicon CSV')\n",
    "parser.add_argument('--savePath', help='path to save folder')"
   ]
  },
  {
   "cell_type": "code",
   "execution_count": 76,
   "metadata": {},
   "outputs": [],
   "source": [
    "\n",
    "def read_lexicon(path, LEXNAMES):\n",
    "    df = pd.read_csv(path)\n",
    "    df = df[~df['word'].isna()]\n",
    "    df = df[['word']+LEXNAMES]\n",
    "    df['word'] = [x.lower() for x in df['word']]\n",
    "    return df\n",
    "    # df = df[~df['val'].isna()]\n",
    "\n",
    "def prep_dim_lexicon(df, dim):\n",
    "    ldf = df[['word']+[dim]]\n",
    "    ldf = ldf[~ldf[dim].isna()]\n",
    "    ldf.drop_duplicates(subset=['word'], keep='first', inplace=True)\n",
    "    ldf[dim] = [float(x) for x in ldf[dim]]\n",
    "    ldf.rename({dim: 'val'}, axis='columns', inplace=True)\n",
    "    ldf.set_index('word', inplace=True)\n",
    "    return ldf\n",
    "\n",
    "def get_alpha(token):\n",
    "    return token.isalpha()\n",
    "\n",
    "\n",
    "def get_vals(twt, lexdf):\n",
    "    tt = twt.lower().split(\" \")\n",
    "    at = [w for w in tt if w.isalpha()]\n",
    "\n",
    "    pw = [x for x in tt if x in lexdf.index]\n",
    "    pv = [lexdf.loc[w]['val'] for w in pw]\n",
    "\n",
    "    numTokens = len(at)\n",
    "    numLexTokens = len(pw)\n",
    "    \n",
    "    avgLexVal = np.mean(pv)  #nan for 0 tokens\n",
    "    return [numTokens, numLexTokens, avgLexVal]\n",
    "\n",
    "\n",
    "def process_df(df, lexdf, LEXNAME):\n",
    "    logging.info(\"Number of rows: \" + str(len(df)))\n",
    "\n",
    "    resrows = [get_vals(x, lexdf) for x in df['Tweet']]\n",
    "    resrows = [x + y for x,y in zip(df.values.tolist(), resrows)]\n",
    "\n",
    "    resdf = pd.DataFrame(resrows, columns=df.columns.tolist() + ['numTokens', 'numLexTokens', 'avgLexVal'])\n",
    "    resdf['emotion'] = LEXNAME\n",
    "    resdf = resdf[resdf['numLexTokens']>=1]\n",
    "    resdf['lexRatio'] = resdf['numLexTokens']/resdf['numTokens']\n",
    "    return resdf\n",
    "\n"
   ]
  },
  {
   "cell_type": "code",
   "execution_count": 77,
   "metadata": {},
   "outputs": [],
   "source": [
    "def main(dataPath, LEXICON, LEXNAMES, savePath):\n",
    "\n",
    "    os.makedirs(savePath, exist_ok=True)\n",
    "\n",
    "    logfile = os.path.join(savePath, 'log.txt')\n",
    "\n",
    "    logging.basicConfig(filename=logfile, format='%(asctime)s - %(message)s',\n",
    "                    datefmt='%Y-%m-%d %H:%M:%S',\n",
    "                    level=logging.INFO)\n",
    "    \n",
    "    df = pd.read_csv(dataPath)\n",
    "\n",
    "    for LEXNAME in LEXNAMES:\n",
    "\n",
    "        lexdf = prep_dim_lexicon(LEXICON, LEXNAME)\n",
    "        lexdf.head(2)\n",
    "        logging.info(LEXNAME + \" lexicon length: \" + str(len(lexdf)))\n",
    "        resdf = process_df(df, lexdf, LEXNAME)\n",
    "    \n",
    "        resdf.to_csv(os.path.join(savePath, LEXNAME+'.csv'), index=False)"
   ]
  },
  {
   "cell_type": "code",
   "execution_count": 78,
   "metadata": {},
   "outputs": [
    {
     "name": "stderr",
     "output_type": "stream",
     "text": [
      "C:\\Users\\Surendra\\AppData\\Roaming\\Python\\Python38\\site-packages\\numpy\\core\\fromnumeric.py:3440: RuntimeWarning:\n",
      "\n",
      "Mean of empty slice.\n",
      "\n",
      "C:\\Users\\Surendra\\AppData\\Roaming\\Python\\Python38\\site-packages\\numpy\\core\\_methods.py:189: RuntimeWarning:\n",
      "\n",
      "invalid value encountered in double_scalars\n",
      "\n"
     ]
    }
   ],
   "source": [
    "if __name__=='__main__':\n",
    "    dataPath = 'C:\\\\Users\\\\Surendra\\\\OneDrive\\\\Desktop\\\\Capstone\\\\Capstone_2\\\\tweets_on_silkboard_traffic.csv'\n",
    "    #lexPath = 'D:\\\\MBA\\\\Reva\\\\Enterprise_Analytics\\\\Emotion_recognition\\\\emolex.csv'\n",
    "    #LEXNAMES = ['valence','dominance']\n",
    "    lexPath = 'C:\\\\Users\\\\Surendra\\\\OneDrive\\\\Desktop\\\\Capstone\\\\Capstone_2\\\\NRC-Emotion-Lexicon.csv'\n",
    "    LEXNAMES = ['positive','negative','anger','anticipation','disgust','fear','joy','sadness','surprise','trust']\n",
    "    LEXICON = read_lexicon(lexPath, LEXNAMES)\n",
    "    savePath = 'C:\\\\Users\\\\Surendra\\\\OneDrive\\\\Desktop\\\\Capstone\\\\Capstone_2\\\\output_emo'\n",
    "\n",
    "    main(dataPath, LEXICON, LEXNAMES, savePath)\n"
   ]
  },
  {
   "cell_type": "code",
   "execution_count": 6,
   "metadata": {},
   "outputs": [],
   "source": [
    "import nltk\n",
    "from nltk.corpus import stopwords\n",
    "#nltk.download('stopwords')\n",
    "%matplotlib inline\n",
    "import matplotlib.pyplot as plt \n",
    "import pandas as pd\n",
    "\n",
    "import re\n",
    "import os\n",
    "import spacy\n",
    "import en_core_web_sm\n",
    "#nlp = spacy.load(\"en_core_web_sm\")\n",
    "nlp = en_core_web_sm.load()\n",
    "spacy_stopwords = spacy.lang.en.stop_words.STOP_WORDS"
   ]
  },
  {
   "cell_type": "code",
   "execution_count": 7,
   "metadata": {},
   "outputs": [
    {
     "data": {
      "text/plain": [
       "254"
      ]
     },
     "execution_count": 7,
     "metadata": {},
     "output_type": "execute_result"
    },
    {
     "data": {
      "text/plain": [
       "254"
      ]
     },
     "execution_count": 7,
     "metadata": {},
     "output_type": "execute_result"
    }
   ],
   "source": [
    "df = pd.read_csv('C:\\\\Users\\\\Surendra\\\\OneDrive\\\\Desktop\\\\Capstone\\\\Capstone_2\\\\tweets_on_silkboard_traffic.csv')\n",
    "len(df)\n",
    "df.drop_duplicates(inplace=True)\n",
    "len(df)\n",
    "df['Tweet_lc'] = df['Tweet'].str.lower()\n",
    "tweets_msg = df['Tweet_lc'].values"
   ]
  },
  {
   "cell_type": "code",
   "execution_count": 8,
   "metadata": {},
   "outputs": [],
   "source": [
    "#---------- emotions on total tweets"
   ]
  },
  {
   "cell_type": "code",
   "execution_count": 9,
   "metadata": {},
   "outputs": [],
   "source": [
    "import json\n",
    "\n",
    "def get_emolex(file='C:\\\\Users\\\\Surendra\\\\OneDrive\\\\Desktop\\\\Capstone\\\\Capstone_2\\\\NRC-Emotion-Lexicon.json'):\n",
    "    f = open(file)\n",
    "    j = json.load(f)\n",
    "    f.close()\n",
    "    return j\n",
    "    \n",
    "from collections import Counter\n",
    "\n",
    "def emolex(text,lexicon):\n",
    "    text = text.split()\n",
    "    #print(text)\n",
    "    \n",
    "    total_word = len(text)\n",
    "    \n",
    "    emotions = {'anger':0,\n",
    "                'anticipation':0,\n",
    "                'disgust':0,\n",
    "                'fear':0,\n",
    "                'joy':0,\n",
    "                'sadness':0,\n",
    "                'surprise':0,\n",
    "                'trust':0,\n",
    "               'negative':0,\n",
    "               'positive':0}\n",
    "    words_with_emo = 0\n",
    "    affect_list = []\n",
    "    emotion_level = 0\n",
    "    affect_frequencies = Counter()\n",
    "    \n",
    "    for word in text:\n",
    "        if word in lexicon:\n",
    "            words_with_emo+=1\n",
    "            affect_list.append(word)\n",
    "            for emo in lexicon[word]:\n",
    "                emotion_level+=1\n",
    "                emotions[emo]+=1\n",
    "\n",
    "    return emotions, emotion_level, words_with_emo, total_word"
   ]
  },
  {
   "cell_type": "code",
   "execution_count": 10,
   "metadata": {},
   "outputs": [],
   "source": [
    "import spacy\n",
    "nlp = spacy.load(\"en_core_web_sm\")\n",
    "\n",
    "def normalize(text):\n",
    "    #text = text.lower()\n",
    "    text = text.replace('\\n','')\n",
    "    text = nlp(text)\n",
    "    \n",
    "    text = \" \".join([token.lemma_ for token in text if not (\n",
    "        token.is_stop or token.pos_ in ['PUNCT','advmod'])\n",
    "                    ])\n",
    "    \n",
    "    return text"
   ]
  },
  {
   "cell_type": "code",
   "execution_count": 11,
   "metadata": {},
   "outputs": [],
   "source": [
    "str_tweet = ','.join(df['Tweet_lc'])\n",
    "text = normalize(str_tweet)\n",
    "#text"
   ]
  },
  {
   "cell_type": "code",
   "execution_count": 12,
   "metadata": {},
   "outputs": [
    {
     "data": {
      "text/plain": [
       "({'anger': 62,\n",
       "  'anticipation': 100,\n",
       "  'disgust': 50,\n",
       "  'fear': 108,\n",
       "  'joy': 62,\n",
       "  'sadness': 75,\n",
       "  'surprise': 46,\n",
       "  'trust': 130,\n",
       "  'negative': 135,\n",
       "  'positive': 215},\n",
       " 983,\n",
       " 437,\n",
       " 2622)"
      ]
     },
     "execution_count": 12,
     "metadata": {},
     "output_type": "execute_result"
    }
   ],
   "source": [
    "emolexl = get_emolex()\n",
    "emotions = emolex(text,emolexl)\n",
    "emotions"
   ]
  },
  {
   "cell_type": "code",
   "execution_count": 13,
   "metadata": {},
   "outputs": [
    {
     "data": {
      "text/plain": [
       "{'anger': 62,\n",
       " 'anticipation': 100,\n",
       " 'disgust': 50,\n",
       " 'fear': 108,\n",
       " 'joy': 62,\n",
       " 'sadness': 75,\n",
       " 'surprise': 46,\n",
       " 'trust': 130,\n",
       " 'negative': 135,\n",
       " 'positive': 215}"
      ]
     },
     "execution_count": 13,
     "metadata": {},
     "output_type": "execute_result"
    },
    {
     "data": {
      "text/plain": [
       "[('anger', 62),\n",
       " ('anticipation', 100),\n",
       " ('disgust', 50),\n",
       " ('fear', 108),\n",
       " ('joy', 62),\n",
       " ('sadness', 75),\n",
       " ('surprise', 46),\n",
       " ('trust', 130),\n",
       " ('negative', 135),\n",
       " ('positive', 215)]"
      ]
     },
     "execution_count": 13,
     "metadata": {},
     "output_type": "execute_result"
    }
   ],
   "source": [
    "emotions[0]\n",
    "emotion_list = list(emotions[0].items())\n",
    "emotion_list"
   ]
  },
  {
   "cell_type": "code",
   "execution_count": 19,
   "metadata": {},
   "outputs": [
    {
     "data": {
      "text/plain": [
       "[('anger', 62),\n",
       " ('anticipation', 100),\n",
       " ('disgust', 50),\n",
       " ('fear', 108),\n",
       " ('joy', 62),\n",
       " ('sadness', 75),\n",
       " ('surprise', 46),\n",
       " ('trust', 130)]"
      ]
     },
     "execution_count": 19,
     "metadata": {},
     "output_type": "execute_result"
    }
   ],
   "source": [
    "emotion_list[:-2]"
   ]
  },
  {
   "cell_type": "code",
   "execution_count": 20,
   "metadata": {},
   "outputs": [
    {
     "name": "stdout",
     "output_type": "stream",
     "text": [
      "INSERT INTO \"public\".\"emotions\"(\"emotion\",\"count\") VALUES(%s,%s)\n"
     ]
    }
   ],
   "source": [
    "# import psycopg2\n",
    "# import sys\n",
    "\n",
    "# def insert_nrc_emotions(x):\n",
    "#     sql = '''INSERT INTO \"public\".\"emotions\"(\"emotion\",\"count\") VALUES(%s,%s)'''\n",
    "#     conn = psycopg2.connect(database=\"NRC_lex_capstone2\", user='postgres', password='passme@123', host='127.0.0.1', port= '5432'\n",
    "#         )\n",
    "#     print(sql)\n",
    "#     #Setting auto commit false\n",
    "#     conn.autocommit = True\n",
    "#     try:\n",
    "#         cur = conn.cursor()\n",
    "#         # execute the INSERT statement\n",
    "#         cur.executemany(sql,x)\n",
    "#         # commit the changes to the database\n",
    "#         conn.commit()\n",
    "#         # close communication with the database\n",
    "#         cur.close()\n",
    "#     except (Exception, psycopg2.DatabaseError) as error:\n",
    "#         print(error)\n",
    "#     finally:\n",
    "#         if conn is not None:\n",
    "#             conn.close()\n",
    "\n",
    "# if __name__ == '__main__':\n",
    "#     insert_nrc_emotions(emotion_list[:-2])"
   ]
  },
  {
   "cell_type": "code",
   "execution_count": 22,
   "metadata": {},
   "outputs": [
    {
     "data": {
      "text/plain": [
       "[('anger', 62),\n",
       " ('anticipation', 100),\n",
       " ('disgust', 50),\n",
       " ('fear', 108),\n",
       " ('joy', 62),\n",
       " ('sadness', 75),\n",
       " ('surprise', 46),\n",
       " ('trust', 130),\n",
       " ('negative', 135),\n",
       " ('positive', 215)]"
      ]
     },
     "execution_count": 22,
     "metadata": {},
     "output_type": "execute_result"
    },
    {
     "data": {
      "text/plain": [
       "{'anger': 62,\n",
       " 'anticipation': 100,\n",
       " 'disgust': 50,\n",
       " 'fear': 108,\n",
       " 'joy': 62,\n",
       " 'sadness': 75,\n",
       " 'surprise': 46,\n",
       " 'trust': 130}"
      ]
     },
     "execution_count": 22,
     "metadata": {},
     "output_type": "execute_result"
    }
   ],
   "source": [
    "emotion_list\n",
    "#emotion_class = dict(list(test_dict.items())[0: K])\n",
    "emotion_class = dict(emotion_list[0: 8])\n",
    "emotion_class"
   ]
  },
  {
   "cell_type": "code",
   "execution_count": 26,
   "metadata": {},
   "outputs": [
    {
     "data": {
      "application/vnd.plotly.v1+json": {
       "config": {
        "plotlyServerURL": "https://plot.ly"
       },
       "data": [
        {
         "alignmentgroup": "True",
         "hovertemplate": "Emotion Classification=%{y}<br>Emotion Count=%{x}<extra></extra>",
         "legendgroup": "trust",
         "marker": {
          "color": "#636efa"
         },
         "name": "trust",
         "offsetgroup": "trust",
         "orientation": "h",
         "showlegend": true,
         "textposition": "auto",
         "type": "bar",
         "x": [
          130
         ],
         "xaxis": "x",
         "y": [
          "trust"
         ],
         "yaxis": "y"
        },
        {
         "alignmentgroup": "True",
         "hovertemplate": "Emotion Classification=%{y}<br>Emotion Count=%{x}<extra></extra>",
         "legendgroup": "fear",
         "marker": {
          "color": "#EF553B"
         },
         "name": "fear",
         "offsetgroup": "fear",
         "orientation": "h",
         "showlegend": true,
         "textposition": "auto",
         "type": "bar",
         "x": [
          108
         ],
         "xaxis": "x",
         "y": [
          "fear"
         ],
         "yaxis": "y"
        },
        {
         "alignmentgroup": "True",
         "hovertemplate": "Emotion Classification=%{y}<br>Emotion Count=%{x}<extra></extra>",
         "legendgroup": "anticipation",
         "marker": {
          "color": "#00cc96"
         },
         "name": "anticipation",
         "offsetgroup": "anticipation",
         "orientation": "h",
         "showlegend": true,
         "textposition": "auto",
         "type": "bar",
         "x": [
          100
         ],
         "xaxis": "x",
         "y": [
          "anticipation"
         ],
         "yaxis": "y"
        },
        {
         "alignmentgroup": "True",
         "hovertemplate": "Emotion Classification=%{y}<br>Emotion Count=%{x}<extra></extra>",
         "legendgroup": "sadness",
         "marker": {
          "color": "#ab63fa"
         },
         "name": "sadness",
         "offsetgroup": "sadness",
         "orientation": "h",
         "showlegend": true,
         "textposition": "auto",
         "type": "bar",
         "x": [
          75
         ],
         "xaxis": "x",
         "y": [
          "sadness"
         ],
         "yaxis": "y"
        },
        {
         "alignmentgroup": "True",
         "hovertemplate": "Emotion Classification=%{y}<br>Emotion Count=%{x}<extra></extra>",
         "legendgroup": "anger",
         "marker": {
          "color": "#FFA15A"
         },
         "name": "anger",
         "offsetgroup": "anger",
         "orientation": "h",
         "showlegend": true,
         "textposition": "auto",
         "type": "bar",
         "x": [
          62
         ],
         "xaxis": "x",
         "y": [
          "anger"
         ],
         "yaxis": "y"
        },
        {
         "alignmentgroup": "True",
         "hovertemplate": "Emotion Classification=%{y}<br>Emotion Count=%{x}<extra></extra>",
         "legendgroup": "joy",
         "marker": {
          "color": "#19d3f3"
         },
         "name": "joy",
         "offsetgroup": "joy",
         "orientation": "h",
         "showlegend": true,
         "textposition": "auto",
         "type": "bar",
         "x": [
          62
         ],
         "xaxis": "x",
         "y": [
          "joy"
         ],
         "yaxis": "y"
        },
        {
         "alignmentgroup": "True",
         "hovertemplate": "Emotion Classification=%{y}<br>Emotion Count=%{x}<extra></extra>",
         "legendgroup": "disgust",
         "marker": {
          "color": "#FF6692"
         },
         "name": "disgust",
         "offsetgroup": "disgust",
         "orientation": "h",
         "showlegend": true,
         "textposition": "auto",
         "type": "bar",
         "x": [
          50
         ],
         "xaxis": "x",
         "y": [
          "disgust"
         ],
         "yaxis": "y"
        },
        {
         "alignmentgroup": "True",
         "hovertemplate": "Emotion Classification=%{y}<br>Emotion Count=%{x}<extra></extra>",
         "legendgroup": "surprise",
         "marker": {
          "color": "#B6E880"
         },
         "name": "surprise",
         "offsetgroup": "surprise",
         "orientation": "h",
         "showlegend": true,
         "textposition": "auto",
         "type": "bar",
         "x": [
          46
         ],
         "xaxis": "x",
         "y": [
          "surprise"
         ],
         "yaxis": "y"
        }
       ],
       "layout": {
        "barmode": "relative",
        "height": 400,
        "legend": {
         "title": {
          "text": "Emotion Classification"
         },
         "tracegroupgap": 0
        },
        "margin": {
         "t": 60
        },
        "template": {
         "data": {
          "bar": [
           {
            "error_x": {
             "color": "#2a3f5f"
            },
            "error_y": {
             "color": "#2a3f5f"
            },
            "marker": {
             "line": {
              "color": "#E5ECF6",
              "width": 0.5
             }
            },
            "type": "bar"
           }
          ],
          "barpolar": [
           {
            "marker": {
             "line": {
              "color": "#E5ECF6",
              "width": 0.5
             }
            },
            "type": "barpolar"
           }
          ],
          "carpet": [
           {
            "aaxis": {
             "endlinecolor": "#2a3f5f",
             "gridcolor": "white",
             "linecolor": "white",
             "minorgridcolor": "white",
             "startlinecolor": "#2a3f5f"
            },
            "baxis": {
             "endlinecolor": "#2a3f5f",
             "gridcolor": "white",
             "linecolor": "white",
             "minorgridcolor": "white",
             "startlinecolor": "#2a3f5f"
            },
            "type": "carpet"
           }
          ],
          "choropleth": [
           {
            "colorbar": {
             "outlinewidth": 0,
             "ticks": ""
            },
            "type": "choropleth"
           }
          ],
          "contour": [
           {
            "colorbar": {
             "outlinewidth": 0,
             "ticks": ""
            },
            "colorscale": [
             [
              0,
              "#0d0887"
             ],
             [
              0.1111111111111111,
              "#46039f"
             ],
             [
              0.2222222222222222,
              "#7201a8"
             ],
             [
              0.3333333333333333,
              "#9c179e"
             ],
             [
              0.4444444444444444,
              "#bd3786"
             ],
             [
              0.5555555555555556,
              "#d8576b"
             ],
             [
              0.6666666666666666,
              "#ed7953"
             ],
             [
              0.7777777777777778,
              "#fb9f3a"
             ],
             [
              0.8888888888888888,
              "#fdca26"
             ],
             [
              1,
              "#f0f921"
             ]
            ],
            "type": "contour"
           }
          ],
          "contourcarpet": [
           {
            "colorbar": {
             "outlinewidth": 0,
             "ticks": ""
            },
            "type": "contourcarpet"
           }
          ],
          "heatmap": [
           {
            "colorbar": {
             "outlinewidth": 0,
             "ticks": ""
            },
            "colorscale": [
             [
              0,
              "#0d0887"
             ],
             [
              0.1111111111111111,
              "#46039f"
             ],
             [
              0.2222222222222222,
              "#7201a8"
             ],
             [
              0.3333333333333333,
              "#9c179e"
             ],
             [
              0.4444444444444444,
              "#bd3786"
             ],
             [
              0.5555555555555556,
              "#d8576b"
             ],
             [
              0.6666666666666666,
              "#ed7953"
             ],
             [
              0.7777777777777778,
              "#fb9f3a"
             ],
             [
              0.8888888888888888,
              "#fdca26"
             ],
             [
              1,
              "#f0f921"
             ]
            ],
            "type": "heatmap"
           }
          ],
          "heatmapgl": [
           {
            "colorbar": {
             "outlinewidth": 0,
             "ticks": ""
            },
            "colorscale": [
             [
              0,
              "#0d0887"
             ],
             [
              0.1111111111111111,
              "#46039f"
             ],
             [
              0.2222222222222222,
              "#7201a8"
             ],
             [
              0.3333333333333333,
              "#9c179e"
             ],
             [
              0.4444444444444444,
              "#bd3786"
             ],
             [
              0.5555555555555556,
              "#d8576b"
             ],
             [
              0.6666666666666666,
              "#ed7953"
             ],
             [
              0.7777777777777778,
              "#fb9f3a"
             ],
             [
              0.8888888888888888,
              "#fdca26"
             ],
             [
              1,
              "#f0f921"
             ]
            ],
            "type": "heatmapgl"
           }
          ],
          "histogram": [
           {
            "marker": {
             "colorbar": {
              "outlinewidth": 0,
              "ticks": ""
             }
            },
            "type": "histogram"
           }
          ],
          "histogram2d": [
           {
            "colorbar": {
             "outlinewidth": 0,
             "ticks": ""
            },
            "colorscale": [
             [
              0,
              "#0d0887"
             ],
             [
              0.1111111111111111,
              "#46039f"
             ],
             [
              0.2222222222222222,
              "#7201a8"
             ],
             [
              0.3333333333333333,
              "#9c179e"
             ],
             [
              0.4444444444444444,
              "#bd3786"
             ],
             [
              0.5555555555555556,
              "#d8576b"
             ],
             [
              0.6666666666666666,
              "#ed7953"
             ],
             [
              0.7777777777777778,
              "#fb9f3a"
             ],
             [
              0.8888888888888888,
              "#fdca26"
             ],
             [
              1,
              "#f0f921"
             ]
            ],
            "type": "histogram2d"
           }
          ],
          "histogram2dcontour": [
           {
            "colorbar": {
             "outlinewidth": 0,
             "ticks": ""
            },
            "colorscale": [
             [
              0,
              "#0d0887"
             ],
             [
              0.1111111111111111,
              "#46039f"
             ],
             [
              0.2222222222222222,
              "#7201a8"
             ],
             [
              0.3333333333333333,
              "#9c179e"
             ],
             [
              0.4444444444444444,
              "#bd3786"
             ],
             [
              0.5555555555555556,
              "#d8576b"
             ],
             [
              0.6666666666666666,
              "#ed7953"
             ],
             [
              0.7777777777777778,
              "#fb9f3a"
             ],
             [
              0.8888888888888888,
              "#fdca26"
             ],
             [
              1,
              "#f0f921"
             ]
            ],
            "type": "histogram2dcontour"
           }
          ],
          "mesh3d": [
           {
            "colorbar": {
             "outlinewidth": 0,
             "ticks": ""
            },
            "type": "mesh3d"
           }
          ],
          "parcoords": [
           {
            "line": {
             "colorbar": {
              "outlinewidth": 0,
              "ticks": ""
             }
            },
            "type": "parcoords"
           }
          ],
          "pie": [
           {
            "automargin": true,
            "type": "pie"
           }
          ],
          "scatter": [
           {
            "marker": {
             "colorbar": {
              "outlinewidth": 0,
              "ticks": ""
             }
            },
            "type": "scatter"
           }
          ],
          "scatter3d": [
           {
            "line": {
             "colorbar": {
              "outlinewidth": 0,
              "ticks": ""
             }
            },
            "marker": {
             "colorbar": {
              "outlinewidth": 0,
              "ticks": ""
             }
            },
            "type": "scatter3d"
           }
          ],
          "scattercarpet": [
           {
            "marker": {
             "colorbar": {
              "outlinewidth": 0,
              "ticks": ""
             }
            },
            "type": "scattercarpet"
           }
          ],
          "scattergeo": [
           {
            "marker": {
             "colorbar": {
              "outlinewidth": 0,
              "ticks": ""
             }
            },
            "type": "scattergeo"
           }
          ],
          "scattergl": [
           {
            "marker": {
             "colorbar": {
              "outlinewidth": 0,
              "ticks": ""
             }
            },
            "type": "scattergl"
           }
          ],
          "scattermapbox": [
           {
            "marker": {
             "colorbar": {
              "outlinewidth": 0,
              "ticks": ""
             }
            },
            "type": "scattermapbox"
           }
          ],
          "scatterpolar": [
           {
            "marker": {
             "colorbar": {
              "outlinewidth": 0,
              "ticks": ""
             }
            },
            "type": "scatterpolar"
           }
          ],
          "scatterpolargl": [
           {
            "marker": {
             "colorbar": {
              "outlinewidth": 0,
              "ticks": ""
             }
            },
            "type": "scatterpolargl"
           }
          ],
          "scatterternary": [
           {
            "marker": {
             "colorbar": {
              "outlinewidth": 0,
              "ticks": ""
             }
            },
            "type": "scatterternary"
           }
          ],
          "surface": [
           {
            "colorbar": {
             "outlinewidth": 0,
             "ticks": ""
            },
            "colorscale": [
             [
              0,
              "#0d0887"
             ],
             [
              0.1111111111111111,
              "#46039f"
             ],
             [
              0.2222222222222222,
              "#7201a8"
             ],
             [
              0.3333333333333333,
              "#9c179e"
             ],
             [
              0.4444444444444444,
              "#bd3786"
             ],
             [
              0.5555555555555556,
              "#d8576b"
             ],
             [
              0.6666666666666666,
              "#ed7953"
             ],
             [
              0.7777777777777778,
              "#fb9f3a"
             ],
             [
              0.8888888888888888,
              "#fdca26"
             ],
             [
              1,
              "#f0f921"
             ]
            ],
            "type": "surface"
           }
          ],
          "table": [
           {
            "cells": {
             "fill": {
              "color": "#EBF0F8"
             },
             "line": {
              "color": "white"
             }
            },
            "header": {
             "fill": {
              "color": "#C8D4E3"
             },
             "line": {
              "color": "white"
             }
            },
            "type": "table"
           }
          ]
         },
         "layout": {
          "annotationdefaults": {
           "arrowcolor": "#2a3f5f",
           "arrowhead": 0,
           "arrowwidth": 1
          },
          "autotypenumbers": "strict",
          "coloraxis": {
           "colorbar": {
            "outlinewidth": 0,
            "ticks": ""
           }
          },
          "colorscale": {
           "diverging": [
            [
             0,
             "#8e0152"
            ],
            [
             0.1,
             "#c51b7d"
            ],
            [
             0.2,
             "#de77ae"
            ],
            [
             0.3,
             "#f1b6da"
            ],
            [
             0.4,
             "#fde0ef"
            ],
            [
             0.5,
             "#f7f7f7"
            ],
            [
             0.6,
             "#e6f5d0"
            ],
            [
             0.7,
             "#b8e186"
            ],
            [
             0.8,
             "#7fbc41"
            ],
            [
             0.9,
             "#4d9221"
            ],
            [
             1,
             "#276419"
            ]
           ],
           "sequential": [
            [
             0,
             "#0d0887"
            ],
            [
             0.1111111111111111,
             "#46039f"
            ],
            [
             0.2222222222222222,
             "#7201a8"
            ],
            [
             0.3333333333333333,
             "#9c179e"
            ],
            [
             0.4444444444444444,
             "#bd3786"
            ],
            [
             0.5555555555555556,
             "#d8576b"
            ],
            [
             0.6666666666666666,
             "#ed7953"
            ],
            [
             0.7777777777777778,
             "#fb9f3a"
            ],
            [
             0.8888888888888888,
             "#fdca26"
            ],
            [
             1,
             "#f0f921"
            ]
           ],
           "sequentialminus": [
            [
             0,
             "#0d0887"
            ],
            [
             0.1111111111111111,
             "#46039f"
            ],
            [
             0.2222222222222222,
             "#7201a8"
            ],
            [
             0.3333333333333333,
             "#9c179e"
            ],
            [
             0.4444444444444444,
             "#bd3786"
            ],
            [
             0.5555555555555556,
             "#d8576b"
            ],
            [
             0.6666666666666666,
             "#ed7953"
            ],
            [
             0.7777777777777778,
             "#fb9f3a"
            ],
            [
             0.8888888888888888,
             "#fdca26"
            ],
            [
             1,
             "#f0f921"
            ]
           ]
          },
          "colorway": [
           "#636efa",
           "#EF553B",
           "#00cc96",
           "#ab63fa",
           "#FFA15A",
           "#19d3f3",
           "#FF6692",
           "#B6E880",
           "#FF97FF",
           "#FECB52"
          ],
          "font": {
           "color": "#2a3f5f"
          },
          "geo": {
           "bgcolor": "white",
           "lakecolor": "white",
           "landcolor": "#E5ECF6",
           "showlakes": true,
           "showland": true,
           "subunitcolor": "white"
          },
          "hoverlabel": {
           "align": "left"
          },
          "hovermode": "closest",
          "mapbox": {
           "style": "light"
          },
          "paper_bgcolor": "white",
          "plot_bgcolor": "#E5ECF6",
          "polar": {
           "angularaxis": {
            "gridcolor": "white",
            "linecolor": "white",
            "ticks": ""
           },
           "bgcolor": "#E5ECF6",
           "radialaxis": {
            "gridcolor": "white",
            "linecolor": "white",
            "ticks": ""
           }
          },
          "scene": {
           "xaxis": {
            "backgroundcolor": "#E5ECF6",
            "gridcolor": "white",
            "gridwidth": 2,
            "linecolor": "white",
            "showbackground": true,
            "ticks": "",
            "zerolinecolor": "white"
           },
           "yaxis": {
            "backgroundcolor": "#E5ECF6",
            "gridcolor": "white",
            "gridwidth": 2,
            "linecolor": "white",
            "showbackground": true,
            "ticks": "",
            "zerolinecolor": "white"
           },
           "zaxis": {
            "backgroundcolor": "#E5ECF6",
            "gridcolor": "white",
            "gridwidth": 2,
            "linecolor": "white",
            "showbackground": true,
            "ticks": "",
            "zerolinecolor": "white"
           }
          },
          "shapedefaults": {
           "line": {
            "color": "#2a3f5f"
           }
          },
          "ternary": {
           "aaxis": {
            "gridcolor": "white",
            "linecolor": "white",
            "ticks": ""
           },
           "baxis": {
            "gridcolor": "white",
            "linecolor": "white",
            "ticks": ""
           },
           "bgcolor": "#E5ECF6",
           "caxis": {
            "gridcolor": "white",
            "linecolor": "white",
            "ticks": ""
           }
          },
          "title": {
           "x": 0.05
          },
          "xaxis": {
           "automargin": true,
           "gridcolor": "white",
           "linecolor": "white",
           "ticks": "",
           "title": {
            "standoff": 15
           },
           "zerolinecolor": "white",
           "zerolinewidth": 2
          },
          "yaxis": {
           "automargin": true,
           "gridcolor": "white",
           "linecolor": "white",
           "ticks": "",
           "title": {
            "standoff": 15
           },
           "zerolinecolor": "white",
           "zerolinewidth": 2
          }
         }
        },
        "width": 800,
        "xaxis": {
         "anchor": "y",
         "domain": [
          0,
          1
         ],
         "title": {
          "text": "Emotion Count"
         }
        },
        "yaxis": {
         "anchor": "x",
         "categoryarray": [
          "surprise",
          "disgust",
          "joy",
          "anger",
          "sadness",
          "anticipation",
          "fear",
          "trust"
         ],
         "categoryorder": "array",
         "domain": [
          0,
          1
         ],
         "title": {
          "text": "Emotion Classification"
         }
        }
       }
      },
      "text/html": [
       "<div>                            <div id=\"82a286f0-51d9-440b-b02c-5eda4384ad17\" class=\"plotly-graph-div\" style=\"height:400px; width:800px;\"></div>            <script type=\"text/javascript\">                require([\"plotly\"], function(Plotly) {                    window.PLOTLYENV=window.PLOTLYENV || {};                                    if (document.getElementById(\"82a286f0-51d9-440b-b02c-5eda4384ad17\")) {                    Plotly.newPlot(                        \"82a286f0-51d9-440b-b02c-5eda4384ad17\",                        [{\"alignmentgroup\": \"True\", \"hovertemplate\": \"Emotion Classification=%{y}<br>Emotion Count=%{x}<extra></extra>\", \"legendgroup\": \"trust\", \"marker\": {\"color\": \"#636efa\"}, \"name\": \"trust\", \"offsetgroup\": \"trust\", \"orientation\": \"h\", \"showlegend\": true, \"textposition\": \"auto\", \"type\": \"bar\", \"x\": [130], \"xaxis\": \"x\", \"y\": [\"trust\"], \"yaxis\": \"y\"}, {\"alignmentgroup\": \"True\", \"hovertemplate\": \"Emotion Classification=%{y}<br>Emotion Count=%{x}<extra></extra>\", \"legendgroup\": \"fear\", \"marker\": {\"color\": \"#EF553B\"}, \"name\": \"fear\", \"offsetgroup\": \"fear\", \"orientation\": \"h\", \"showlegend\": true, \"textposition\": \"auto\", \"type\": \"bar\", \"x\": [108], \"xaxis\": \"x\", \"y\": [\"fear\"], \"yaxis\": \"y\"}, {\"alignmentgroup\": \"True\", \"hovertemplate\": \"Emotion Classification=%{y}<br>Emotion Count=%{x}<extra></extra>\", \"legendgroup\": \"anticipation\", \"marker\": {\"color\": \"#00cc96\"}, \"name\": \"anticipation\", \"offsetgroup\": \"anticipation\", \"orientation\": \"h\", \"showlegend\": true, \"textposition\": \"auto\", \"type\": \"bar\", \"x\": [100], \"xaxis\": \"x\", \"y\": [\"anticipation\"], \"yaxis\": \"y\"}, {\"alignmentgroup\": \"True\", \"hovertemplate\": \"Emotion Classification=%{y}<br>Emotion Count=%{x}<extra></extra>\", \"legendgroup\": \"sadness\", \"marker\": {\"color\": \"#ab63fa\"}, \"name\": \"sadness\", \"offsetgroup\": \"sadness\", \"orientation\": \"h\", \"showlegend\": true, \"textposition\": \"auto\", \"type\": \"bar\", \"x\": [75], \"xaxis\": \"x\", \"y\": [\"sadness\"], \"yaxis\": \"y\"}, {\"alignmentgroup\": \"True\", \"hovertemplate\": \"Emotion Classification=%{y}<br>Emotion Count=%{x}<extra></extra>\", \"legendgroup\": \"anger\", \"marker\": {\"color\": \"#FFA15A\"}, \"name\": \"anger\", \"offsetgroup\": \"anger\", \"orientation\": \"h\", \"showlegend\": true, \"textposition\": \"auto\", \"type\": \"bar\", \"x\": [62], \"xaxis\": \"x\", \"y\": [\"anger\"], \"yaxis\": \"y\"}, {\"alignmentgroup\": \"True\", \"hovertemplate\": \"Emotion Classification=%{y}<br>Emotion Count=%{x}<extra></extra>\", \"legendgroup\": \"joy\", \"marker\": {\"color\": \"#19d3f3\"}, \"name\": \"joy\", \"offsetgroup\": \"joy\", \"orientation\": \"h\", \"showlegend\": true, \"textposition\": \"auto\", \"type\": \"bar\", \"x\": [62], \"xaxis\": \"x\", \"y\": [\"joy\"], \"yaxis\": \"y\"}, {\"alignmentgroup\": \"True\", \"hovertemplate\": \"Emotion Classification=%{y}<br>Emotion Count=%{x}<extra></extra>\", \"legendgroup\": \"disgust\", \"marker\": {\"color\": \"#FF6692\"}, \"name\": \"disgust\", \"offsetgroup\": \"disgust\", \"orientation\": \"h\", \"showlegend\": true, \"textposition\": \"auto\", \"type\": \"bar\", \"x\": [50], \"xaxis\": \"x\", \"y\": [\"disgust\"], \"yaxis\": \"y\"}, {\"alignmentgroup\": \"True\", \"hovertemplate\": \"Emotion Classification=%{y}<br>Emotion Count=%{x}<extra></extra>\", \"legendgroup\": \"surprise\", \"marker\": {\"color\": \"#B6E880\"}, \"name\": \"surprise\", \"offsetgroup\": \"surprise\", \"orientation\": \"h\", \"showlegend\": true, \"textposition\": \"auto\", \"type\": \"bar\", \"x\": [46], \"xaxis\": \"x\", \"y\": [\"surprise\"], \"yaxis\": \"y\"}],                        {\"barmode\": \"relative\", \"height\": 400, \"legend\": {\"title\": {\"text\": \"Emotion Classification\"}, \"tracegroupgap\": 0}, \"margin\": {\"t\": 60}, \"template\": {\"data\": {\"bar\": [{\"error_x\": {\"color\": \"#2a3f5f\"}, \"error_y\": {\"color\": \"#2a3f5f\"}, \"marker\": {\"line\": {\"color\": \"#E5ECF6\", \"width\": 0.5}}, \"type\": \"bar\"}], \"barpolar\": [{\"marker\": {\"line\": {\"color\": \"#E5ECF6\", \"width\": 0.5}}, \"type\": \"barpolar\"}], \"carpet\": [{\"aaxis\": {\"endlinecolor\": \"#2a3f5f\", \"gridcolor\": \"white\", \"linecolor\": \"white\", \"minorgridcolor\": \"white\", \"startlinecolor\": \"#2a3f5f\"}, \"baxis\": {\"endlinecolor\": \"#2a3f5f\", \"gridcolor\": \"white\", \"linecolor\": \"white\", \"minorgridcolor\": \"white\", \"startlinecolor\": \"#2a3f5f\"}, \"type\": \"carpet\"}], \"choropleth\": [{\"colorbar\": {\"outlinewidth\": 0, \"ticks\": \"\"}, \"type\": \"choropleth\"}], \"contour\": [{\"colorbar\": {\"outlinewidth\": 0, \"ticks\": \"\"}, \"colorscale\": [[0.0, \"#0d0887\"], [0.1111111111111111, \"#46039f\"], [0.2222222222222222, \"#7201a8\"], [0.3333333333333333, \"#9c179e\"], [0.4444444444444444, \"#bd3786\"], [0.5555555555555556, \"#d8576b\"], [0.6666666666666666, \"#ed7953\"], [0.7777777777777778, \"#fb9f3a\"], [0.8888888888888888, \"#fdca26\"], [1.0, \"#f0f921\"]], \"type\": \"contour\"}], \"contourcarpet\": [{\"colorbar\": {\"outlinewidth\": 0, \"ticks\": \"\"}, \"type\": \"contourcarpet\"}], \"heatmap\": [{\"colorbar\": {\"outlinewidth\": 0, \"ticks\": \"\"}, \"colorscale\": [[0.0, \"#0d0887\"], [0.1111111111111111, \"#46039f\"], [0.2222222222222222, \"#7201a8\"], [0.3333333333333333, \"#9c179e\"], [0.4444444444444444, \"#bd3786\"], [0.5555555555555556, \"#d8576b\"], [0.6666666666666666, \"#ed7953\"], [0.7777777777777778, \"#fb9f3a\"], [0.8888888888888888, \"#fdca26\"], [1.0, \"#f0f921\"]], \"type\": \"heatmap\"}], \"heatmapgl\": [{\"colorbar\": {\"outlinewidth\": 0, \"ticks\": \"\"}, \"colorscale\": [[0.0, \"#0d0887\"], [0.1111111111111111, \"#46039f\"], [0.2222222222222222, \"#7201a8\"], [0.3333333333333333, \"#9c179e\"], [0.4444444444444444, \"#bd3786\"], [0.5555555555555556, \"#d8576b\"], [0.6666666666666666, \"#ed7953\"], [0.7777777777777778, \"#fb9f3a\"], [0.8888888888888888, \"#fdca26\"], [1.0, \"#f0f921\"]], \"type\": \"heatmapgl\"}], \"histogram\": [{\"marker\": {\"colorbar\": {\"outlinewidth\": 0, \"ticks\": \"\"}}, \"type\": \"histogram\"}], \"histogram2d\": [{\"colorbar\": {\"outlinewidth\": 0, \"ticks\": \"\"}, \"colorscale\": [[0.0, \"#0d0887\"], [0.1111111111111111, \"#46039f\"], [0.2222222222222222, \"#7201a8\"], [0.3333333333333333, \"#9c179e\"], [0.4444444444444444, \"#bd3786\"], [0.5555555555555556, \"#d8576b\"], [0.6666666666666666, \"#ed7953\"], [0.7777777777777778, \"#fb9f3a\"], [0.8888888888888888, \"#fdca26\"], [1.0, \"#f0f921\"]], \"type\": \"histogram2d\"}], \"histogram2dcontour\": [{\"colorbar\": {\"outlinewidth\": 0, \"ticks\": \"\"}, \"colorscale\": [[0.0, \"#0d0887\"], [0.1111111111111111, \"#46039f\"], [0.2222222222222222, \"#7201a8\"], [0.3333333333333333, \"#9c179e\"], [0.4444444444444444, \"#bd3786\"], [0.5555555555555556, \"#d8576b\"], [0.6666666666666666, \"#ed7953\"], [0.7777777777777778, \"#fb9f3a\"], [0.8888888888888888, \"#fdca26\"], [1.0, \"#f0f921\"]], \"type\": \"histogram2dcontour\"}], \"mesh3d\": [{\"colorbar\": {\"outlinewidth\": 0, \"ticks\": \"\"}, \"type\": \"mesh3d\"}], \"parcoords\": [{\"line\": {\"colorbar\": {\"outlinewidth\": 0, \"ticks\": \"\"}}, \"type\": \"parcoords\"}], \"pie\": [{\"automargin\": true, \"type\": \"pie\"}], \"scatter\": [{\"marker\": {\"colorbar\": {\"outlinewidth\": 0, \"ticks\": \"\"}}, \"type\": \"scatter\"}], \"scatter3d\": [{\"line\": {\"colorbar\": {\"outlinewidth\": 0, \"ticks\": \"\"}}, \"marker\": {\"colorbar\": {\"outlinewidth\": 0, \"ticks\": \"\"}}, \"type\": \"scatter3d\"}], \"scattercarpet\": [{\"marker\": {\"colorbar\": {\"outlinewidth\": 0, \"ticks\": \"\"}}, \"type\": \"scattercarpet\"}], \"scattergeo\": [{\"marker\": {\"colorbar\": {\"outlinewidth\": 0, \"ticks\": \"\"}}, \"type\": \"scattergeo\"}], \"scattergl\": [{\"marker\": {\"colorbar\": {\"outlinewidth\": 0, \"ticks\": \"\"}}, \"type\": \"scattergl\"}], \"scattermapbox\": [{\"marker\": {\"colorbar\": {\"outlinewidth\": 0, \"ticks\": \"\"}}, \"type\": \"scattermapbox\"}], \"scatterpolar\": [{\"marker\": {\"colorbar\": {\"outlinewidth\": 0, \"ticks\": \"\"}}, \"type\": \"scatterpolar\"}], \"scatterpolargl\": [{\"marker\": {\"colorbar\": {\"outlinewidth\": 0, \"ticks\": \"\"}}, \"type\": \"scatterpolargl\"}], \"scatterternary\": [{\"marker\": {\"colorbar\": {\"outlinewidth\": 0, \"ticks\": \"\"}}, \"type\": \"scatterternary\"}], \"surface\": [{\"colorbar\": {\"outlinewidth\": 0, \"ticks\": \"\"}, \"colorscale\": [[0.0, \"#0d0887\"], [0.1111111111111111, \"#46039f\"], [0.2222222222222222, \"#7201a8\"], [0.3333333333333333, \"#9c179e\"], [0.4444444444444444, \"#bd3786\"], [0.5555555555555556, \"#d8576b\"], [0.6666666666666666, \"#ed7953\"], [0.7777777777777778, \"#fb9f3a\"], [0.8888888888888888, \"#fdca26\"], [1.0, \"#f0f921\"]], \"type\": \"surface\"}], \"table\": [{\"cells\": {\"fill\": {\"color\": \"#EBF0F8\"}, \"line\": {\"color\": \"white\"}}, \"header\": {\"fill\": {\"color\": \"#C8D4E3\"}, \"line\": {\"color\": \"white\"}}, \"type\": \"table\"}]}, \"layout\": {\"annotationdefaults\": {\"arrowcolor\": \"#2a3f5f\", \"arrowhead\": 0, \"arrowwidth\": 1}, \"autotypenumbers\": \"strict\", \"coloraxis\": {\"colorbar\": {\"outlinewidth\": 0, \"ticks\": \"\"}}, \"colorscale\": {\"diverging\": [[0, \"#8e0152\"], [0.1, \"#c51b7d\"], [0.2, \"#de77ae\"], [0.3, \"#f1b6da\"], [0.4, \"#fde0ef\"], [0.5, \"#f7f7f7\"], [0.6, \"#e6f5d0\"], [0.7, \"#b8e186\"], [0.8, \"#7fbc41\"], [0.9, \"#4d9221\"], [1, \"#276419\"]], \"sequential\": [[0.0, \"#0d0887\"], [0.1111111111111111, \"#46039f\"], [0.2222222222222222, \"#7201a8\"], [0.3333333333333333, \"#9c179e\"], [0.4444444444444444, \"#bd3786\"], [0.5555555555555556, \"#d8576b\"], [0.6666666666666666, \"#ed7953\"], [0.7777777777777778, \"#fb9f3a\"], [0.8888888888888888, \"#fdca26\"], [1.0, \"#f0f921\"]], \"sequentialminus\": [[0.0, \"#0d0887\"], [0.1111111111111111, \"#46039f\"], [0.2222222222222222, \"#7201a8\"], [0.3333333333333333, \"#9c179e\"], [0.4444444444444444, \"#bd3786\"], [0.5555555555555556, \"#d8576b\"], [0.6666666666666666, \"#ed7953\"], [0.7777777777777778, \"#fb9f3a\"], [0.8888888888888888, \"#fdca26\"], [1.0, \"#f0f921\"]]}, \"colorway\": [\"#636efa\", \"#EF553B\", \"#00cc96\", \"#ab63fa\", \"#FFA15A\", \"#19d3f3\", \"#FF6692\", \"#B6E880\", \"#FF97FF\", \"#FECB52\"], \"font\": {\"color\": \"#2a3f5f\"}, \"geo\": {\"bgcolor\": \"white\", \"lakecolor\": \"white\", \"landcolor\": \"#E5ECF6\", \"showlakes\": true, \"showland\": true, \"subunitcolor\": \"white\"}, \"hoverlabel\": {\"align\": \"left\"}, \"hovermode\": \"closest\", \"mapbox\": {\"style\": \"light\"}, \"paper_bgcolor\": \"white\", \"plot_bgcolor\": \"#E5ECF6\", \"polar\": {\"angularaxis\": {\"gridcolor\": \"white\", \"linecolor\": \"white\", \"ticks\": \"\"}, \"bgcolor\": \"#E5ECF6\", \"radialaxis\": {\"gridcolor\": \"white\", \"linecolor\": \"white\", \"ticks\": \"\"}}, \"scene\": {\"xaxis\": {\"backgroundcolor\": \"#E5ECF6\", \"gridcolor\": \"white\", \"gridwidth\": 2, \"linecolor\": \"white\", \"showbackground\": true, \"ticks\": \"\", \"zerolinecolor\": \"white\"}, \"yaxis\": {\"backgroundcolor\": \"#E5ECF6\", \"gridcolor\": \"white\", \"gridwidth\": 2, \"linecolor\": \"white\", \"showbackground\": true, \"ticks\": \"\", \"zerolinecolor\": \"white\"}, \"zaxis\": {\"backgroundcolor\": \"#E5ECF6\", \"gridcolor\": \"white\", \"gridwidth\": 2, \"linecolor\": \"white\", \"showbackground\": true, \"ticks\": \"\", \"zerolinecolor\": \"white\"}}, \"shapedefaults\": {\"line\": {\"color\": \"#2a3f5f\"}}, \"ternary\": {\"aaxis\": {\"gridcolor\": \"white\", \"linecolor\": \"white\", \"ticks\": \"\"}, \"baxis\": {\"gridcolor\": \"white\", \"linecolor\": \"white\", \"ticks\": \"\"}, \"bgcolor\": \"#E5ECF6\", \"caxis\": {\"gridcolor\": \"white\", \"linecolor\": \"white\", \"ticks\": \"\"}}, \"title\": {\"x\": 0.05}, \"xaxis\": {\"automargin\": true, \"gridcolor\": \"white\", \"linecolor\": \"white\", \"ticks\": \"\", \"title\": {\"standoff\": 15}, \"zerolinecolor\": \"white\", \"zerolinewidth\": 2}, \"yaxis\": {\"automargin\": true, \"gridcolor\": \"white\", \"linecolor\": \"white\", \"ticks\": \"\", \"title\": {\"standoff\": 15}, \"zerolinecolor\": \"white\", \"zerolinewidth\": 2}}}, \"width\": 800, \"xaxis\": {\"anchor\": \"y\", \"domain\": [0.0, 1.0], \"title\": {\"text\": \"Emotion Count\"}}, \"yaxis\": {\"anchor\": \"x\", \"categoryarray\": [\"surprise\", \"disgust\", \"joy\", \"anger\", \"sadness\", \"anticipation\", \"fear\", \"trust\"], \"categoryorder\": \"array\", \"domain\": [0.0, 1.0], \"title\": {\"text\": \"Emotion Classification\"}}},                        {\"responsive\": true}                    ).then(function(){\n",
       "                            \n",
       "var gd = document.getElementById('82a286f0-51d9-440b-b02c-5eda4384ad17');\n",
       "var x = new MutationObserver(function (mutations, observer) {{\n",
       "        var display = window.getComputedStyle(gd).display;\n",
       "        if (!display || display === 'none') {{\n",
       "            console.log([gd, 'removed!']);\n",
       "            Plotly.purge(gd);\n",
       "            observer.disconnect();\n",
       "        }}\n",
       "}});\n",
       "\n",
       "// Listen for the removal of the full notebook cells\n",
       "var notebookContainer = gd.closest('#notebook-container');\n",
       "if (notebookContainer) {{\n",
       "    x.observe(notebookContainer, {childList: true});\n",
       "}}\n",
       "\n",
       "// Listen for the clearing of the current output cell\n",
       "var outputEl = gd.closest('.output');\n",
       "if (outputEl) {{\n",
       "    x.observe(outputEl, {childList: true});\n",
       "}}\n",
       "\n",
       "                        })                };                });            </script>        </div>"
      ]
     },
     "metadata": {},
     "output_type": "display_data"
    }
   ],
   "source": [
    "emotion_df = pd.DataFrame.from_dict(emotion_class, orient='index')\n",
    "emotion_df = emotion_df.reset_index()\n",
    "emotion_df = emotion_df.rename(columns={'index' : 'Emotion Classification' , 0: 'Emotion Count'})\n",
    "emotion_df = emotion_df.sort_values(by=['Emotion Count'], ascending=False)\n",
    "import plotly.express as px\n",
    "fig = px.bar(emotion_df, x='Emotion Count', y='Emotion Classification', color = 'Emotion Classification', orientation='h', width = 800, height = 400)\n",
    "fig.show()"
   ]
  },
  {
   "cell_type": "code",
   "execution_count": 22,
   "metadata": {
    "scrolled": false
   },
   "outputs": [],
   "source": [
    "#text_object.load_token_list(list_of_tokens: list)\n",
    "\n",
    "\n",
    "#Return words list.\n",
    "#text_object.words\n",
    "\n",
    "\n",
    "#Return sentences list.\n",
    "#text_object.sentences\n",
    "\n",
    "\n",
    "#Return affect list.\n",
    "#text_object.affect_list\n",
    "\n",
    "\n",
    "#Return affect dictionary.\n",
    "#text_object.affect_dict\n",
    "\n",
    "\n",
    "#Return raw emotional counts.\n",
    "#text_object.raw_emotion_scores\n",
    "\n",
    "\n",
    "#Return highest emotions.\n",
    "#text_object.top_emotions\n",
    "\n",
    "\n",
    "#Return affect frequencies.\n",
    "#text_object.affect_frequencies"
   ]
  },
  {
   "cell_type": "code",
   "execution_count": null,
   "metadata": {},
   "outputs": [],
   "source": []
  },
  {
   "cell_type": "code",
   "execution_count": 67,
   "metadata": {},
   "outputs": [
    {
     "data": {
      "text/plain": [
       "{'fear': 0.11275626423690205,\n",
       " 'anger': 0.06719817767653759,\n",
       " 'anticip': 0.0,\n",
       " 'trust': 0.1275626423690205,\n",
       " 'surprise': 0.0489749430523918,\n",
       " 'positive': 0.2061503416856492,\n",
       " 'negative': 0.14123006833712984,\n",
       " 'sadness': 0.07972665148063782,\n",
       " 'disgust': 0.05466970387243736,\n",
       " 'joy': 0.06492027334851937,\n",
       " 'anticipation': 0.09681093394077449}"
      ]
     },
     "execution_count": 67,
     "metadata": {},
     "output_type": "execute_result"
    },
    {
     "data": {
      "text/plain": [
       "{'surprise': 0.0489749430523918,\n",
       " 'disgust': 0.05466970387243736,\n",
       " 'joy': 0.06492027334851937,\n",
       " 'anger': 0.06719817767653759,\n",
       " 'sadness': 0.07972665148063782,\n",
       " 'anticipation': 0.09681093394077449,\n",
       " 'fear': 0.11275626423690205,\n",
       " 'trust': 0.1275626423690205}"
      ]
     },
     "execution_count": 67,
     "metadata": {},
     "output_type": "execute_result"
    }
   ],
   "source": [
    "#pip install NRCLex\n",
    "from nrclex import NRCLex\n",
    "str_tweet = ','.join(df['Tweet'])\n",
    "#text_object = NRCLex(str_tweet)\n",
    "text = normalize(str_tweet)\n",
    "text_object = NRCLex(text)\n",
    "\n",
    "data = text_object.affect_frequencies\n",
    "\n",
    "# sort based on keys\n",
    "# emotion_freq_keys = sorted(data.keys())\n",
    "# sorted_emotion_freq = {}\n",
    "# for key in emotion_freq_keys:\n",
    "#     sorted_emotion_freq[key] = data[key]\n",
    "\n",
    "# sort based on values\n",
    "sorted_emo_freq = dict(sorted(data.items(), key=lambda item:item[1]))\n",
    "\n",
    "emo_freq_list = list(sorted_emo_freq.items())\n",
    "emotion_frequency = dict(emo_freq_list[1: 9])\n",
    "\n",
    "data\n",
    "emotion_frequency"
   ]
  },
  {
   "cell_type": "code",
   "execution_count": 70,
   "metadata": {},
   "outputs": [
    {
     "data": {
      "application/vnd.plotly.v1+json": {
       "config": {
        "plotlyServerURL": "https://plot.ly"
       },
       "data": [
        {
         "alignmentgroup": "True",
         "hovertemplate": "Emotion Frequency=%{marker.color}<br>Emotion Classification=%{y}<extra></extra>",
         "legendgroup": "",
         "marker": {
          "color": [
           0.0489749430523918,
           0.05466970387243736,
           0.06492027334851937,
           0.06719817767653759,
           0.07972665148063782,
           0.09681093394077449,
           0.11275626423690205,
           0.1275626423690205
          ],
          "coloraxis": "coloraxis"
         },
         "name": "",
         "offsetgroup": "",
         "orientation": "h",
         "showlegend": false,
         "textposition": "auto",
         "type": "bar",
         "x": [
          0.0489749430523918,
          0.05466970387243736,
          0.06492027334851937,
          0.06719817767653759,
          0.07972665148063782,
          0.09681093394077449,
          0.11275626423690205,
          0.1275626423690205
         ],
         "xaxis": "x",
         "y": [
          "surprise",
          "disgust",
          "joy",
          "anger",
          "sadness",
          "anticipation",
          "fear",
          "trust"
         ],
         "yaxis": "y"
        }
       ],
       "layout": {
        "barmode": "relative",
        "coloraxis": {
         "colorbar": {
          "title": {
           "text": "Emotion Frequency"
          }
         },
         "colorscale": [
          [
           0,
           "rgb(150,0,90)"
          ],
          [
           0.125,
           "rgb(0,0,200)"
          ],
          [
           0.25,
           "rgb(0,25,255)"
          ],
          [
           0.375,
           "rgb(0,152,255)"
          ],
          [
           0.5,
           "rgb(44,255,150)"
          ],
          [
           0.625,
           "rgb(151,255,0)"
          ],
          [
           0.75,
           "rgb(255,234,0)"
          ],
          [
           0.875,
           "rgb(255,111,0)"
          ],
          [
           1,
           "rgb(255,0,0)"
          ]
         ]
        },
        "height": 400,
        "legend": {
         "tracegroupgap": 0
        },
        "margin": {
         "t": 60
        },
        "template": {
         "data": {
          "bar": [
           {
            "error_x": {
             "color": "#2a3f5f"
            },
            "error_y": {
             "color": "#2a3f5f"
            },
            "marker": {
             "line": {
              "color": "#E5ECF6",
              "width": 0.5
             }
            },
            "type": "bar"
           }
          ],
          "barpolar": [
           {
            "marker": {
             "line": {
              "color": "#E5ECF6",
              "width": 0.5
             }
            },
            "type": "barpolar"
           }
          ],
          "carpet": [
           {
            "aaxis": {
             "endlinecolor": "#2a3f5f",
             "gridcolor": "white",
             "linecolor": "white",
             "minorgridcolor": "white",
             "startlinecolor": "#2a3f5f"
            },
            "baxis": {
             "endlinecolor": "#2a3f5f",
             "gridcolor": "white",
             "linecolor": "white",
             "minorgridcolor": "white",
             "startlinecolor": "#2a3f5f"
            },
            "type": "carpet"
           }
          ],
          "choropleth": [
           {
            "colorbar": {
             "outlinewidth": 0,
             "ticks": ""
            },
            "type": "choropleth"
           }
          ],
          "contour": [
           {
            "colorbar": {
             "outlinewidth": 0,
             "ticks": ""
            },
            "colorscale": [
             [
              0,
              "#0d0887"
             ],
             [
              0.1111111111111111,
              "#46039f"
             ],
             [
              0.2222222222222222,
              "#7201a8"
             ],
             [
              0.3333333333333333,
              "#9c179e"
             ],
             [
              0.4444444444444444,
              "#bd3786"
             ],
             [
              0.5555555555555556,
              "#d8576b"
             ],
             [
              0.6666666666666666,
              "#ed7953"
             ],
             [
              0.7777777777777778,
              "#fb9f3a"
             ],
             [
              0.8888888888888888,
              "#fdca26"
             ],
             [
              1,
              "#f0f921"
             ]
            ],
            "type": "contour"
           }
          ],
          "contourcarpet": [
           {
            "colorbar": {
             "outlinewidth": 0,
             "ticks": ""
            },
            "type": "contourcarpet"
           }
          ],
          "heatmap": [
           {
            "colorbar": {
             "outlinewidth": 0,
             "ticks": ""
            },
            "colorscale": [
             [
              0,
              "#0d0887"
             ],
             [
              0.1111111111111111,
              "#46039f"
             ],
             [
              0.2222222222222222,
              "#7201a8"
             ],
             [
              0.3333333333333333,
              "#9c179e"
             ],
             [
              0.4444444444444444,
              "#bd3786"
             ],
             [
              0.5555555555555556,
              "#d8576b"
             ],
             [
              0.6666666666666666,
              "#ed7953"
             ],
             [
              0.7777777777777778,
              "#fb9f3a"
             ],
             [
              0.8888888888888888,
              "#fdca26"
             ],
             [
              1,
              "#f0f921"
             ]
            ],
            "type": "heatmap"
           }
          ],
          "heatmapgl": [
           {
            "colorbar": {
             "outlinewidth": 0,
             "ticks": ""
            },
            "colorscale": [
             [
              0,
              "#0d0887"
             ],
             [
              0.1111111111111111,
              "#46039f"
             ],
             [
              0.2222222222222222,
              "#7201a8"
             ],
             [
              0.3333333333333333,
              "#9c179e"
             ],
             [
              0.4444444444444444,
              "#bd3786"
             ],
             [
              0.5555555555555556,
              "#d8576b"
             ],
             [
              0.6666666666666666,
              "#ed7953"
             ],
             [
              0.7777777777777778,
              "#fb9f3a"
             ],
             [
              0.8888888888888888,
              "#fdca26"
             ],
             [
              1,
              "#f0f921"
             ]
            ],
            "type": "heatmapgl"
           }
          ],
          "histogram": [
           {
            "marker": {
             "colorbar": {
              "outlinewidth": 0,
              "ticks": ""
             }
            },
            "type": "histogram"
           }
          ],
          "histogram2d": [
           {
            "colorbar": {
             "outlinewidth": 0,
             "ticks": ""
            },
            "colorscale": [
             [
              0,
              "#0d0887"
             ],
             [
              0.1111111111111111,
              "#46039f"
             ],
             [
              0.2222222222222222,
              "#7201a8"
             ],
             [
              0.3333333333333333,
              "#9c179e"
             ],
             [
              0.4444444444444444,
              "#bd3786"
             ],
             [
              0.5555555555555556,
              "#d8576b"
             ],
             [
              0.6666666666666666,
              "#ed7953"
             ],
             [
              0.7777777777777778,
              "#fb9f3a"
             ],
             [
              0.8888888888888888,
              "#fdca26"
             ],
             [
              1,
              "#f0f921"
             ]
            ],
            "type": "histogram2d"
           }
          ],
          "histogram2dcontour": [
           {
            "colorbar": {
             "outlinewidth": 0,
             "ticks": ""
            },
            "colorscale": [
             [
              0,
              "#0d0887"
             ],
             [
              0.1111111111111111,
              "#46039f"
             ],
             [
              0.2222222222222222,
              "#7201a8"
             ],
             [
              0.3333333333333333,
              "#9c179e"
             ],
             [
              0.4444444444444444,
              "#bd3786"
             ],
             [
              0.5555555555555556,
              "#d8576b"
             ],
             [
              0.6666666666666666,
              "#ed7953"
             ],
             [
              0.7777777777777778,
              "#fb9f3a"
             ],
             [
              0.8888888888888888,
              "#fdca26"
             ],
             [
              1,
              "#f0f921"
             ]
            ],
            "type": "histogram2dcontour"
           }
          ],
          "mesh3d": [
           {
            "colorbar": {
             "outlinewidth": 0,
             "ticks": ""
            },
            "type": "mesh3d"
           }
          ],
          "parcoords": [
           {
            "line": {
             "colorbar": {
              "outlinewidth": 0,
              "ticks": ""
             }
            },
            "type": "parcoords"
           }
          ],
          "pie": [
           {
            "automargin": true,
            "type": "pie"
           }
          ],
          "scatter": [
           {
            "marker": {
             "colorbar": {
              "outlinewidth": 0,
              "ticks": ""
             }
            },
            "type": "scatter"
           }
          ],
          "scatter3d": [
           {
            "line": {
             "colorbar": {
              "outlinewidth": 0,
              "ticks": ""
             }
            },
            "marker": {
             "colorbar": {
              "outlinewidth": 0,
              "ticks": ""
             }
            },
            "type": "scatter3d"
           }
          ],
          "scattercarpet": [
           {
            "marker": {
             "colorbar": {
              "outlinewidth": 0,
              "ticks": ""
             }
            },
            "type": "scattercarpet"
           }
          ],
          "scattergeo": [
           {
            "marker": {
             "colorbar": {
              "outlinewidth": 0,
              "ticks": ""
             }
            },
            "type": "scattergeo"
           }
          ],
          "scattergl": [
           {
            "marker": {
             "colorbar": {
              "outlinewidth": 0,
              "ticks": ""
             }
            },
            "type": "scattergl"
           }
          ],
          "scattermapbox": [
           {
            "marker": {
             "colorbar": {
              "outlinewidth": 0,
              "ticks": ""
             }
            },
            "type": "scattermapbox"
           }
          ],
          "scatterpolar": [
           {
            "marker": {
             "colorbar": {
              "outlinewidth": 0,
              "ticks": ""
             }
            },
            "type": "scatterpolar"
           }
          ],
          "scatterpolargl": [
           {
            "marker": {
             "colorbar": {
              "outlinewidth": 0,
              "ticks": ""
             }
            },
            "type": "scatterpolargl"
           }
          ],
          "scatterternary": [
           {
            "marker": {
             "colorbar": {
              "outlinewidth": 0,
              "ticks": ""
             }
            },
            "type": "scatterternary"
           }
          ],
          "surface": [
           {
            "colorbar": {
             "outlinewidth": 0,
             "ticks": ""
            },
            "colorscale": [
             [
              0,
              "#0d0887"
             ],
             [
              0.1111111111111111,
              "#46039f"
             ],
             [
              0.2222222222222222,
              "#7201a8"
             ],
             [
              0.3333333333333333,
              "#9c179e"
             ],
             [
              0.4444444444444444,
              "#bd3786"
             ],
             [
              0.5555555555555556,
              "#d8576b"
             ],
             [
              0.6666666666666666,
              "#ed7953"
             ],
             [
              0.7777777777777778,
              "#fb9f3a"
             ],
             [
              0.8888888888888888,
              "#fdca26"
             ],
             [
              1,
              "#f0f921"
             ]
            ],
            "type": "surface"
           }
          ],
          "table": [
           {
            "cells": {
             "fill": {
              "color": "#EBF0F8"
             },
             "line": {
              "color": "white"
             }
            },
            "header": {
             "fill": {
              "color": "#C8D4E3"
             },
             "line": {
              "color": "white"
             }
            },
            "type": "table"
           }
          ]
         },
         "layout": {
          "annotationdefaults": {
           "arrowcolor": "#2a3f5f",
           "arrowhead": 0,
           "arrowwidth": 1
          },
          "autotypenumbers": "strict",
          "coloraxis": {
           "colorbar": {
            "outlinewidth": 0,
            "ticks": ""
           }
          },
          "colorscale": {
           "diverging": [
            [
             0,
             "#8e0152"
            ],
            [
             0.1,
             "#c51b7d"
            ],
            [
             0.2,
             "#de77ae"
            ],
            [
             0.3,
             "#f1b6da"
            ],
            [
             0.4,
             "#fde0ef"
            ],
            [
             0.5,
             "#f7f7f7"
            ],
            [
             0.6,
             "#e6f5d0"
            ],
            [
             0.7,
             "#b8e186"
            ],
            [
             0.8,
             "#7fbc41"
            ],
            [
             0.9,
             "#4d9221"
            ],
            [
             1,
             "#276419"
            ]
           ],
           "sequential": [
            [
             0,
             "#0d0887"
            ],
            [
             0.1111111111111111,
             "#46039f"
            ],
            [
             0.2222222222222222,
             "#7201a8"
            ],
            [
             0.3333333333333333,
             "#9c179e"
            ],
            [
             0.4444444444444444,
             "#bd3786"
            ],
            [
             0.5555555555555556,
             "#d8576b"
            ],
            [
             0.6666666666666666,
             "#ed7953"
            ],
            [
             0.7777777777777778,
             "#fb9f3a"
            ],
            [
             0.8888888888888888,
             "#fdca26"
            ],
            [
             1,
             "#f0f921"
            ]
           ],
           "sequentialminus": [
            [
             0,
             "#0d0887"
            ],
            [
             0.1111111111111111,
             "#46039f"
            ],
            [
             0.2222222222222222,
             "#7201a8"
            ],
            [
             0.3333333333333333,
             "#9c179e"
            ],
            [
             0.4444444444444444,
             "#bd3786"
            ],
            [
             0.5555555555555556,
             "#d8576b"
            ],
            [
             0.6666666666666666,
             "#ed7953"
            ],
            [
             0.7777777777777778,
             "#fb9f3a"
            ],
            [
             0.8888888888888888,
             "#fdca26"
            ],
            [
             1,
             "#f0f921"
            ]
           ]
          },
          "colorway": [
           "#636efa",
           "#EF553B",
           "#00cc96",
           "#ab63fa",
           "#FFA15A",
           "#19d3f3",
           "#FF6692",
           "#B6E880",
           "#FF97FF",
           "#FECB52"
          ],
          "font": {
           "color": "#2a3f5f"
          },
          "geo": {
           "bgcolor": "white",
           "lakecolor": "white",
           "landcolor": "#E5ECF6",
           "showlakes": true,
           "showland": true,
           "subunitcolor": "white"
          },
          "hoverlabel": {
           "align": "left"
          },
          "hovermode": "closest",
          "mapbox": {
           "style": "light"
          },
          "paper_bgcolor": "white",
          "plot_bgcolor": "#E5ECF6",
          "polar": {
           "angularaxis": {
            "gridcolor": "white",
            "linecolor": "white",
            "ticks": ""
           },
           "bgcolor": "#E5ECF6",
           "radialaxis": {
            "gridcolor": "white",
            "linecolor": "white",
            "ticks": ""
           }
          },
          "scene": {
           "xaxis": {
            "backgroundcolor": "#E5ECF6",
            "gridcolor": "white",
            "gridwidth": 2,
            "linecolor": "white",
            "showbackground": true,
            "ticks": "",
            "zerolinecolor": "white"
           },
           "yaxis": {
            "backgroundcolor": "#E5ECF6",
            "gridcolor": "white",
            "gridwidth": 2,
            "linecolor": "white",
            "showbackground": true,
            "ticks": "",
            "zerolinecolor": "white"
           },
           "zaxis": {
            "backgroundcolor": "#E5ECF6",
            "gridcolor": "white",
            "gridwidth": 2,
            "linecolor": "white",
            "showbackground": true,
            "ticks": "",
            "zerolinecolor": "white"
           }
          },
          "shapedefaults": {
           "line": {
            "color": "#2a3f5f"
           }
          },
          "ternary": {
           "aaxis": {
            "gridcolor": "white",
            "linecolor": "white",
            "ticks": ""
           },
           "baxis": {
            "gridcolor": "white",
            "linecolor": "white",
            "ticks": ""
           },
           "bgcolor": "#E5ECF6",
           "caxis": {
            "gridcolor": "white",
            "linecolor": "white",
            "ticks": ""
           }
          },
          "title": {
           "x": 0.05
          },
          "xaxis": {
           "automargin": true,
           "gridcolor": "white",
           "linecolor": "white",
           "ticks": "",
           "title": {
            "standoff": 15
           },
           "zerolinecolor": "white",
           "zerolinewidth": 2
          },
          "yaxis": {
           "automargin": true,
           "gridcolor": "white",
           "linecolor": "white",
           "ticks": "",
           "title": {
            "standoff": 15
           },
           "zerolinecolor": "white",
           "zerolinewidth": 2
          }
         }
        },
        "width": 800,
        "xaxis": {
         "anchor": "y",
         "domain": [
          0,
          1
         ],
         "title": {
          "text": "Emotion Frequency"
         }
        },
        "yaxis": {
         "anchor": "x",
         "domain": [
          0,
          1
         ],
         "title": {
          "text": "Emotion Classification"
         }
        }
       }
      },
      "text/html": [
       "<div>                            <div id=\"475f4d64-d74c-41ce-9686-ba643b196591\" class=\"plotly-graph-div\" style=\"height:400px; width:800px;\"></div>            <script type=\"text/javascript\">                require([\"plotly\"], function(Plotly) {                    window.PLOTLYENV=window.PLOTLYENV || {};                                    if (document.getElementById(\"475f4d64-d74c-41ce-9686-ba643b196591\")) {                    Plotly.newPlot(                        \"475f4d64-d74c-41ce-9686-ba643b196591\",                        [{\"alignmentgroup\": \"True\", \"hovertemplate\": \"Emotion Frequency=%{marker.color}<br>Emotion Classification=%{y}<extra></extra>\", \"legendgroup\": \"\", \"marker\": {\"color\": [0.0489749430523918, 0.05466970387243736, 0.06492027334851937, 0.06719817767653759, 0.07972665148063782, 0.09681093394077449, 0.11275626423690205, 0.1275626423690205], \"coloraxis\": \"coloraxis\"}, \"name\": \"\", \"offsetgroup\": \"\", \"orientation\": \"h\", \"showlegend\": false, \"textposition\": \"auto\", \"type\": \"bar\", \"x\": [0.0489749430523918, 0.05466970387243736, 0.06492027334851937, 0.06719817767653759, 0.07972665148063782, 0.09681093394077449, 0.11275626423690205, 0.1275626423690205], \"xaxis\": \"x\", \"y\": [\"surprise\", \"disgust\", \"joy\", \"anger\", \"sadness\", \"anticipation\", \"fear\", \"trust\"], \"yaxis\": \"y\"}],                        {\"barmode\": \"relative\", \"coloraxis\": {\"colorbar\": {\"title\": {\"text\": \"Emotion Frequency\"}}, \"colorscale\": [[0.0, \"rgb(150,0,90)\"], [0.125, \"rgb(0,0,200)\"], [0.25, \"rgb(0,25,255)\"], [0.375, \"rgb(0,152,255)\"], [0.5, \"rgb(44,255,150)\"], [0.625, \"rgb(151,255,0)\"], [0.75, \"rgb(255,234,0)\"], [0.875, \"rgb(255,111,0)\"], [1.0, \"rgb(255,0,0)\"]]}, \"height\": 400, \"legend\": {\"tracegroupgap\": 0}, \"margin\": {\"t\": 60}, \"template\": {\"data\": {\"bar\": [{\"error_x\": {\"color\": \"#2a3f5f\"}, \"error_y\": {\"color\": \"#2a3f5f\"}, \"marker\": {\"line\": {\"color\": \"#E5ECF6\", \"width\": 0.5}}, \"type\": \"bar\"}], \"barpolar\": [{\"marker\": {\"line\": {\"color\": \"#E5ECF6\", \"width\": 0.5}}, \"type\": \"barpolar\"}], \"carpet\": [{\"aaxis\": {\"endlinecolor\": \"#2a3f5f\", \"gridcolor\": \"white\", \"linecolor\": \"white\", \"minorgridcolor\": \"white\", \"startlinecolor\": \"#2a3f5f\"}, \"baxis\": {\"endlinecolor\": \"#2a3f5f\", \"gridcolor\": \"white\", \"linecolor\": \"white\", \"minorgridcolor\": \"white\", \"startlinecolor\": \"#2a3f5f\"}, \"type\": \"carpet\"}], \"choropleth\": [{\"colorbar\": {\"outlinewidth\": 0, \"ticks\": \"\"}, \"type\": \"choropleth\"}], \"contour\": [{\"colorbar\": {\"outlinewidth\": 0, \"ticks\": \"\"}, \"colorscale\": [[0.0, \"#0d0887\"], [0.1111111111111111, \"#46039f\"], [0.2222222222222222, \"#7201a8\"], [0.3333333333333333, \"#9c179e\"], [0.4444444444444444, \"#bd3786\"], [0.5555555555555556, \"#d8576b\"], [0.6666666666666666, \"#ed7953\"], [0.7777777777777778, \"#fb9f3a\"], [0.8888888888888888, \"#fdca26\"], [1.0, \"#f0f921\"]], \"type\": \"contour\"}], \"contourcarpet\": [{\"colorbar\": {\"outlinewidth\": 0, \"ticks\": \"\"}, \"type\": \"contourcarpet\"}], \"heatmap\": [{\"colorbar\": {\"outlinewidth\": 0, \"ticks\": \"\"}, \"colorscale\": [[0.0, \"#0d0887\"], [0.1111111111111111, \"#46039f\"], [0.2222222222222222, \"#7201a8\"], [0.3333333333333333, \"#9c179e\"], [0.4444444444444444, \"#bd3786\"], [0.5555555555555556, \"#d8576b\"], [0.6666666666666666, \"#ed7953\"], [0.7777777777777778, \"#fb9f3a\"], [0.8888888888888888, \"#fdca26\"], [1.0, \"#f0f921\"]], \"type\": \"heatmap\"}], \"heatmapgl\": [{\"colorbar\": {\"outlinewidth\": 0, \"ticks\": \"\"}, \"colorscale\": [[0.0, \"#0d0887\"], [0.1111111111111111, \"#46039f\"], [0.2222222222222222, \"#7201a8\"], [0.3333333333333333, \"#9c179e\"], [0.4444444444444444, \"#bd3786\"], [0.5555555555555556, \"#d8576b\"], [0.6666666666666666, \"#ed7953\"], [0.7777777777777778, \"#fb9f3a\"], [0.8888888888888888, \"#fdca26\"], [1.0, \"#f0f921\"]], \"type\": \"heatmapgl\"}], \"histogram\": [{\"marker\": {\"colorbar\": {\"outlinewidth\": 0, \"ticks\": \"\"}}, \"type\": \"histogram\"}], \"histogram2d\": [{\"colorbar\": {\"outlinewidth\": 0, \"ticks\": \"\"}, \"colorscale\": [[0.0, \"#0d0887\"], [0.1111111111111111, \"#46039f\"], [0.2222222222222222, \"#7201a8\"], [0.3333333333333333, \"#9c179e\"], [0.4444444444444444, \"#bd3786\"], [0.5555555555555556, \"#d8576b\"], [0.6666666666666666, \"#ed7953\"], [0.7777777777777778, \"#fb9f3a\"], [0.8888888888888888, \"#fdca26\"], [1.0, \"#f0f921\"]], \"type\": \"histogram2d\"}], \"histogram2dcontour\": [{\"colorbar\": {\"outlinewidth\": 0, \"ticks\": \"\"}, \"colorscale\": [[0.0, \"#0d0887\"], [0.1111111111111111, \"#46039f\"], [0.2222222222222222, \"#7201a8\"], [0.3333333333333333, \"#9c179e\"], [0.4444444444444444, \"#bd3786\"], [0.5555555555555556, \"#d8576b\"], [0.6666666666666666, \"#ed7953\"], [0.7777777777777778, \"#fb9f3a\"], [0.8888888888888888, \"#fdca26\"], [1.0, \"#f0f921\"]], \"type\": \"histogram2dcontour\"}], \"mesh3d\": [{\"colorbar\": {\"outlinewidth\": 0, \"ticks\": \"\"}, \"type\": \"mesh3d\"}], \"parcoords\": [{\"line\": {\"colorbar\": {\"outlinewidth\": 0, \"ticks\": \"\"}}, \"type\": \"parcoords\"}], \"pie\": [{\"automargin\": true, \"type\": \"pie\"}], \"scatter\": [{\"marker\": {\"colorbar\": {\"outlinewidth\": 0, \"ticks\": \"\"}}, \"type\": \"scatter\"}], \"scatter3d\": [{\"line\": {\"colorbar\": {\"outlinewidth\": 0, \"ticks\": \"\"}}, \"marker\": {\"colorbar\": {\"outlinewidth\": 0, \"ticks\": \"\"}}, \"type\": \"scatter3d\"}], \"scattercarpet\": [{\"marker\": {\"colorbar\": {\"outlinewidth\": 0, \"ticks\": \"\"}}, \"type\": \"scattercarpet\"}], \"scattergeo\": [{\"marker\": {\"colorbar\": {\"outlinewidth\": 0, \"ticks\": \"\"}}, \"type\": \"scattergeo\"}], \"scattergl\": [{\"marker\": {\"colorbar\": {\"outlinewidth\": 0, \"ticks\": \"\"}}, \"type\": \"scattergl\"}], \"scattermapbox\": [{\"marker\": {\"colorbar\": {\"outlinewidth\": 0, \"ticks\": \"\"}}, \"type\": \"scattermapbox\"}], \"scatterpolar\": [{\"marker\": {\"colorbar\": {\"outlinewidth\": 0, \"ticks\": \"\"}}, \"type\": \"scatterpolar\"}], \"scatterpolargl\": [{\"marker\": {\"colorbar\": {\"outlinewidth\": 0, \"ticks\": \"\"}}, \"type\": \"scatterpolargl\"}], \"scatterternary\": [{\"marker\": {\"colorbar\": {\"outlinewidth\": 0, \"ticks\": \"\"}}, \"type\": \"scatterternary\"}], \"surface\": [{\"colorbar\": {\"outlinewidth\": 0, \"ticks\": \"\"}, \"colorscale\": [[0.0, \"#0d0887\"], [0.1111111111111111, \"#46039f\"], [0.2222222222222222, \"#7201a8\"], [0.3333333333333333, \"#9c179e\"], [0.4444444444444444, \"#bd3786\"], [0.5555555555555556, \"#d8576b\"], [0.6666666666666666, \"#ed7953\"], [0.7777777777777778, \"#fb9f3a\"], [0.8888888888888888, \"#fdca26\"], [1.0, \"#f0f921\"]], \"type\": \"surface\"}], \"table\": [{\"cells\": {\"fill\": {\"color\": \"#EBF0F8\"}, \"line\": {\"color\": \"white\"}}, \"header\": {\"fill\": {\"color\": \"#C8D4E3\"}, \"line\": {\"color\": \"white\"}}, \"type\": \"table\"}]}, \"layout\": {\"annotationdefaults\": {\"arrowcolor\": \"#2a3f5f\", \"arrowhead\": 0, \"arrowwidth\": 1}, \"autotypenumbers\": \"strict\", \"coloraxis\": {\"colorbar\": {\"outlinewidth\": 0, \"ticks\": \"\"}}, \"colorscale\": {\"diverging\": [[0, \"#8e0152\"], [0.1, \"#c51b7d\"], [0.2, \"#de77ae\"], [0.3, \"#f1b6da\"], [0.4, \"#fde0ef\"], [0.5, \"#f7f7f7\"], [0.6, \"#e6f5d0\"], [0.7, \"#b8e186\"], [0.8, \"#7fbc41\"], [0.9, \"#4d9221\"], [1, \"#276419\"]], \"sequential\": [[0.0, \"#0d0887\"], [0.1111111111111111, \"#46039f\"], [0.2222222222222222, \"#7201a8\"], [0.3333333333333333, \"#9c179e\"], [0.4444444444444444, \"#bd3786\"], [0.5555555555555556, \"#d8576b\"], [0.6666666666666666, \"#ed7953\"], [0.7777777777777778, \"#fb9f3a\"], [0.8888888888888888, \"#fdca26\"], [1.0, \"#f0f921\"]], \"sequentialminus\": [[0.0, \"#0d0887\"], [0.1111111111111111, \"#46039f\"], [0.2222222222222222, \"#7201a8\"], [0.3333333333333333, \"#9c179e\"], [0.4444444444444444, \"#bd3786\"], [0.5555555555555556, \"#d8576b\"], [0.6666666666666666, \"#ed7953\"], [0.7777777777777778, \"#fb9f3a\"], [0.8888888888888888, \"#fdca26\"], [1.0, \"#f0f921\"]]}, \"colorway\": [\"#636efa\", \"#EF553B\", \"#00cc96\", \"#ab63fa\", \"#FFA15A\", \"#19d3f3\", \"#FF6692\", \"#B6E880\", \"#FF97FF\", \"#FECB52\"], \"font\": {\"color\": \"#2a3f5f\"}, \"geo\": {\"bgcolor\": \"white\", \"lakecolor\": \"white\", \"landcolor\": \"#E5ECF6\", \"showlakes\": true, \"showland\": true, \"subunitcolor\": \"white\"}, \"hoverlabel\": {\"align\": \"left\"}, \"hovermode\": \"closest\", \"mapbox\": {\"style\": \"light\"}, \"paper_bgcolor\": \"white\", \"plot_bgcolor\": \"#E5ECF6\", \"polar\": {\"angularaxis\": {\"gridcolor\": \"white\", \"linecolor\": \"white\", \"ticks\": \"\"}, \"bgcolor\": \"#E5ECF6\", \"radialaxis\": {\"gridcolor\": \"white\", \"linecolor\": \"white\", \"ticks\": \"\"}}, \"scene\": {\"xaxis\": {\"backgroundcolor\": \"#E5ECF6\", \"gridcolor\": \"white\", \"gridwidth\": 2, \"linecolor\": \"white\", \"showbackground\": true, \"ticks\": \"\", \"zerolinecolor\": \"white\"}, \"yaxis\": {\"backgroundcolor\": \"#E5ECF6\", \"gridcolor\": \"white\", \"gridwidth\": 2, \"linecolor\": \"white\", \"showbackground\": true, \"ticks\": \"\", \"zerolinecolor\": \"white\"}, \"zaxis\": {\"backgroundcolor\": \"#E5ECF6\", \"gridcolor\": \"white\", \"gridwidth\": 2, \"linecolor\": \"white\", \"showbackground\": true, \"ticks\": \"\", \"zerolinecolor\": \"white\"}}, \"shapedefaults\": {\"line\": {\"color\": \"#2a3f5f\"}}, \"ternary\": {\"aaxis\": {\"gridcolor\": \"white\", \"linecolor\": \"white\", \"ticks\": \"\"}, \"baxis\": {\"gridcolor\": \"white\", \"linecolor\": \"white\", \"ticks\": \"\"}, \"bgcolor\": \"#E5ECF6\", \"caxis\": {\"gridcolor\": \"white\", \"linecolor\": \"white\", \"ticks\": \"\"}}, \"title\": {\"x\": 0.05}, \"xaxis\": {\"automargin\": true, \"gridcolor\": \"white\", \"linecolor\": \"white\", \"ticks\": \"\", \"title\": {\"standoff\": 15}, \"zerolinecolor\": \"white\", \"zerolinewidth\": 2}, \"yaxis\": {\"automargin\": true, \"gridcolor\": \"white\", \"linecolor\": \"white\", \"ticks\": \"\", \"title\": {\"standoff\": 15}, \"zerolinecolor\": \"white\", \"zerolinewidth\": 2}}}, \"width\": 800, \"xaxis\": {\"anchor\": \"y\", \"domain\": [0.0, 1.0], \"title\": {\"text\": \"Emotion Frequency\"}}, \"yaxis\": {\"anchor\": \"x\", \"domain\": [0.0, 1.0], \"title\": {\"text\": \"Emotion Classification\"}}},                        {\"responsive\": true}                    ).then(function(){\n",
       "                            \n",
       "var gd = document.getElementById('475f4d64-d74c-41ce-9686-ba643b196591');\n",
       "var x = new MutationObserver(function (mutations, observer) {{\n",
       "        var display = window.getComputedStyle(gd).display;\n",
       "        if (!display || display === 'none') {{\n",
       "            console.log([gd, 'removed!']);\n",
       "            Plotly.purge(gd);\n",
       "            observer.disconnect();\n",
       "        }}\n",
       "}});\n",
       "\n",
       "// Listen for the removal of the full notebook cells\n",
       "var notebookContainer = gd.closest('#notebook-container');\n",
       "if (notebookContainer) {{\n",
       "    x.observe(notebookContainer, {childList: true});\n",
       "}}\n",
       "\n",
       "// Listen for the clearing of the current output cell\n",
       "var outputEl = gd.closest('.output');\n",
       "if (outputEl) {{\n",
       "    x.observe(outputEl, {childList: true});\n",
       "}}\n",
       "\n",
       "                        })                };                });            </script>        </div>"
      ]
     },
     "metadata": {},
     "output_type": "display_data"
    }
   ],
   "source": [
    "emotion_df = pd.DataFrame.from_dict(emotion_frequency, orient='index')\n",
    "emotion_df = emotion_df.reset_index()\n",
    "emotion_df = emotion_df.rename(columns={'index' : 'Emotion Classification' , 0: 'Emotion Frequency'})\n",
    "emotion_df = emotion_df.sort_values(by=['Emotion Frequency'], ascending=True)\n",
    "import plotly.express as px\n",
    "fig = px.bar(emotion_df, x='Emotion Frequency', y='Emotion Classification', color = 'Emotion Frequency', \n",
    "             orientation='h', width = 800, height = 400,  color_continuous_scale='rainbow')\n",
    "fig.show()"
   ]
  },
  {
   "cell_type": "code",
   "execution_count": 73,
   "metadata": {},
   "outputs": [
    {
     "name": "stdout",
     "output_type": "stream",
     "text": [
      "INSERT INTO \"public\".\"emotions_freq\"(\"emotion\",\"frequency\") VALUES(%s,%s)\n"
     ]
    }
   ],
   "source": [
    "# import psycopg2\n",
    "# import sys\n",
    "\n",
    "# def insert_nrc_emotions(x):\n",
    "#     sql = '''INSERT INTO \"public\".\"emotions_freq\"(\"emotion\",\"frequency\") VALUES(%s,%s)'''\n",
    "#     conn = psycopg2.connect(database=\"NRC_lex_capstone2\", user='postgres', password='passme@123', host='127.0.0.1', port= '5432'\n",
    "#         )\n",
    "#     print(sql)\n",
    "#     #Setting auto commit false\n",
    "#     conn.autocommit = True\n",
    "#     try:\n",
    "#         cur = conn.cursor()\n",
    "#         # execute the INSERT statement\n",
    "#         cur.executemany(sql,x)\n",
    "#         # commit the changes to the database\n",
    "#         conn.commit()\n",
    "#         # close communication with the database\n",
    "#         cur.close()\n",
    "#     except (Exception, psycopg2.DatabaseError) as error:\n",
    "#         print(error)\n",
    "#     finally:\n",
    "#         if conn is not None:\n",
    "#             conn.close()\n",
    "\n",
    "# if __name__ == '__main__':\n",
    "#     insert_nrc_emotions(emo_freq_list[1:-2])\n"
   ]
  },
  {
   "cell_type": "code",
   "execution_count": 26,
   "metadata": {},
   "outputs": [
    {
     "data": {
      "text/plain": [
       "[('positive', 0.20817843866171004)]"
      ]
     },
     "execution_count": 26,
     "metadata": {},
     "output_type": "execute_result"
    }
   ],
   "source": [
    "#Return highest emotions.\n",
    "text_object.top_emotions"
   ]
  },
  {
   "cell_type": "code",
   "execution_count": null,
   "metadata": {},
   "outputs": [],
   "source": []
  },
  {
   "cell_type": "code",
   "execution_count": 3,
   "metadata": {},
   "outputs": [],
   "source": [
    "from nrclex import NRCLex"
   ]
  },
  {
   "cell_type": "code",
   "execution_count": 4,
   "metadata": {},
   "outputs": [],
   "source": [
    "from string import punctuation\n",
    "stopwordss = stopwords.words('english')\n",
    "stopwordss+=punctuation+','+'.'"
   ]
  },
  {
   "cell_type": "code",
   "execution_count": 6,
   "metadata": {},
   "outputs": [],
   "source": [
    "# nltk\n",
    "from nltk.corpus import stopwords,wordnet\n",
    "from nltk import pos_tag,word_tokenize\n",
    "from nltk.stem import WordNetLemmatizer\n",
    "lemmatizer = WordNetLemmatizer()"
   ]
  },
  {
   "cell_type": "code",
   "execution_count": 7,
   "metadata": {},
   "outputs": [],
   "source": [
    "def get_simple_pos(tag):\n",
    "    if tag.startswith('J'):\n",
    "        return wordnet.ADJ\n",
    "    elif tag.startswith(\"V\"):\n",
    "        return wordnet.VERB\n",
    "    elif tag.startswith('N'):\n",
    "        return wordnet.NOUN\n",
    "    elif tag.startswith('R'):\n",
    "        return wordnet.ADV\n",
    "    else:\n",
    "        return wordnet.NOUN"
   ]
  },
  {
   "cell_type": "code",
   "execution_count": 8,
   "metadata": {},
   "outputs": [
    {
     "data": {
      "text/plain": [
       "254"
      ]
     },
     "execution_count": 8,
     "metadata": {},
     "output_type": "execute_result"
    },
    {
     "data": {
      "text/plain": [
       "254"
      ]
     },
     "execution_count": 8,
     "metadata": {},
     "output_type": "execute_result"
    }
   ],
   "source": [
    "df = pd.read_csv('C:\\\\Users\\\\Surendra\\\\OneDrive\\\\Desktop\\\\Capstone\\\\Capstone_2\\\\tweets_on_silkboard_traffic.csv')\n",
    "len(df)\n",
    "df.drop_duplicates(inplace=True)\n",
    "len(df)\n",
    "df['Tweet_lc'] = df['Tweet'].str.lower()\n",
    "tweets_msg = df['Tweet_lc'].values"
   ]
  },
  {
   "cell_type": "code",
   "execution_count": 10,
   "metadata": {},
   "outputs": [
    {
     "data": {
      "text/plain": [
       "254"
      ]
     },
     "execution_count": 10,
     "metadata": {},
     "output_type": "execute_result"
    }
   ],
   "source": [
    "df.shape[0]"
   ]
  },
  {
   "cell_type": "code",
   "execution_count": 12,
   "metadata": {},
   "outputs": [],
   "source": [
    "tweets = []\n",
    "for i in range(df.shape[0]):\n",
    "    tweet = ''\n",
    "    tw = df['Tweet_lc'][i]\n",
    "    for j in range(len(tw)):\n",
    "        det_rev = tw[j]['review_body']\n",
    "        for word in det_rev.strip().split(' '):\n",
    "            if word.lower() not in stopwordss and (len(word)>3):\n",
    "                pos = pos_tag([word])\n",
    "                clean_word = lemmatizer.lemmatize(word,pos=get_simple_pos(pos[0][1]))\n",
    "                tweet += ' ' + clean_word.replace('.','').replace(',','').replace('\"','').replace('”','').lower()\n",
    "    tweets.append(tweet)"
   ]
  },
  {
   "cell_type": "code",
   "execution_count": 15,
   "metadata": {},
   "outputs": [
    {
     "name": "stderr",
     "output_type": "stream",
     "text": [
      "[nltk_data] Downloading package averaged_perceptron_tagger to\n",
      "[nltk_data]     C:\\Users\\Surendra\\AppData\\Roaming\\nltk_data...\n",
      "[nltk_data]   Unzipping taggers\\averaged_perceptron_tagger.zip.\n"
     ]
    },
    {
     "data": {
      "text/plain": [
       "True"
      ]
     },
     "execution_count": 15,
     "metadata": {},
     "output_type": "execute_result"
    }
   ],
   "source": [
    "# import nltk\n",
    "# nltk.download('averaged_perceptron_tagger')"
   ]
  },
  {
   "cell_type": "code",
   "execution_count": 16,
   "metadata": {},
   "outputs": [],
   "source": [
    "tweets = []\n",
    "for i in range(df.shape[0]):\n",
    "    tweet = ''\n",
    "    tw = df['Tweet_lc'][i]\n",
    "    for word in tw.strip().split(' '):\n",
    "        if word.lower() not in stopwordss and (len(word)>3):\n",
    "            pos = pos_tag([word])\n",
    "            clean_word = lemmatizer.lemmatize(word,pos=get_simple_pos(pos[0][1]))\n",
    "            tweet += ' ' + clean_word.replace('.','').replace(',','').replace('\"','').replace('”','').lower()\n",
    "    tweets.append(tweet)"
   ]
  },
  {
   "cell_type": "code",
   "execution_count": 17,
   "metadata": {},
   "outputs": [
    {
     "data": {
      "text/plain": [
       "[' silkboard traffic death',\n",
       " ' capital traffic bangalore silk board miss reel strongly condemn baava silkboard',\n",
       " ' suryapsingh32 satishacharya traffic first talk hyderabad cross entire telangana',\n",
       " ' always crack silkboard traffic joke never live city call mumbai',\n",
       " ' bangalore richer average traffic police',\n",
       " ' vandanajain precisely bangalore people would caught dead move find',\n",
       " ' need help narendramodi pmoindia bangalore commissioner police bangalore traffic commissioner police',\n",
       " ' vinodblru rajdugar dyamannavar anil lulla swrrly southernrailway christinmp captsanthoshkc',\n",
       " ' bangaloretrafficpolice bangaloretraffic bangalore place entry sign either place high hidd',\n",
       " ' return back bangalore post week live project stint mobility issue beyond',\n",
       " ' bangaloremirror intresting hope implement ground responsibly hope bangalore traffic officer rise',\n",
       " ' bangalore without long traffic heaven',\n",
       " ' actually road high bangalore bad road also bangalore father die',\n",
       " ' rapido anna discuss stock market government system call life rich poor metro traffi',\n",
       " ' bangalore traffic term people people lack basic civic sense parking vehicle properly',\n",
       " ' bsbommai bbmpcomm city admin need ease traffic congestion bangalore instead',\n",
       " ' ibeingaman stuck bangalore traffic mummy scold use mobile love sidnaaz much stay',\n",
       " ' ooty freedom drive bangalore traffic enjoy pollution free environment',\n",
       " ' clip live coverage opportunity speak briefly live coverage bangalore traff',\n",
       " ' hondacarindia ooty freedom drive bangalore traffic enjoy pollution free envir',\n",
       " ' side prasad give back society receive encouragement give back',\n",
       " ' eriksolheim travel last 80km bangalore chennai lane highway totally pathetic year',\n",
       " ' bangalore traffic facilitate marriage breakup witness settle score driver',\n",
       " ' amitabhk87 morthindia silver county road hosa road bangalore kayn banwayega 10000 people',\n",
       " ' say right personally experienced compare north city bangalore best way',\n",
       " ' cloud traffic seem common bangalore',\n",
       " ' little thing happy bangalore stuck traffic island',\n",
       " ' cmofkarnataka tvmohandaspai bsbommai hope well road traffic management bangalore',\n",
       " ' importance polite accord recent study operational stressor amongst traffic police officer',\n",
       " ' bangalore traffic police electronic city express toll less 60kmph speed check alert',\n",
       " ' dkshivakumar bangalore proper road full traffic flood situation',\n",
       " ' bangalore last week experience climate good feel dehydrate',\n",
       " ' offtejasvisurya vijalgope narendramodi namaskaram young blood please help solve',\n",
       " ' cmofkarnataka bsbommai remember decade say transform bangalore singa',\n",
       " ' kingjaanu feel glimpse bangalore traffic chaos route',\n",
       " ' anoopxh also thing like polish school tie tie think difference might happen',\n",
       " ' kushal mehra compare mumbai bangalore rank four least traffic',\n",
       " ' delayed land acquisition cost increase delayed decade please expedite',\n",
       " ' stay optimistic difficult bangalore traffic life break',\n",
       " ' rail line overbridge help ease road traffic absurd clear indigenous tree build hangar',\n",
       " ' cryptic miind bangalore govt guy road pothole amount',\n",
       " ' bangalore rain crazy traffic',\n",
       " ' bjp4karnataka nitin gadkari bsbommai chance bangalore road infrastructure world',\n",
       " ' cant give perfect traffic bangalore',\n",
       " ' blrcitytraffic wrongly fin traffic violation 24th july 2022 notice number 50601725',\n",
       " ' hardest part live bangalore frustrate weekday wait weekend chill',\n",
       " ' gurugram trafficggm police haryana dgpharyana cmohry please introduce system whereby alert sent gener',\n",
       " ' trafficggm police haryana dgpharyana please introduce system whereby alert sent general public mobil',\n",
       " ' bangalore girl traffic issue bridge built befriend date married',\n",
       " ' marinebharat imagine bangalore without traffic best city world',\n",
       " ' bengaluru traffic police importance polite blrcitypolice blrcitytraffic bangaloremirror',\n",
       " ' puneet place love hate much love city india league chennai',\n",
       " ' delhi bangalore hour rain traffic jam everywhere',\n",
       " ' shlokasspam yashkukreja98 also bangalore traffic even bad spell dude',\n",
       " ' found literally traffic benson town road itsagoodday bangalore',\n",
       " ' trafficpolicalert bangalore body camera traffic police good probably',\n",
       " ' tech site resort breakfast near pool drink dance night plan early morning trek',\n",
       " ' followaanchal avoid go saturday traffic bangalore bad saturday',\n",
       " ' cheemskarni road traffic suggest karnataka govt remodel bangalore venice',\n",
       " ' allahabad gurugram mumbai bangalore city face infra crisis hurtle crisis anot',\n",
       " ' bira boom give boomwalifeeling bike cross kmph bangalore traffic',\n",
       " ' heat dust smoke negative comment public leave traffic police officer perturb',\n",
       " ' varungandhi80 bangalore entire country rain bring water log street',\n",
       " ' bangalore people crib traffic meanwhile people mumbai take train rickshaw reach',\n",
       " ' harsha vishalweasel1 baniyaboi gabbbarsingh mumbai slowly become unlivable extreme price',\n",
       " ' hariraj cisco main reason decide relocate place even though mean',\n",
       " ' take day heavy rainfall bangalore bring back familiar sight water log street',\n",
       " ' devshenoi drop club introductory sail nice trip bangalore',\n",
       " ' bsbommai narendramodi please road around bangalore city railway station repair priority basi',\n",
       " ' adig1993 really useful venture city like bangalore heavy traffic eat time',\n",
       " ' north indian traffic bangalore',\n",
       " ' karnataka table bill create umbrella body manage bengaluru traffic',\n",
       " ' nilishamantri hope drive bangalore traffic least drive something drive',\n",
       " ' apj234 although bangalore traffic hell inside airport get itinerary check really fast',\n",
       " ' bangalore traffic bangalore bjpee',\n",
       " ' bangalore traffic either want leave vehicle walk dash someone move ahea',\n",
       " ' game pleasant weather great brewery bangalore traffic always win bangaloretraffic oldmadrasroadftw',\n",
       " ' idiot criticize bangalore city bangalorerain praise flood',\n",
       " ' bangalore traffic frustration frustration bangaloretraffic bangalore',\n",
       " ' innovative solution solve bengaluru traffic problem bangalore bangluru narendramodi',\n",
       " ' kempegowda international airport bangalore railway station know karnataka govt thin',\n",
       " ' source beijing reporting real reason rahul gandhi long march spending much time keral',\n",
       " ' cnnnews18 ridhimb chockovalliappa bpoindia migrant spoil brand bangalore since people come exploit',\n",
       " ' move slow uber think stuck even peak bangalore traffic peakbengaluru',\n",
       " ' railminindia eastcoastrail drmsambalpur drmwaltairecor smooth hassle free traffic management term',\n",
       " ' bangalore vibe minus traffic',\n",
       " ' rishibagree akhiliy accept random pic citizen use without permission',\n",
       " ' complete itinerary family trip south yes want spend time bangalore',\n",
       " ' tomato dosa bhajis along kesari bath bangalore give enough energy beat traff',\n",
       " ' bangalore people stop traffic',\n",
       " ' therestlessquil great marketing bangalore like anyone bangalore vacation',\n",
       " ' indianrailway would request start local train hebel bellandur bangalore morning 30am',\n",
       " ' railminindia would request start local train hebel bellandur bangalore morning 30am',\n",
       " ' listen sunroof song bangalore traffic even space hand',\n",
       " ' wake sunrise amaze colour bangalore traffic flood',\n",
       " ' noida definitely well infra handle rain plan gurgaon pathetic flood defini',\n",
       " ' sanjibdn shubhankrmishra technical detail many list saab even post resuscitation',\n",
       " ' nuts2406 apj234 regular kissa do boarding pas hand check beg bangalore',\n",
       " ' abhilashapurwar haha true bangalore local metro also leverage option walk cycle',\n",
       " ' ashwinivaishnaw need help solve stretch kakol byadgi karnataka travel bangalore',\n",
       " ' visit city never stuck traffic put existential crisis delhi bangalore flashback',\n",
       " ' common sight bangalore road road user break traffic law jeopardize safe',\n",
       " ' order apple watch online sale retailer bangalore delivery gurgaon hope reach',\n",
       " ' citizenkamran arnsimha feel pain every time step outside extremely dangerous even travel',\n",
       " ' worth drive bangalore anymore standstill traffic helicopter parachute',\n",
       " ' bangalore traffic like house away',\n",
       " ' kumarmanish9 difference happens month unlike bangalore traffic horrible day',\n",
       " ' saurabhb12 scar wheeler motor vehicle unfortunately think bangalore traffic force',\n",
       " ' thought bangalore road bad road drove kerala pathetic awful series',\n",
       " ' fuck bangalore traffic',\n",
       " ' bangalore land airport land traffic peakbengaluru moment airport',\n",
       " ' customer cancel worker receives payment still count towards month quota',\n",
       " ' bmtc bengaluru cpblr namma orrca wfrising bangalore police bmtc coordinate teach bmtc basic road',\n",
       " ' kumaronly333 mvmtraffic cpblr addlcptraffic dcptrwestbcp perhaps bangalore traffic police collaboration bbmp',\n",
       " ' bangalore people call wanderlust spend time travel traffic',\n",
       " ' good side every story even bangalore traffic jam forever flyover',\n",
       " ' desiboho bangalore traffic mumbai road delhi autowaala anti modi joke anti hindu joke',\n",
       " ' timing traffic bangalore like timing market work well every time',\n",
       " ' single stuck bangalore traffic please create ruckus look around true love married',\n",
       " ' commit suicide traffic mumbai reborn bangalore',\n",
       " ' traffic woe bangalore',\n",
       " ' bangalore bengaluru mysuru expressway appear safer motorist highway',\n",
       " ' tansuyegen good come bangalore start sell people avoid silk board traffic easily',\n",
       " ' saadhe6footiya situation everyday bangalore traffic',\n",
       " ' reach office time travel bangalore traffic toughest thing life convincing uber',\n",
       " ' ndtv think minister idea corruption go country',\n",
       " ' say bangalore traffic well say',\n",
       " ' ltgovdelhi delhipwd aamaadmiparty delhi road become like bangalore usually take redlight',\n",
       " ' christinmp bmtc bengaluru cmofkarnataka sriramulubjp bbpvedike srinualavilli tarauk wfrising',\n",
       " ' amit tiwari christinmp bmtc bengaluru cmofkarnataka sriramulubjp bbpvedike srinualavilli tarauk',\n",
       " ' shricommonman aapkarnataka aamaadmiparty nimmabhaskar22 fear get penalize break traffic',\n",
       " ' porinju people bangalore spend hour everyday traffic even company useful people ahangaram vendaa chettaa',\n",
       " ' nitin gadkari exist bangalore chennai highway extension many year',\n",
       " ' face reality bangalore traffic take min cover distance',\n",
       " ' cpblr namaste please help bangalore home guard department east devision traffic police station duty home',\n",
       " ' mvmtraffic dcptrwestbcp cpblr addlcptraffic apart good motivation thing trust',\n",
       " ' dgpkarnataka namaste bangalore home guard department bangalore home guard full problem karnataka state',\n",
       " ' aastik come eclectic write skill start atomic essay bangalore traffic',\n",
       " ' btppubliceye something bangalore traffic department take care thank advance',\n",
       " ' twitshilpi google display conservative time around min delay algos cannot',\n",
       " ' bangalore traffic become bad chaos literally many outsider vehicle',\n",
       " ' mepratap ashwinivaishnaw need inter city train bangalore mangalore daily basis reduce',\n",
       " ' bengaluru doctor leaf run beat traffic perform crucial surgery ndtv',\n",
       " ' avoid traffic city today take metro self itsagoodday bangalore gooddaycookies',\n",
       " ' cricketpun bangalore traffic come next week',\n",
       " ' krtcskr would romantic drove bangalore traffic silk board hebbal',\n",
       " ' forget ever determine legacy bangalore delhi janta',\n",
       " ' genuinely fear life go freeway powai town people drive fast',\n",
       " ' bak98ar true bangalore traffic road suck',\n",
       " ' amitabhgupta cppunecity great website many citizen centric feature',\n",
       " ' katu blrcitytraffic blrcitypolice basvanguditrfps exactly problem along bangal',\n",
       " ' witness bangalore traffic tweet',\n",
       " ' bicyclemayorblr blrsmartcity bbmpcomm bbmpceri dultbangalore blrcitytraffic pcmohanmp dirt race',\n",
       " ' dear bangalore startup founder find solution traffic problem solve others problem',\n",
       " ' cricketpun bangalore like traffic',\n",
       " ' aura aura look traffic road condition bangalore find steer',\n",
       " ' babablahblah peakbengaluru market emerge bangalore traffic market',\n",
       " ' pawanaroraleo nikhilkamathcio lighter note bangalore traffic make difficult snatcher away',\n",
       " ' place pedestrian bangalore walk road block traffic build proper',\n",
       " ' traffic banglore everywhere lorry car run pollution',\n",
       " ' mehulfanawala take everytime someone mention bangalore traffic',\n",
       " ' dhanyarajendran prajwalmanipal joehoover60 sridhar67 exist rail link mangalore bangalore',\n",
       " ' brighter side bangalore traffic ndtv',\n",
       " ' tejasvi surya start similar bangalore cant east bipanhalli puram whitefield traffic reduce road',\n",
       " ' bbmprestructure future bangalore abuse hurl auto scooter rider',\n",
       " ' registeration do show inspite heavy traffic bangalore',\n",
       " ' bangalore flyover still get built stuck traffic bcoz married',\n",
       " ' yourskaushik wfrising accept city need much infrastructure development migrant',\n",
       " ' ka50a4639 vehicle number olascam bengalurutraffic driver driven entire journey',\n",
       " ' read article couple fell love married get stuck infamous sony',\n",
       " ' time cab auto directly instead apps bangalore book traffic',\n",
       " ' life hard bangalore morning traffic',\n",
       " ' inspite kerala first almost everything highly qualify people student travel bangalore karnataka',\n",
       " ' chethan239 namma orrca cmofkarnataka morthindia blame bangalore everything traffic',\n",
       " ' toibengaluru traffic congestion parking issue bangalore near ikea bsbommai cmofkarnataka',\n",
       " ' surnell disagree crib every city till get fix people bangalore traffic',\n",
       " ' bangalore bengaluru junta street still flood water back inundate',\n",
       " ' nsitharamanoffc nsitharaman finminindia india bjp4india pibmumbai ddnewslive airnewsalerts india',\n",
       " ' survive bangalore traffic survive sharjah dubai traffic pinch salt',\n",
       " ' sandeepmall tell nightmare reason want move bangalore today',\n",
       " ' seopackagesinchennai digiwise best service company bangalore offering affordable service',\n",
       " ' welcome bangalore city pothole miserable traffic incompetent bbmpcomm rule useless',\n",
       " ' trustedseocompanyinchennai digiwise best service company bangalore offering affordable service',\n",
       " ' cryptic miind bangalore government enhance narrow road narrow road less',\n",
       " ' think google map actually start route people area lesser traffic bangalore po',\n",
       " ' maruti corp true value use car showroom guy bangalore start sell use car',\n",
       " ' sandeepmall spent year life living horrendous traffic bangalore covid blessing',\n",
       " ' blrcitypolice update late notification appointment traffic warden bangalore recently',\n",
       " ' jointcptraffic show ride kmph bangalore either pothole never end traffic',\n",
       " ' mumbai depress city live dilapidate house everywhere traffic bad bangalore',\n",
       " ' horrible traffic bangalore today thetanmay walk road',\n",
       " ' ajayrotti rahulskakar skodaindia autocarindiamag whoaaa niccee neither never mileage junkie always',\n",
       " ' might miss flight hsve strong feel bangalore traffic suck',\n",
       " ' machiavelli cool fact friend discuss jetpack 2005 usef',\n",
       " ' narendramodi bjp4india urban infrastructure shamble urban city like mumbai bangalore',\n",
       " ' shahrcastic start experience horror bangalore traffic',\n",
       " ' swear bangalore auto walle bhaiyyas stop think smarter technology fourt',\n",
       " ' mybangalore blrcitytraffic cpblr nammabengaluroo bangaloremirror auto rickshaw stop bangalore',\n",
       " ' bangalore city traffic police tow problem raise karnataka legislative council tulasimuniraju1 real',\n",
       " ' blrcitytraffic hello shaik vehicle number ka01hf7529 notice 51023619 today messa',\n",
       " ' nitin gadkari bangalore pune highway nh48 tumkur lane highway high traffic road',\n",
       " ' rahulgandhi kindly dont come bangalore take bypass already fedup traffic',\n",
       " ' bicyclemayorblr bbmpcomm bbmpadmn blrcitytraffic jointcptraffic arvindlbjp pcmohanmp cmofkarnataka',\n",
       " ' dream propose girlfriend silk board junction traffic',\n",
       " ' amuse bangaloreans learn today silk mark silk board pass 1948',\n",
       " ' silkmarkindia shefvaidya csbmot texminindia darshanajardosh rajit123 vidya balan anuradhagoyal',\n",
       " ' swamin400 blrcitytraffic dcptreastbcp hsrltrafficps know puram silk board green line metro',\n",
       " ' blrcitytraffic traffic violation raise bike number ka01ja1370 mention fine',\n",
       " ' blrcitytraffic understand need check drink drive block traffic marathalli',\n",
       " ' ksreesai13 bsbommai dgpkarnataka krpuratraffic blrcitytraffic blrcitypolice metro construction',\n",
       " ' blrcitytraffic blrcitypolice could please register traffic offence wrong illegal parking',\n",
       " ' koramangala ttmc traffic transit management centre today absolutely desert hardly half away',\n",
       " ' siddaramaiah pmoindia bjp4karnataka want make payrg rahul gandhi',\n",
       " ' hmlokesh dcpcomdcentre acpsouthtrf dcptreastbcp dgpkarnataka huge traffic form mall road koramangala',\n",
       " ' blrcitytraffic raise traffic violation wrong parking right front gate',\n",
       " ' blrcitytraffic please check koramangala indiranagar junction morning traffic road',\n",
       " ' anil lulla kirankumaar dvsadanandgowda drmsbc dyamannavar nbangalorepost swrrly bbmpcomm krishnabgowda',\n",
       " ' bsbommai please take serious urgent action pathetic road condition around hebbal',\n",
       " ' cheemskarni infrastructure limited public utility past decade none',\n",
       " ' namma orrca travel world hebbal everyday piece advice pillar rais',\n",
       " ' cmofkarnataka much traffic near hebbal still police put barricade test drunk drive huge pile',\n",
       " ' spvaid hebbal banglore peacefools block road shout back route travel towards airport peop',\n",
       " ' melawanshwa hebbal banglore peacefools block road shout back route travel towards airport',\n",
       " ' priyanka3920 hebbal banglore peacefools block road shout back route travel towards airport',\n",
       " ' look like blrcitytraffic change priority bother road',\n",
       " ' blrcitytraffic pratikshenoy94 blrcitypolice dcptreastbcp near hebbal flyover stop last week',\n",
       " ' bsbommai bengaluru pathetic precarious road condition get roast channel social medium hebbal',\n",
       " ' blrcitytraffic huge traffic hebbal flyover change traffic rule route plan cause traffic please save',\n",
       " ' dvsadanandgowda jnanendraaraga high time need review situation hebbal traffic recent',\n",
       " ' blrcitytraffic varthur whitefield mayura bakery stretch allow park wheeler left',\n",
       " ' wftrps addlcptraffic dcptreastbcp acpwfieldtrf blrcitytraffic request traffic department help perma',\n",
       " ' anti clockwise exit prestwich whitefield congestion full detail update every minute',\n",
       " ' truck park busy whitefield outer circle junction block traffic way chaos junction near',\n",
       " ' ozwyyn yuzurukoo whitefield traffic alli madthini',\n",
       " ' wftrps blrcitytraffic bloombergdotorg vitalstrat blrcitypolice jointcptraffic look update',\n",
       " ' dcptreastbcp dear need help senior officer sensitive area sector officer',\n",
       " ' captsanthoshkc govt cannot keep widen road metro connects whitefield electronics city traffic reduce',\n",
       " ' clockwise access prestwich whitefield congestion full detail update every minute',\n",
       " ' afternoon travel quite busy minute delay fife whitefield road b912',\n",
       " ' whitefieldtrps wftrps daily situation swami vivekananda road whitefield get difficult',\n",
       " ' anti clockwise prestwich whitefield clifton congestion full detail',\n",
       " ' toibengaluru wish leadership unbiased location city traffic governance immediate attentio',\n",
       " ' tejasvi surya hindustanse need frequent train also possible whitefield area',\n",
       " ' mobility arvindlbjp manohargabjp jcreddypk clementcjayakum please provide well road mahadeva',\n",
       " ' traffic alert clear dalton whitefield town line',\n",
       " ' traffic alert dalton whitefield town line tree block part roadway lane alternate',\n",
       " ' anti clockwise access prestwich whitefield congestion full detail update every minute',\n",
       " ' rid cycle bangalore harder imagine could feel thigh cry amount uphill cycli',\n",
       " ' clear traffic signal operation whitefield restore yyctraffic yycroads',\n",
       " ' mybangalore blrcitytraffic anil lulla hebbaltrafficps nammabengaluroo alternate route like',\n",
       " ' update traffic signal flash whitefield yyctraffic yycroads',\n",
       " ' alert traffic incident whitefield block right lane yyctraffic yycroads',\n",
       " ' 17092022 come wrong direction 0669 september 2022 itpl main road whitefield',\n",
       " ' respect doctor hero nobody talk exist seem like much']"
      ]
     },
     "execution_count": 17,
     "metadata": {},
     "output_type": "execute_result"
    }
   ],
   "source": [
    "tweets"
   ]
  },
  {
   "cell_type": "code",
   "execution_count": 157,
   "metadata": {},
   "outputs": [
    {
     "data": {
      "text/html": [
       "<div>\n",
       "<style scoped>\n",
       "    .dataframe tbody tr th:only-of-type {\n",
       "        vertical-align: middle;\n",
       "    }\n",
       "\n",
       "    .dataframe tbody tr th {\n",
       "        vertical-align: top;\n",
       "    }\n",
       "\n",
       "    .dataframe thead th {\n",
       "        text-align: right;\n",
       "    }\n",
       "</style>\n",
       "<table border=\"1\" class=\"dataframe\">\n",
       "  <thead>\n",
       "    <tr style=\"text-align: right;\">\n",
       "      <th></th>\n",
       "      <th>fear</th>\n",
       "      <th>anger</th>\n",
       "      <th>anticip</th>\n",
       "      <th>trust</th>\n",
       "      <th>surprise</th>\n",
       "      <th>positive</th>\n",
       "      <th>negative</th>\n",
       "      <th>sadness</th>\n",
       "      <th>disgust</th>\n",
       "      <th>joy</th>\n",
       "      <th>anticipation</th>\n",
       "      <th>tweet</th>\n",
       "    </tr>\n",
       "  </thead>\n",
       "  <tbody>\n",
       "    <tr>\n",
       "      <th>0</th>\n",
       "      <td>0.142857</td>\n",
       "      <td>0.142857</td>\n",
       "      <td>0.0</td>\n",
       "      <td>0.000000</td>\n",
       "      <td>0.142857</td>\n",
       "      <td>0.000000</td>\n",
       "      <td>0.142857</td>\n",
       "      <td>0.142857</td>\n",
       "      <td>0.142857</td>\n",
       "      <td>0.000000</td>\n",
       "      <td>0.142857</td>\n",
       "      <td>silkboard traffic death</td>\n",
       "    </tr>\n",
       "    <tr>\n",
       "      <th>1</th>\n",
       "      <td>0.000000</td>\n",
       "      <td>0.200000</td>\n",
       "      <td>0.0</td>\n",
       "      <td>0.000000</td>\n",
       "      <td>0.000000</td>\n",
       "      <td>0.400000</td>\n",
       "      <td>0.200000</td>\n",
       "      <td>0.000000</td>\n",
       "      <td>0.000000</td>\n",
       "      <td>0.000000</td>\n",
       "      <td>0.200000</td>\n",
       "      <td>capital traffic bangalore silk board miss ree...</td>\n",
       "    </tr>\n",
       "    <tr>\n",
       "      <th>2</th>\n",
       "      <td>0.200000</td>\n",
       "      <td>0.200000</td>\n",
       "      <td>0.0</td>\n",
       "      <td>0.000000</td>\n",
       "      <td>0.000000</td>\n",
       "      <td>0.200000</td>\n",
       "      <td>0.200000</td>\n",
       "      <td>0.200000</td>\n",
       "      <td>0.000000</td>\n",
       "      <td>0.000000</td>\n",
       "      <td>NaN</td>\n",
       "      <td>suryapsingh32 satishacharya traffic first tal...</td>\n",
       "    </tr>\n",
       "    <tr>\n",
       "      <th>3</th>\n",
       "      <td>0.000000</td>\n",
       "      <td>0.000000</td>\n",
       "      <td>0.0</td>\n",
       "      <td>0.000000</td>\n",
       "      <td>0.000000</td>\n",
       "      <td>0.000000</td>\n",
       "      <td>1.000000</td>\n",
       "      <td>0.000000</td>\n",
       "      <td>0.000000</td>\n",
       "      <td>0.000000</td>\n",
       "      <td>NaN</td>\n",
       "      <td>always crack silkboard traffic joke never liv...</td>\n",
       "    </tr>\n",
       "    <tr>\n",
       "      <th>4</th>\n",
       "      <td>0.333333</td>\n",
       "      <td>0.000000</td>\n",
       "      <td>0.0</td>\n",
       "      <td>0.333333</td>\n",
       "      <td>0.000000</td>\n",
       "      <td>0.333333</td>\n",
       "      <td>0.000000</td>\n",
       "      <td>0.000000</td>\n",
       "      <td>0.000000</td>\n",
       "      <td>0.000000</td>\n",
       "      <td>NaN</td>\n",
       "      <td>bangalore richer average traffic police</td>\n",
       "    </tr>\n",
       "    <tr>\n",
       "      <th>...</th>\n",
       "      <td>...</td>\n",
       "      <td>...</td>\n",
       "      <td>...</td>\n",
       "      <td>...</td>\n",
       "      <td>...</td>\n",
       "      <td>...</td>\n",
       "      <td>...</td>\n",
       "      <td>...</td>\n",
       "      <td>...</td>\n",
       "      <td>...</td>\n",
       "      <td>...</td>\n",
       "      <td>...</td>\n",
       "    </tr>\n",
       "    <tr>\n",
       "      <th>249</th>\n",
       "      <td>0.000000</td>\n",
       "      <td>0.000000</td>\n",
       "      <td>0.0</td>\n",
       "      <td>0.000000</td>\n",
       "      <td>0.000000</td>\n",
       "      <td>0.000000</td>\n",
       "      <td>0.000000</td>\n",
       "      <td>0.000000</td>\n",
       "      <td>0.000000</td>\n",
       "      <td>0.000000</td>\n",
       "      <td>NaN</td>\n",
       "      <td>mybangalore blrcitytraffic anil lulla hebbalt...</td>\n",
       "    </tr>\n",
       "    <tr>\n",
       "      <th>250</th>\n",
       "      <td>0.000000</td>\n",
       "      <td>0.000000</td>\n",
       "      <td>0.0</td>\n",
       "      <td>0.000000</td>\n",
       "      <td>0.000000</td>\n",
       "      <td>0.000000</td>\n",
       "      <td>0.000000</td>\n",
       "      <td>0.000000</td>\n",
       "      <td>0.000000</td>\n",
       "      <td>0.000000</td>\n",
       "      <td>NaN</td>\n",
       "      <td>update traffic signal flash whitefield yyctra...</td>\n",
       "    </tr>\n",
       "    <tr>\n",
       "      <th>251</th>\n",
       "      <td>0.000000</td>\n",
       "      <td>0.000000</td>\n",
       "      <td>0.0</td>\n",
       "      <td>0.000000</td>\n",
       "      <td>1.000000</td>\n",
       "      <td>0.000000</td>\n",
       "      <td>0.000000</td>\n",
       "      <td>0.000000</td>\n",
       "      <td>0.000000</td>\n",
       "      <td>0.000000</td>\n",
       "      <td>NaN</td>\n",
       "      <td>alert traffic incident whitefield block right...</td>\n",
       "    </tr>\n",
       "    <tr>\n",
       "      <th>252</th>\n",
       "      <td>0.000000</td>\n",
       "      <td>0.000000</td>\n",
       "      <td>0.0</td>\n",
       "      <td>0.000000</td>\n",
       "      <td>0.000000</td>\n",
       "      <td>0.500000</td>\n",
       "      <td>0.500000</td>\n",
       "      <td>0.000000</td>\n",
       "      <td>0.000000</td>\n",
       "      <td>0.000000</td>\n",
       "      <td>NaN</td>\n",
       "      <td>17092022 come wrong direction 0669 september ...</td>\n",
       "    </tr>\n",
       "    <tr>\n",
       "      <th>253</th>\n",
       "      <td>0.000000</td>\n",
       "      <td>0.000000</td>\n",
       "      <td>0.0</td>\n",
       "      <td>0.250000</td>\n",
       "      <td>0.083333</td>\n",
       "      <td>0.333333</td>\n",
       "      <td>0.000000</td>\n",
       "      <td>0.000000</td>\n",
       "      <td>0.000000</td>\n",
       "      <td>0.166667</td>\n",
       "      <td>0.166667</td>\n",
       "      <td>respect doctor hero nobody talk exist seem li...</td>\n",
       "    </tr>\n",
       "  </tbody>\n",
       "</table>\n",
       "<p>254 rows × 12 columns</p>\n",
       "</div>"
      ],
      "text/plain": [
       "         fear     anger  anticip     trust  surprise  positive  negative  \\\n",
       "0    0.142857  0.142857      0.0  0.000000  0.142857  0.000000  0.142857   \n",
       "1    0.000000  0.200000      0.0  0.000000  0.000000  0.400000  0.200000   \n",
       "2    0.200000  0.200000      0.0  0.000000  0.000000  0.200000  0.200000   \n",
       "3    0.000000  0.000000      0.0  0.000000  0.000000  0.000000  1.000000   \n",
       "4    0.333333  0.000000      0.0  0.333333  0.000000  0.333333  0.000000   \n",
       "..        ...       ...      ...       ...       ...       ...       ...   \n",
       "249  0.000000  0.000000      0.0  0.000000  0.000000  0.000000  0.000000   \n",
       "250  0.000000  0.000000      0.0  0.000000  0.000000  0.000000  0.000000   \n",
       "251  0.000000  0.000000      0.0  0.000000  1.000000  0.000000  0.000000   \n",
       "252  0.000000  0.000000      0.0  0.000000  0.000000  0.500000  0.500000   \n",
       "253  0.000000  0.000000      0.0  0.250000  0.083333  0.333333  0.000000   \n",
       "\n",
       "      sadness   disgust       joy  anticipation  \\\n",
       "0    0.142857  0.142857  0.000000      0.142857   \n",
       "1    0.000000  0.000000  0.000000      0.200000   \n",
       "2    0.200000  0.000000  0.000000           NaN   \n",
       "3    0.000000  0.000000  0.000000           NaN   \n",
       "4    0.000000  0.000000  0.000000           NaN   \n",
       "..        ...       ...       ...           ...   \n",
       "249  0.000000  0.000000  0.000000           NaN   \n",
       "250  0.000000  0.000000  0.000000           NaN   \n",
       "251  0.000000  0.000000  0.000000           NaN   \n",
       "252  0.000000  0.000000  0.000000           NaN   \n",
       "253  0.000000  0.000000  0.166667      0.166667   \n",
       "\n",
       "                                                 tweet  \n",
       "0                              silkboard traffic death  \n",
       "1     capital traffic bangalore silk board miss ree...  \n",
       "2     suryapsingh32 satishacharya traffic first tal...  \n",
       "3     always crack silkboard traffic joke never liv...  \n",
       "4              bangalore richer average traffic police  \n",
       "..                                                 ...  \n",
       "249   mybangalore blrcitytraffic anil lulla hebbalt...  \n",
       "250   update traffic signal flash whitefield yyctra...  \n",
       "251   alert traffic incident whitefield block right...  \n",
       "252   17092022 come wrong direction 0669 september ...  \n",
       "253   respect doctor hero nobody talk exist seem li...  \n",
       "\n",
       "[254 rows x 12 columns]"
      ]
     },
     "execution_count": 157,
     "metadata": {},
     "output_type": "execute_result"
    }
   ],
   "source": [
    "list_of_dictionary_of_emotions = []\n",
    "for i in tweets:\n",
    "    # emotion recognition\n",
    "    text_object = NRCLex(i)\n",
    "    dictionary_of_emotions = text_object.affect_frequencies\n",
    "    #print(dictionary_of_emotions)\n",
    "    dictionary_of_emotions['tweet'] = i\n",
    "    #print(dictionary_of_emotions)\n",
    "    list_of_dictionary_of_emotions.append(dictionary_of_emotions)\n",
    "df_emo_freq = pd.DataFrame(list_of_dictionary_of_emotions)\n",
    "df_emo_freq"
   ]
  },
  {
   "cell_type": "code",
   "execution_count": 158,
   "metadata": {},
   "outputs": [],
   "source": [
    "df_emo_freq.drop(columns = ['positive','negative','anticip'], inplace = True)"
   ]
  },
  {
   "cell_type": "code",
   "execution_count": 159,
   "metadata": {},
   "outputs": [
    {
     "data": {
      "text/html": [
       "<div>\n",
       "<style scoped>\n",
       "    .dataframe tbody tr th:only-of-type {\n",
       "        vertical-align: middle;\n",
       "    }\n",
       "\n",
       "    .dataframe tbody tr th {\n",
       "        vertical-align: top;\n",
       "    }\n",
       "\n",
       "    .dataframe thead th {\n",
       "        text-align: right;\n",
       "    }\n",
       "</style>\n",
       "<table border=\"1\" class=\"dataframe\">\n",
       "  <thead>\n",
       "    <tr style=\"text-align: right;\">\n",
       "      <th></th>\n",
       "      <th>fear</th>\n",
       "      <th>anger</th>\n",
       "      <th>trust</th>\n",
       "      <th>surprise</th>\n",
       "      <th>sadness</th>\n",
       "      <th>disgust</th>\n",
       "      <th>joy</th>\n",
       "      <th>anticipation</th>\n",
       "      <th>tweet</th>\n",
       "    </tr>\n",
       "  </thead>\n",
       "  <tbody>\n",
       "    <tr>\n",
       "      <th>0</th>\n",
       "      <td>0.142857</td>\n",
       "      <td>0.142857</td>\n",
       "      <td>0.000000</td>\n",
       "      <td>0.142857</td>\n",
       "      <td>0.142857</td>\n",
       "      <td>0.142857</td>\n",
       "      <td>0.000000</td>\n",
       "      <td>0.142857</td>\n",
       "      <td>silkboard traffic death</td>\n",
       "    </tr>\n",
       "    <tr>\n",
       "      <th>1</th>\n",
       "      <td>0.000000</td>\n",
       "      <td>0.200000</td>\n",
       "      <td>0.000000</td>\n",
       "      <td>0.000000</td>\n",
       "      <td>0.000000</td>\n",
       "      <td>0.000000</td>\n",
       "      <td>0.000000</td>\n",
       "      <td>0.200000</td>\n",
       "      <td>capital traffic bangalore silk board miss ree...</td>\n",
       "    </tr>\n",
       "    <tr>\n",
       "      <th>2</th>\n",
       "      <td>0.200000</td>\n",
       "      <td>0.200000</td>\n",
       "      <td>0.000000</td>\n",
       "      <td>0.000000</td>\n",
       "      <td>0.200000</td>\n",
       "      <td>0.000000</td>\n",
       "      <td>0.000000</td>\n",
       "      <td>NaN</td>\n",
       "      <td>suryapsingh32 satishacharya traffic first tal...</td>\n",
       "    </tr>\n",
       "    <tr>\n",
       "      <th>3</th>\n",
       "      <td>0.000000</td>\n",
       "      <td>0.000000</td>\n",
       "      <td>0.000000</td>\n",
       "      <td>0.000000</td>\n",
       "      <td>0.000000</td>\n",
       "      <td>0.000000</td>\n",
       "      <td>0.000000</td>\n",
       "      <td>NaN</td>\n",
       "      <td>always crack silkboard traffic joke never liv...</td>\n",
       "    </tr>\n",
       "    <tr>\n",
       "      <th>4</th>\n",
       "      <td>0.333333</td>\n",
       "      <td>0.000000</td>\n",
       "      <td>0.333333</td>\n",
       "      <td>0.000000</td>\n",
       "      <td>0.000000</td>\n",
       "      <td>0.000000</td>\n",
       "      <td>0.000000</td>\n",
       "      <td>NaN</td>\n",
       "      <td>bangalore richer average traffic police</td>\n",
       "    </tr>\n",
       "    <tr>\n",
       "      <th>...</th>\n",
       "      <td>...</td>\n",
       "      <td>...</td>\n",
       "      <td>...</td>\n",
       "      <td>...</td>\n",
       "      <td>...</td>\n",
       "      <td>...</td>\n",
       "      <td>...</td>\n",
       "      <td>...</td>\n",
       "      <td>...</td>\n",
       "    </tr>\n",
       "    <tr>\n",
       "      <th>249</th>\n",
       "      <td>0.000000</td>\n",
       "      <td>0.000000</td>\n",
       "      <td>0.000000</td>\n",
       "      <td>0.000000</td>\n",
       "      <td>0.000000</td>\n",
       "      <td>0.000000</td>\n",
       "      <td>0.000000</td>\n",
       "      <td>NaN</td>\n",
       "      <td>mybangalore blrcitytraffic anil lulla hebbalt...</td>\n",
       "    </tr>\n",
       "    <tr>\n",
       "      <th>250</th>\n",
       "      <td>0.000000</td>\n",
       "      <td>0.000000</td>\n",
       "      <td>0.000000</td>\n",
       "      <td>0.000000</td>\n",
       "      <td>0.000000</td>\n",
       "      <td>0.000000</td>\n",
       "      <td>0.000000</td>\n",
       "      <td>NaN</td>\n",
       "      <td>update traffic signal flash whitefield yyctra...</td>\n",
       "    </tr>\n",
       "    <tr>\n",
       "      <th>251</th>\n",
       "      <td>0.000000</td>\n",
       "      <td>0.000000</td>\n",
       "      <td>0.000000</td>\n",
       "      <td>1.000000</td>\n",
       "      <td>0.000000</td>\n",
       "      <td>0.000000</td>\n",
       "      <td>0.000000</td>\n",
       "      <td>NaN</td>\n",
       "      <td>alert traffic incident whitefield block right...</td>\n",
       "    </tr>\n",
       "    <tr>\n",
       "      <th>252</th>\n",
       "      <td>0.000000</td>\n",
       "      <td>0.000000</td>\n",
       "      <td>0.000000</td>\n",
       "      <td>0.000000</td>\n",
       "      <td>0.000000</td>\n",
       "      <td>0.000000</td>\n",
       "      <td>0.000000</td>\n",
       "      <td>NaN</td>\n",
       "      <td>17092022 come wrong direction 0669 september ...</td>\n",
       "    </tr>\n",
       "    <tr>\n",
       "      <th>253</th>\n",
       "      <td>0.000000</td>\n",
       "      <td>0.000000</td>\n",
       "      <td>0.250000</td>\n",
       "      <td>0.083333</td>\n",
       "      <td>0.000000</td>\n",
       "      <td>0.000000</td>\n",
       "      <td>0.166667</td>\n",
       "      <td>0.166667</td>\n",
       "      <td>respect doctor hero nobody talk exist seem li...</td>\n",
       "    </tr>\n",
       "  </tbody>\n",
       "</table>\n",
       "<p>254 rows × 9 columns</p>\n",
       "</div>"
      ],
      "text/plain": [
       "         fear     anger     trust  surprise   sadness   disgust       joy  \\\n",
       "0    0.142857  0.142857  0.000000  0.142857  0.142857  0.142857  0.000000   \n",
       "1    0.000000  0.200000  0.000000  0.000000  0.000000  0.000000  0.000000   \n",
       "2    0.200000  0.200000  0.000000  0.000000  0.200000  0.000000  0.000000   \n",
       "3    0.000000  0.000000  0.000000  0.000000  0.000000  0.000000  0.000000   \n",
       "4    0.333333  0.000000  0.333333  0.000000  0.000000  0.000000  0.000000   \n",
       "..        ...       ...       ...       ...       ...       ...       ...   \n",
       "249  0.000000  0.000000  0.000000  0.000000  0.000000  0.000000  0.000000   \n",
       "250  0.000000  0.000000  0.000000  0.000000  0.000000  0.000000  0.000000   \n",
       "251  0.000000  0.000000  0.000000  1.000000  0.000000  0.000000  0.000000   \n",
       "252  0.000000  0.000000  0.000000  0.000000  0.000000  0.000000  0.000000   \n",
       "253  0.000000  0.000000  0.250000  0.083333  0.000000  0.000000  0.166667   \n",
       "\n",
       "     anticipation                                              tweet  \n",
       "0        0.142857                            silkboard traffic death  \n",
       "1        0.200000   capital traffic bangalore silk board miss ree...  \n",
       "2             NaN   suryapsingh32 satishacharya traffic first tal...  \n",
       "3             NaN   always crack silkboard traffic joke never liv...  \n",
       "4             NaN            bangalore richer average traffic police  \n",
       "..            ...                                                ...  \n",
       "249           NaN   mybangalore blrcitytraffic anil lulla hebbalt...  \n",
       "250           NaN   update traffic signal flash whitefield yyctra...  \n",
       "251           NaN   alert traffic incident whitefield block right...  \n",
       "252           NaN   17092022 come wrong direction 0669 september ...  \n",
       "253      0.166667   respect doctor hero nobody talk exist seem li...  \n",
       "\n",
       "[254 rows x 9 columns]"
      ]
     },
     "execution_count": 159,
     "metadata": {},
     "output_type": "execute_result"
    }
   ],
   "source": [
    "df_emo_freq"
   ]
  },
  {
   "cell_type": "code",
   "execution_count": 160,
   "metadata": {},
   "outputs": [
    {
     "data": {
      "text/plain": [
       "(254, 9)"
      ]
     },
     "execution_count": 160,
     "metadata": {},
     "output_type": "execute_result"
    }
   ],
   "source": [
    "df_emo_freq.shape"
   ]
  },
  {
   "cell_type": "code",
   "execution_count": 161,
   "metadata": {},
   "outputs": [
    {
     "data": {
      "text/plain": [
       "Index(['fear', 'anger', 'trust', 'surprise', 'sadness', 'disgust', 'joy',\n",
       "       'anticipation', 'tweet'],\n",
       "      dtype='object')"
      ]
     },
     "execution_count": 161,
     "metadata": {},
     "output_type": "execute_result"
    }
   ],
   "source": [
    "df_emo_freq.columns"
   ]
  },
  {
   "cell_type": "code",
   "execution_count": 162,
   "metadata": {},
   "outputs": [
    {
     "name": "stdout",
     "output_type": "stream",
     "text": [
      "0      0.142857\n",
      "1      0.200000\n",
      "2      0.200000\n",
      "3      0.000000\n",
      "4      0.333333\n",
      "         ...   \n",
      "249    0.000000\n",
      "250    0.000000\n",
      "251    1.000000\n",
      "252    0.000000\n",
      "253    0.250000\n",
      "Length: 254, dtype: float64\n"
     ]
    }
   ],
   "source": [
    "maxValues = df_emo_freq.max(axis=1)\n",
    "print(maxValues)"
   ]
  },
  {
   "cell_type": "code",
   "execution_count": 165,
   "metadata": {},
   "outputs": [
    {
     "data": {
      "text/html": [
       "<div>\n",
       "<style scoped>\n",
       "    .dataframe tbody tr th:only-of-type {\n",
       "        vertical-align: middle;\n",
       "    }\n",
       "\n",
       "    .dataframe tbody tr th {\n",
       "        vertical-align: top;\n",
       "    }\n",
       "\n",
       "    .dataframe thead th {\n",
       "        text-align: right;\n",
       "    }\n",
       "</style>\n",
       "<table border=\"1\" class=\"dataframe\">\n",
       "  <thead>\n",
       "    <tr style=\"text-align: right;\">\n",
       "      <th></th>\n",
       "      <th>tweet</th>\n",
       "    </tr>\n",
       "  </thead>\n",
       "  <tbody>\n",
       "    <tr>\n",
       "      <th>0</th>\n",
       "      <td>silkboard traffic death</td>\n",
       "    </tr>\n",
       "    <tr>\n",
       "      <th>1</th>\n",
       "      <td>capital traffic bangalore silk board miss ree...</td>\n",
       "    </tr>\n",
       "    <tr>\n",
       "      <th>2</th>\n",
       "      <td>suryapsingh32 satishacharya traffic first tal...</td>\n",
       "    </tr>\n",
       "    <tr>\n",
       "      <th>3</th>\n",
       "      <td>always crack silkboard traffic joke never liv...</td>\n",
       "    </tr>\n",
       "    <tr>\n",
       "      <th>4</th>\n",
       "      <td>bangalore richer average traffic police</td>\n",
       "    </tr>\n",
       "    <tr>\n",
       "      <th>...</th>\n",
       "      <td>...</td>\n",
       "    </tr>\n",
       "    <tr>\n",
       "      <th>249</th>\n",
       "      <td>mybangalore blrcitytraffic anil lulla hebbalt...</td>\n",
       "    </tr>\n",
       "    <tr>\n",
       "      <th>250</th>\n",
       "      <td>update traffic signal flash whitefield yyctra...</td>\n",
       "    </tr>\n",
       "    <tr>\n",
       "      <th>251</th>\n",
       "      <td>alert traffic incident whitefield block right...</td>\n",
       "    </tr>\n",
       "    <tr>\n",
       "      <th>252</th>\n",
       "      <td>17092022 come wrong direction 0669 september ...</td>\n",
       "    </tr>\n",
       "    <tr>\n",
       "      <th>253</th>\n",
       "      <td>respect doctor hero nobody talk exist seem li...</td>\n",
       "    </tr>\n",
       "  </tbody>\n",
       "</table>\n",
       "<p>254 rows × 1 columns</p>\n",
       "</div>"
      ],
      "text/plain": [
       "                                                 tweet\n",
       "0                              silkboard traffic death\n",
       "1     capital traffic bangalore silk board miss ree...\n",
       "2     suryapsingh32 satishacharya traffic first tal...\n",
       "3     always crack silkboard traffic joke never liv...\n",
       "4              bangalore richer average traffic police\n",
       "..                                                 ...\n",
       "249   mybangalore blrcitytraffic anil lulla hebbalt...\n",
       "250   update traffic signal flash whitefield yyctra...\n",
       "251   alert traffic incident whitefield block right...\n",
       "252   17092022 come wrong direction 0669 september ...\n",
       "253   respect doctor hero nobody talk exist seem li...\n",
       "\n",
       "[254 rows x 1 columns]"
      ]
     },
     "execution_count": 165,
     "metadata": {},
     "output_type": "execute_result"
    }
   ],
   "source": [
    "df_emo_freq_new = df_emo_freq[['tweet']].copy()\n",
    "df_emo_freq_new"
   ]
  },
  {
   "cell_type": "code",
   "execution_count": 167,
   "metadata": {},
   "outputs": [],
   "source": [
    "df_emo_freq.drop(columns = ['tweet'], inplace = True)"
   ]
  },
  {
   "cell_type": "code",
   "execution_count": 168,
   "metadata": {},
   "outputs": [
    {
     "name": "stdout",
     "output_type": "stream",
     "text": [
      "0          fear\n",
      "1         anger\n",
      "2          fear\n",
      "3          fear\n",
      "4          fear\n",
      "         ...   \n",
      "249        fear\n",
      "250        fear\n",
      "251    surprise\n",
      "252        fear\n",
      "253       trust\n",
      "Length: 254, dtype: object\n"
     ]
    },
    {
     "data": {
      "text/html": [
       "<div>\n",
       "<style scoped>\n",
       "    .dataframe tbody tr th:only-of-type {\n",
       "        vertical-align: middle;\n",
       "    }\n",
       "\n",
       "    .dataframe tbody tr th {\n",
       "        vertical-align: top;\n",
       "    }\n",
       "\n",
       "    .dataframe thead th {\n",
       "        text-align: right;\n",
       "    }\n",
       "</style>\n",
       "<table border=\"1\" class=\"dataframe\">\n",
       "  <thead>\n",
       "    <tr style=\"text-align: right;\">\n",
       "      <th></th>\n",
       "      <th>fear</th>\n",
       "      <th>anger</th>\n",
       "      <th>trust</th>\n",
       "      <th>surprise</th>\n",
       "      <th>sadness</th>\n",
       "      <th>disgust</th>\n",
       "      <th>joy</th>\n",
       "      <th>anticipation</th>\n",
       "      <th>Emotion</th>\n",
       "    </tr>\n",
       "  </thead>\n",
       "  <tbody>\n",
       "    <tr>\n",
       "      <th>0</th>\n",
       "      <td>0.142857</td>\n",
       "      <td>0.142857</td>\n",
       "      <td>0.000000</td>\n",
       "      <td>0.142857</td>\n",
       "      <td>0.142857</td>\n",
       "      <td>0.142857</td>\n",
       "      <td>0.000000</td>\n",
       "      <td>0.142857</td>\n",
       "      <td>fear</td>\n",
       "    </tr>\n",
       "    <tr>\n",
       "      <th>1</th>\n",
       "      <td>0.000000</td>\n",
       "      <td>0.200000</td>\n",
       "      <td>0.000000</td>\n",
       "      <td>0.000000</td>\n",
       "      <td>0.000000</td>\n",
       "      <td>0.000000</td>\n",
       "      <td>0.000000</td>\n",
       "      <td>0.200000</td>\n",
       "      <td>anger</td>\n",
       "    </tr>\n",
       "    <tr>\n",
       "      <th>2</th>\n",
       "      <td>0.200000</td>\n",
       "      <td>0.200000</td>\n",
       "      <td>0.000000</td>\n",
       "      <td>0.000000</td>\n",
       "      <td>0.200000</td>\n",
       "      <td>0.000000</td>\n",
       "      <td>0.000000</td>\n",
       "      <td>NaN</td>\n",
       "      <td>fear</td>\n",
       "    </tr>\n",
       "    <tr>\n",
       "      <th>3</th>\n",
       "      <td>0.000000</td>\n",
       "      <td>0.000000</td>\n",
       "      <td>0.000000</td>\n",
       "      <td>0.000000</td>\n",
       "      <td>0.000000</td>\n",
       "      <td>0.000000</td>\n",
       "      <td>0.000000</td>\n",
       "      <td>NaN</td>\n",
       "      <td>fear</td>\n",
       "    </tr>\n",
       "    <tr>\n",
       "      <th>4</th>\n",
       "      <td>0.333333</td>\n",
       "      <td>0.000000</td>\n",
       "      <td>0.333333</td>\n",
       "      <td>0.000000</td>\n",
       "      <td>0.000000</td>\n",
       "      <td>0.000000</td>\n",
       "      <td>0.000000</td>\n",
       "      <td>NaN</td>\n",
       "      <td>fear</td>\n",
       "    </tr>\n",
       "    <tr>\n",
       "      <th>...</th>\n",
       "      <td>...</td>\n",
       "      <td>...</td>\n",
       "      <td>...</td>\n",
       "      <td>...</td>\n",
       "      <td>...</td>\n",
       "      <td>...</td>\n",
       "      <td>...</td>\n",
       "      <td>...</td>\n",
       "      <td>...</td>\n",
       "    </tr>\n",
       "    <tr>\n",
       "      <th>249</th>\n",
       "      <td>0.000000</td>\n",
       "      <td>0.000000</td>\n",
       "      <td>0.000000</td>\n",
       "      <td>0.000000</td>\n",
       "      <td>0.000000</td>\n",
       "      <td>0.000000</td>\n",
       "      <td>0.000000</td>\n",
       "      <td>NaN</td>\n",
       "      <td>fear</td>\n",
       "    </tr>\n",
       "    <tr>\n",
       "      <th>250</th>\n",
       "      <td>0.000000</td>\n",
       "      <td>0.000000</td>\n",
       "      <td>0.000000</td>\n",
       "      <td>0.000000</td>\n",
       "      <td>0.000000</td>\n",
       "      <td>0.000000</td>\n",
       "      <td>0.000000</td>\n",
       "      <td>NaN</td>\n",
       "      <td>fear</td>\n",
       "    </tr>\n",
       "    <tr>\n",
       "      <th>251</th>\n",
       "      <td>0.000000</td>\n",
       "      <td>0.000000</td>\n",
       "      <td>0.000000</td>\n",
       "      <td>1.000000</td>\n",
       "      <td>0.000000</td>\n",
       "      <td>0.000000</td>\n",
       "      <td>0.000000</td>\n",
       "      <td>NaN</td>\n",
       "      <td>surprise</td>\n",
       "    </tr>\n",
       "    <tr>\n",
       "      <th>252</th>\n",
       "      <td>0.000000</td>\n",
       "      <td>0.000000</td>\n",
       "      <td>0.000000</td>\n",
       "      <td>0.000000</td>\n",
       "      <td>0.000000</td>\n",
       "      <td>0.000000</td>\n",
       "      <td>0.000000</td>\n",
       "      <td>NaN</td>\n",
       "      <td>fear</td>\n",
       "    </tr>\n",
       "    <tr>\n",
       "      <th>253</th>\n",
       "      <td>0.000000</td>\n",
       "      <td>0.000000</td>\n",
       "      <td>0.250000</td>\n",
       "      <td>0.083333</td>\n",
       "      <td>0.000000</td>\n",
       "      <td>0.000000</td>\n",
       "      <td>0.166667</td>\n",
       "      <td>0.166667</td>\n",
       "      <td>trust</td>\n",
       "    </tr>\n",
       "  </tbody>\n",
       "</table>\n",
       "<p>254 rows × 9 columns</p>\n",
       "</div>"
      ],
      "text/plain": [
       "         fear     anger     trust  surprise   sadness   disgust       joy  \\\n",
       "0    0.142857  0.142857  0.000000  0.142857  0.142857  0.142857  0.000000   \n",
       "1    0.000000  0.200000  0.000000  0.000000  0.000000  0.000000  0.000000   \n",
       "2    0.200000  0.200000  0.000000  0.000000  0.200000  0.000000  0.000000   \n",
       "3    0.000000  0.000000  0.000000  0.000000  0.000000  0.000000  0.000000   \n",
       "4    0.333333  0.000000  0.333333  0.000000  0.000000  0.000000  0.000000   \n",
       "..        ...       ...       ...       ...       ...       ...       ...   \n",
       "249  0.000000  0.000000  0.000000  0.000000  0.000000  0.000000  0.000000   \n",
       "250  0.000000  0.000000  0.000000  0.000000  0.000000  0.000000  0.000000   \n",
       "251  0.000000  0.000000  0.000000  1.000000  0.000000  0.000000  0.000000   \n",
       "252  0.000000  0.000000  0.000000  0.000000  0.000000  0.000000  0.000000   \n",
       "253  0.000000  0.000000  0.250000  0.083333  0.000000  0.000000  0.166667   \n",
       "\n",
       "     anticipation   Emotion  \n",
       "0        0.142857      fear  \n",
       "1        0.200000     anger  \n",
       "2             NaN      fear  \n",
       "3             NaN      fear  \n",
       "4             NaN      fear  \n",
       "..            ...       ...  \n",
       "249           NaN      fear  \n",
       "250           NaN      fear  \n",
       "251           NaN  surprise  \n",
       "252           NaN      fear  \n",
       "253      0.166667     trust  \n",
       "\n",
       "[254 rows x 9 columns]"
      ]
     },
     "execution_count": 168,
     "metadata": {},
     "output_type": "execute_result"
    }
   ],
   "source": [
    "maxValues = df_emo_freq.astype(float).idxmax(axis=1)\n",
    "print(maxValues)\n",
    "df_emo_freq['Emotion'] = pd.DataFrame(maxValues)\n",
    "df_emo_freq"
   ]
  },
  {
   "cell_type": "code",
   "execution_count": 169,
   "metadata": {},
   "outputs": [
    {
     "data": {
      "text/html": [
       "<div>\n",
       "<style scoped>\n",
       "    .dataframe tbody tr th:only-of-type {\n",
       "        vertical-align: middle;\n",
       "    }\n",
       "\n",
       "    .dataframe tbody tr th {\n",
       "        vertical-align: top;\n",
       "    }\n",
       "\n",
       "    .dataframe thead th {\n",
       "        text-align: right;\n",
       "    }\n",
       "</style>\n",
       "<table border=\"1\" class=\"dataframe\">\n",
       "  <thead>\n",
       "    <tr style=\"text-align: right;\">\n",
       "      <th></th>\n",
       "      <th>tweet</th>\n",
       "      <th>Emotion</th>\n",
       "    </tr>\n",
       "  </thead>\n",
       "  <tbody>\n",
       "    <tr>\n",
       "      <th>0</th>\n",
       "      <td>silkboard traffic death</td>\n",
       "      <td>fear</td>\n",
       "    </tr>\n",
       "    <tr>\n",
       "      <th>1</th>\n",
       "      <td>capital traffic bangalore silk board miss reel...</td>\n",
       "      <td>anger</td>\n",
       "    </tr>\n",
       "    <tr>\n",
       "      <th>2</th>\n",
       "      <td>suryapsingh32 satishacharya traffic first talk...</td>\n",
       "      <td>fear</td>\n",
       "    </tr>\n",
       "    <tr>\n",
       "      <th>3</th>\n",
       "      <td>always crack silkboard traffic joke never live...</td>\n",
       "      <td>fear</td>\n",
       "    </tr>\n",
       "    <tr>\n",
       "      <th>4</th>\n",
       "      <td>bangalore richer average traffic police</td>\n",
       "      <td>fear</td>\n",
       "    </tr>\n",
       "    <tr>\n",
       "      <th>...</th>\n",
       "      <td>...</td>\n",
       "      <td>...</td>\n",
       "    </tr>\n",
       "    <tr>\n",
       "      <th>249</th>\n",
       "      <td>mybangalore blrcitytraffic anil lulla hebbaltr...</td>\n",
       "      <td>fear</td>\n",
       "    </tr>\n",
       "    <tr>\n",
       "      <th>250</th>\n",
       "      <td>update traffic signal flash whitefield yyctraf...</td>\n",
       "      <td>fear</td>\n",
       "    </tr>\n",
       "    <tr>\n",
       "      <th>251</th>\n",
       "      <td>alert traffic incident whitefield block right ...</td>\n",
       "      <td>surprise</td>\n",
       "    </tr>\n",
       "    <tr>\n",
       "      <th>252</th>\n",
       "      <td>17092022 come wrong direction 0669 september 2...</td>\n",
       "      <td>fear</td>\n",
       "    </tr>\n",
       "    <tr>\n",
       "      <th>253</th>\n",
       "      <td>respect doctor hero nobody talk exist seem lik...</td>\n",
       "      <td>trust</td>\n",
       "    </tr>\n",
       "  </tbody>\n",
       "</table>\n",
       "<p>254 rows × 2 columns</p>\n",
       "</div>"
      ],
      "text/plain": [
       "                                                 tweet   Emotion\n",
       "0                              silkboard traffic death      fear\n",
       "1    capital traffic bangalore silk board miss reel...     anger\n",
       "2    suryapsingh32 satishacharya traffic first talk...      fear\n",
       "3    always crack silkboard traffic joke never live...      fear\n",
       "4              bangalore richer average traffic police      fear\n",
       "..                                                 ...       ...\n",
       "249  mybangalore blrcitytraffic anil lulla hebbaltr...      fear\n",
       "250  update traffic signal flash whitefield yyctraf...      fear\n",
       "251  alert traffic incident whitefield block right ...  surprise\n",
       "252  17092022 come wrong direction 0669 september 2...      fear\n",
       "253  respect doctor hero nobody talk exist seem lik...     trust\n",
       "\n",
       "[254 rows x 2 columns]"
      ]
     },
     "execution_count": 169,
     "metadata": {},
     "output_type": "execute_result"
    }
   ],
   "source": [
    "df_emo_freq_new['Emotion'] = df_emo_freq[['Emotion']].copy()\n",
    "df_emo_freq_new['tweet'] =  df_emo_freq_new['tweet'].str.lstrip()\n",
    "df_emo_freq_new"
   ]
  },
  {
   "cell_type": "code",
   "execution_count": 170,
   "metadata": {},
   "outputs": [],
   "source": [
    "df_emo_freq_new.to_csv('C:\\\\Users\\\\Surendra\\\\OneDrive\\\\Desktop\\\\Capstone\\\\Capstone_2\\\\Tweet_Emotion_label.csv', index= False)"
   ]
  },
  {
   "cell_type": "code",
   "execution_count": 139,
   "metadata": {},
   "outputs": [
    {
     "data": {
      "text/html": [
       "<div>\n",
       "<style scoped>\n",
       "    .dataframe tbody tr th:only-of-type {\n",
       "        vertical-align: middle;\n",
       "    }\n",
       "\n",
       "    .dataframe tbody tr th {\n",
       "        vertical-align: top;\n",
       "    }\n",
       "\n",
       "    .dataframe thead th {\n",
       "        text-align: right;\n",
       "    }\n",
       "</style>\n",
       "<table border=\"1\" class=\"dataframe\">\n",
       "  <thead>\n",
       "    <tr style=\"text-align: right;\">\n",
       "      <th></th>\n",
       "      <th>tweet</th>\n",
       "    </tr>\n",
       "    <tr>\n",
       "      <th>Emotion</th>\n",
       "      <th></th>\n",
       "    </tr>\n",
       "  </thead>\n",
       "  <tbody>\n",
       "    <tr>\n",
       "      <th>anger</th>\n",
       "      <td>13</td>\n",
       "    </tr>\n",
       "    <tr>\n",
       "      <th>anticipation</th>\n",
       "      <td>18</td>\n",
       "    </tr>\n",
       "    <tr>\n",
       "      <th>disgust</th>\n",
       "      <td>5</td>\n",
       "    </tr>\n",
       "    <tr>\n",
       "      <th>fear</th>\n",
       "      <td>153</td>\n",
       "    </tr>\n",
       "    <tr>\n",
       "      <th>joy</th>\n",
       "      <td>4</td>\n",
       "    </tr>\n",
       "    <tr>\n",
       "      <th>sadness</th>\n",
       "      <td>5</td>\n",
       "    </tr>\n",
       "    <tr>\n",
       "      <th>surprise</th>\n",
       "      <td>6</td>\n",
       "    </tr>\n",
       "    <tr>\n",
       "      <th>trust</th>\n",
       "      <td>50</td>\n",
       "    </tr>\n",
       "  </tbody>\n",
       "</table>\n",
       "</div>"
      ],
      "text/plain": [
       "              tweet\n",
       "Emotion            \n",
       "anger            13\n",
       "anticipation     18\n",
       "disgust           5\n",
       "fear            153\n",
       "joy               4\n",
       "sadness           5\n",
       "surprise          6\n",
       "trust            50"
      ]
     },
     "execution_count": 139,
     "metadata": {},
     "output_type": "execute_result"
    },
    {
     "data": {
      "text/plain": [
       "fear            153\n",
       "trust            50\n",
       "anticipation     18\n",
       "anger            13\n",
       "surprise          6\n",
       "disgust           5\n",
       "sadness           5\n",
       "joy               4\n",
       "Name: Emotion, dtype: int64"
      ]
     },
     "execution_count": 139,
     "metadata": {},
     "output_type": "execute_result"
    }
   ],
   "source": [
    "df_emo_freq_new.groupby('Emotion').count()\n",
    "emotions = df_emo_freq_new['Emotion'].value_counts()\n",
    "emotions"
   ]
  },
  {
   "cell_type": "code",
   "execution_count": null,
   "metadata": {},
   "outputs": [],
   "source": []
  },
  {
   "cell_type": "code",
   "execution_count": 150,
   "metadata": {
    "scrolled": false
   },
   "outputs": [
    {
     "data": {
      "application/vnd.plotly.v1+json": {
       "config": {
        "plotlyServerURL": "https://plot.ly"
       },
       "data": [
        {
         "alignmentgroup": "True",
         "hovertemplate": "Emotion in Tweet=%{y}<br>No. of Tweets=%{x}<extra></extra>",
         "legendgroup": "fear",
         "marker": {
          "color": "#636efa"
         },
         "name": "fear",
         "offsetgroup": "fear",
         "orientation": "h",
         "showlegend": true,
         "textposition": "auto",
         "type": "bar",
         "x": [
          153
         ],
         "xaxis": "x",
         "y": [
          "fear"
         ],
         "yaxis": "y"
        },
        {
         "alignmentgroup": "True",
         "hovertemplate": "Emotion in Tweet=%{y}<br>No. of Tweets=%{x}<extra></extra>",
         "legendgroup": "trust",
         "marker": {
          "color": "#EF553B"
         },
         "name": "trust",
         "offsetgroup": "trust",
         "orientation": "h",
         "showlegend": true,
         "textposition": "auto",
         "type": "bar",
         "x": [
          50
         ],
         "xaxis": "x",
         "y": [
          "trust"
         ],
         "yaxis": "y"
        },
        {
         "alignmentgroup": "True",
         "hovertemplate": "Emotion in Tweet=%{y}<br>No. of Tweets=%{x}<extra></extra>",
         "legendgroup": "anticipation",
         "marker": {
          "color": "#00cc96"
         },
         "name": "anticipation",
         "offsetgroup": "anticipation",
         "orientation": "h",
         "showlegend": true,
         "textposition": "auto",
         "type": "bar",
         "x": [
          18
         ],
         "xaxis": "x",
         "y": [
          "anticipation"
         ],
         "yaxis": "y"
        },
        {
         "alignmentgroup": "True",
         "hovertemplate": "Emotion in Tweet=%{y}<br>No. of Tweets=%{x}<extra></extra>",
         "legendgroup": "anger",
         "marker": {
          "color": "#ab63fa"
         },
         "name": "anger",
         "offsetgroup": "anger",
         "orientation": "h",
         "showlegend": true,
         "textposition": "auto",
         "type": "bar",
         "x": [
          13
         ],
         "xaxis": "x",
         "y": [
          "anger"
         ],
         "yaxis": "y"
        },
        {
         "alignmentgroup": "True",
         "hovertemplate": "Emotion in Tweet=%{y}<br>No. of Tweets=%{x}<extra></extra>",
         "legendgroup": "surprise",
         "marker": {
          "color": "#FFA15A"
         },
         "name": "surprise",
         "offsetgroup": "surprise",
         "orientation": "h",
         "showlegend": true,
         "textposition": "auto",
         "type": "bar",
         "x": [
          6
         ],
         "xaxis": "x",
         "y": [
          "surprise"
         ],
         "yaxis": "y"
        },
        {
         "alignmentgroup": "True",
         "hovertemplate": "Emotion in Tweet=%{y}<br>No. of Tweets=%{x}<extra></extra>",
         "legendgroup": "disgust",
         "marker": {
          "color": "#19d3f3"
         },
         "name": "disgust",
         "offsetgroup": "disgust",
         "orientation": "h",
         "showlegend": true,
         "textposition": "auto",
         "type": "bar",
         "x": [
          5
         ],
         "xaxis": "x",
         "y": [
          "disgust"
         ],
         "yaxis": "y"
        },
        {
         "alignmentgroup": "True",
         "hovertemplate": "Emotion in Tweet=%{y}<br>No. of Tweets=%{x}<extra></extra>",
         "legendgroup": "sadness",
         "marker": {
          "color": "#FF6692"
         },
         "name": "sadness",
         "offsetgroup": "sadness",
         "orientation": "h",
         "showlegend": true,
         "textposition": "auto",
         "type": "bar",
         "x": [
          5
         ],
         "xaxis": "x",
         "y": [
          "sadness"
         ],
         "yaxis": "y"
        },
        {
         "alignmentgroup": "True",
         "hovertemplate": "Emotion in Tweet=%{y}<br>No. of Tweets=%{x}<extra></extra>",
         "legendgroup": "joy",
         "marker": {
          "color": "#B6E880"
         },
         "name": "joy",
         "offsetgroup": "joy",
         "orientation": "h",
         "showlegend": true,
         "textposition": "auto",
         "type": "bar",
         "x": [
          4
         ],
         "xaxis": "x",
         "y": [
          "joy"
         ],
         "yaxis": "y"
        }
       ],
       "layout": {
        "barmode": "relative",
        "height": 400,
        "legend": {
         "title": {
          "text": "Emotion in Tweet"
         },
         "tracegroupgap": 0
        },
        "margin": {
         "t": 60
        },
        "template": {
         "data": {
          "bar": [
           {
            "error_x": {
             "color": "#2a3f5f"
            },
            "error_y": {
             "color": "#2a3f5f"
            },
            "marker": {
             "line": {
              "color": "#E5ECF6",
              "width": 0.5
             }
            },
            "type": "bar"
           }
          ],
          "barpolar": [
           {
            "marker": {
             "line": {
              "color": "#E5ECF6",
              "width": 0.5
             }
            },
            "type": "barpolar"
           }
          ],
          "carpet": [
           {
            "aaxis": {
             "endlinecolor": "#2a3f5f",
             "gridcolor": "white",
             "linecolor": "white",
             "minorgridcolor": "white",
             "startlinecolor": "#2a3f5f"
            },
            "baxis": {
             "endlinecolor": "#2a3f5f",
             "gridcolor": "white",
             "linecolor": "white",
             "minorgridcolor": "white",
             "startlinecolor": "#2a3f5f"
            },
            "type": "carpet"
           }
          ],
          "choropleth": [
           {
            "colorbar": {
             "outlinewidth": 0,
             "ticks": ""
            },
            "type": "choropleth"
           }
          ],
          "contour": [
           {
            "colorbar": {
             "outlinewidth": 0,
             "ticks": ""
            },
            "colorscale": [
             [
              0,
              "#0d0887"
             ],
             [
              0.1111111111111111,
              "#46039f"
             ],
             [
              0.2222222222222222,
              "#7201a8"
             ],
             [
              0.3333333333333333,
              "#9c179e"
             ],
             [
              0.4444444444444444,
              "#bd3786"
             ],
             [
              0.5555555555555556,
              "#d8576b"
             ],
             [
              0.6666666666666666,
              "#ed7953"
             ],
             [
              0.7777777777777778,
              "#fb9f3a"
             ],
             [
              0.8888888888888888,
              "#fdca26"
             ],
             [
              1,
              "#f0f921"
             ]
            ],
            "type": "contour"
           }
          ],
          "contourcarpet": [
           {
            "colorbar": {
             "outlinewidth": 0,
             "ticks": ""
            },
            "type": "contourcarpet"
           }
          ],
          "heatmap": [
           {
            "colorbar": {
             "outlinewidth": 0,
             "ticks": ""
            },
            "colorscale": [
             [
              0,
              "#0d0887"
             ],
             [
              0.1111111111111111,
              "#46039f"
             ],
             [
              0.2222222222222222,
              "#7201a8"
             ],
             [
              0.3333333333333333,
              "#9c179e"
             ],
             [
              0.4444444444444444,
              "#bd3786"
             ],
             [
              0.5555555555555556,
              "#d8576b"
             ],
             [
              0.6666666666666666,
              "#ed7953"
             ],
             [
              0.7777777777777778,
              "#fb9f3a"
             ],
             [
              0.8888888888888888,
              "#fdca26"
             ],
             [
              1,
              "#f0f921"
             ]
            ],
            "type": "heatmap"
           }
          ],
          "heatmapgl": [
           {
            "colorbar": {
             "outlinewidth": 0,
             "ticks": ""
            },
            "colorscale": [
             [
              0,
              "#0d0887"
             ],
             [
              0.1111111111111111,
              "#46039f"
             ],
             [
              0.2222222222222222,
              "#7201a8"
             ],
             [
              0.3333333333333333,
              "#9c179e"
             ],
             [
              0.4444444444444444,
              "#bd3786"
             ],
             [
              0.5555555555555556,
              "#d8576b"
             ],
             [
              0.6666666666666666,
              "#ed7953"
             ],
             [
              0.7777777777777778,
              "#fb9f3a"
             ],
             [
              0.8888888888888888,
              "#fdca26"
             ],
             [
              1,
              "#f0f921"
             ]
            ],
            "type": "heatmapgl"
           }
          ],
          "histogram": [
           {
            "marker": {
             "colorbar": {
              "outlinewidth": 0,
              "ticks": ""
             }
            },
            "type": "histogram"
           }
          ],
          "histogram2d": [
           {
            "colorbar": {
             "outlinewidth": 0,
             "ticks": ""
            },
            "colorscale": [
             [
              0,
              "#0d0887"
             ],
             [
              0.1111111111111111,
              "#46039f"
             ],
             [
              0.2222222222222222,
              "#7201a8"
             ],
             [
              0.3333333333333333,
              "#9c179e"
             ],
             [
              0.4444444444444444,
              "#bd3786"
             ],
             [
              0.5555555555555556,
              "#d8576b"
             ],
             [
              0.6666666666666666,
              "#ed7953"
             ],
             [
              0.7777777777777778,
              "#fb9f3a"
             ],
             [
              0.8888888888888888,
              "#fdca26"
             ],
             [
              1,
              "#f0f921"
             ]
            ],
            "type": "histogram2d"
           }
          ],
          "histogram2dcontour": [
           {
            "colorbar": {
             "outlinewidth": 0,
             "ticks": ""
            },
            "colorscale": [
             [
              0,
              "#0d0887"
             ],
             [
              0.1111111111111111,
              "#46039f"
             ],
             [
              0.2222222222222222,
              "#7201a8"
             ],
             [
              0.3333333333333333,
              "#9c179e"
             ],
             [
              0.4444444444444444,
              "#bd3786"
             ],
             [
              0.5555555555555556,
              "#d8576b"
             ],
             [
              0.6666666666666666,
              "#ed7953"
             ],
             [
              0.7777777777777778,
              "#fb9f3a"
             ],
             [
              0.8888888888888888,
              "#fdca26"
             ],
             [
              1,
              "#f0f921"
             ]
            ],
            "type": "histogram2dcontour"
           }
          ],
          "mesh3d": [
           {
            "colorbar": {
             "outlinewidth": 0,
             "ticks": ""
            },
            "type": "mesh3d"
           }
          ],
          "parcoords": [
           {
            "line": {
             "colorbar": {
              "outlinewidth": 0,
              "ticks": ""
             }
            },
            "type": "parcoords"
           }
          ],
          "pie": [
           {
            "automargin": true,
            "type": "pie"
           }
          ],
          "scatter": [
           {
            "marker": {
             "colorbar": {
              "outlinewidth": 0,
              "ticks": ""
             }
            },
            "type": "scatter"
           }
          ],
          "scatter3d": [
           {
            "line": {
             "colorbar": {
              "outlinewidth": 0,
              "ticks": ""
             }
            },
            "marker": {
             "colorbar": {
              "outlinewidth": 0,
              "ticks": ""
             }
            },
            "type": "scatter3d"
           }
          ],
          "scattercarpet": [
           {
            "marker": {
             "colorbar": {
              "outlinewidth": 0,
              "ticks": ""
             }
            },
            "type": "scattercarpet"
           }
          ],
          "scattergeo": [
           {
            "marker": {
             "colorbar": {
              "outlinewidth": 0,
              "ticks": ""
             }
            },
            "type": "scattergeo"
           }
          ],
          "scattergl": [
           {
            "marker": {
             "colorbar": {
              "outlinewidth": 0,
              "ticks": ""
             }
            },
            "type": "scattergl"
           }
          ],
          "scattermapbox": [
           {
            "marker": {
             "colorbar": {
              "outlinewidth": 0,
              "ticks": ""
             }
            },
            "type": "scattermapbox"
           }
          ],
          "scatterpolar": [
           {
            "marker": {
             "colorbar": {
              "outlinewidth": 0,
              "ticks": ""
             }
            },
            "type": "scatterpolar"
           }
          ],
          "scatterpolargl": [
           {
            "marker": {
             "colorbar": {
              "outlinewidth": 0,
              "ticks": ""
             }
            },
            "type": "scatterpolargl"
           }
          ],
          "scatterternary": [
           {
            "marker": {
             "colorbar": {
              "outlinewidth": 0,
              "ticks": ""
             }
            },
            "type": "scatterternary"
           }
          ],
          "surface": [
           {
            "colorbar": {
             "outlinewidth": 0,
             "ticks": ""
            },
            "colorscale": [
             [
              0,
              "#0d0887"
             ],
             [
              0.1111111111111111,
              "#46039f"
             ],
             [
              0.2222222222222222,
              "#7201a8"
             ],
             [
              0.3333333333333333,
              "#9c179e"
             ],
             [
              0.4444444444444444,
              "#bd3786"
             ],
             [
              0.5555555555555556,
              "#d8576b"
             ],
             [
              0.6666666666666666,
              "#ed7953"
             ],
             [
              0.7777777777777778,
              "#fb9f3a"
             ],
             [
              0.8888888888888888,
              "#fdca26"
             ],
             [
              1,
              "#f0f921"
             ]
            ],
            "type": "surface"
           }
          ],
          "table": [
           {
            "cells": {
             "fill": {
              "color": "#EBF0F8"
             },
             "line": {
              "color": "white"
             }
            },
            "header": {
             "fill": {
              "color": "#C8D4E3"
             },
             "line": {
              "color": "white"
             }
            },
            "type": "table"
           }
          ]
         },
         "layout": {
          "annotationdefaults": {
           "arrowcolor": "#2a3f5f",
           "arrowhead": 0,
           "arrowwidth": 1
          },
          "autotypenumbers": "strict",
          "coloraxis": {
           "colorbar": {
            "outlinewidth": 0,
            "ticks": ""
           }
          },
          "colorscale": {
           "diverging": [
            [
             0,
             "#8e0152"
            ],
            [
             0.1,
             "#c51b7d"
            ],
            [
             0.2,
             "#de77ae"
            ],
            [
             0.3,
             "#f1b6da"
            ],
            [
             0.4,
             "#fde0ef"
            ],
            [
             0.5,
             "#f7f7f7"
            ],
            [
             0.6,
             "#e6f5d0"
            ],
            [
             0.7,
             "#b8e186"
            ],
            [
             0.8,
             "#7fbc41"
            ],
            [
             0.9,
             "#4d9221"
            ],
            [
             1,
             "#276419"
            ]
           ],
           "sequential": [
            [
             0,
             "#0d0887"
            ],
            [
             0.1111111111111111,
             "#46039f"
            ],
            [
             0.2222222222222222,
             "#7201a8"
            ],
            [
             0.3333333333333333,
             "#9c179e"
            ],
            [
             0.4444444444444444,
             "#bd3786"
            ],
            [
             0.5555555555555556,
             "#d8576b"
            ],
            [
             0.6666666666666666,
             "#ed7953"
            ],
            [
             0.7777777777777778,
             "#fb9f3a"
            ],
            [
             0.8888888888888888,
             "#fdca26"
            ],
            [
             1,
             "#f0f921"
            ]
           ],
           "sequentialminus": [
            [
             0,
             "#0d0887"
            ],
            [
             0.1111111111111111,
             "#46039f"
            ],
            [
             0.2222222222222222,
             "#7201a8"
            ],
            [
             0.3333333333333333,
             "#9c179e"
            ],
            [
             0.4444444444444444,
             "#bd3786"
            ],
            [
             0.5555555555555556,
             "#d8576b"
            ],
            [
             0.6666666666666666,
             "#ed7953"
            ],
            [
             0.7777777777777778,
             "#fb9f3a"
            ],
            [
             0.8888888888888888,
             "#fdca26"
            ],
            [
             1,
             "#f0f921"
            ]
           ]
          },
          "colorway": [
           "#636efa",
           "#EF553B",
           "#00cc96",
           "#ab63fa",
           "#FFA15A",
           "#19d3f3",
           "#FF6692",
           "#B6E880",
           "#FF97FF",
           "#FECB52"
          ],
          "font": {
           "color": "#2a3f5f"
          },
          "geo": {
           "bgcolor": "white",
           "lakecolor": "white",
           "landcolor": "#E5ECF6",
           "showlakes": true,
           "showland": true,
           "subunitcolor": "white"
          },
          "hoverlabel": {
           "align": "left"
          },
          "hovermode": "closest",
          "mapbox": {
           "style": "light"
          },
          "paper_bgcolor": "white",
          "plot_bgcolor": "#E5ECF6",
          "polar": {
           "angularaxis": {
            "gridcolor": "white",
            "linecolor": "white",
            "ticks": ""
           },
           "bgcolor": "#E5ECF6",
           "radialaxis": {
            "gridcolor": "white",
            "linecolor": "white",
            "ticks": ""
           }
          },
          "scene": {
           "xaxis": {
            "backgroundcolor": "#E5ECF6",
            "gridcolor": "white",
            "gridwidth": 2,
            "linecolor": "white",
            "showbackground": true,
            "ticks": "",
            "zerolinecolor": "white"
           },
           "yaxis": {
            "backgroundcolor": "#E5ECF6",
            "gridcolor": "white",
            "gridwidth": 2,
            "linecolor": "white",
            "showbackground": true,
            "ticks": "",
            "zerolinecolor": "white"
           },
           "zaxis": {
            "backgroundcolor": "#E5ECF6",
            "gridcolor": "white",
            "gridwidth": 2,
            "linecolor": "white",
            "showbackground": true,
            "ticks": "",
            "zerolinecolor": "white"
           }
          },
          "shapedefaults": {
           "line": {
            "color": "#2a3f5f"
           }
          },
          "ternary": {
           "aaxis": {
            "gridcolor": "white",
            "linecolor": "white",
            "ticks": ""
           },
           "baxis": {
            "gridcolor": "white",
            "linecolor": "white",
            "ticks": ""
           },
           "bgcolor": "#E5ECF6",
           "caxis": {
            "gridcolor": "white",
            "linecolor": "white",
            "ticks": ""
           }
          },
          "title": {
           "x": 0.05
          },
          "xaxis": {
           "automargin": true,
           "gridcolor": "white",
           "linecolor": "white",
           "ticks": "",
           "title": {
            "standoff": 15
           },
           "zerolinecolor": "white",
           "zerolinewidth": 2
          },
          "yaxis": {
           "automargin": true,
           "gridcolor": "white",
           "linecolor": "white",
           "ticks": "",
           "title": {
            "standoff": 15
           },
           "zerolinecolor": "white",
           "zerolinewidth": 2
          }
         }
        },
        "width": 800,
        "xaxis": {
         "anchor": "y",
         "domain": [
          0,
          1
         ],
         "title": {
          "text": "No. of Tweets"
         }
        },
        "yaxis": {
         "anchor": "x",
         "categoryarray": [
          "joy",
          "sadness",
          "disgust",
          "surprise",
          "anger",
          "anticipation",
          "trust",
          "fear"
         ],
         "categoryorder": "array",
         "domain": [
          0,
          1
         ],
         "title": {
          "text": "Emotion in Tweet"
         }
        }
       }
      },
      "text/html": [
       "<div>                            <div id=\"3166e712-4078-493d-b64b-bbd9da19b2f0\" class=\"plotly-graph-div\" style=\"height:400px; width:800px;\"></div>            <script type=\"text/javascript\">                require([\"plotly\"], function(Plotly) {                    window.PLOTLYENV=window.PLOTLYENV || {};                                    if (document.getElementById(\"3166e712-4078-493d-b64b-bbd9da19b2f0\")) {                    Plotly.newPlot(                        \"3166e712-4078-493d-b64b-bbd9da19b2f0\",                        [{\"alignmentgroup\": \"True\", \"hovertemplate\": \"Emotion in Tweet=%{y}<br>No. of Tweets=%{x}<extra></extra>\", \"legendgroup\": \"fear\", \"marker\": {\"color\": \"#636efa\"}, \"name\": \"fear\", \"offsetgroup\": \"fear\", \"orientation\": \"h\", \"showlegend\": true, \"textposition\": \"auto\", \"type\": \"bar\", \"x\": [153], \"xaxis\": \"x\", \"y\": [\"fear\"], \"yaxis\": \"y\"}, {\"alignmentgroup\": \"True\", \"hovertemplate\": \"Emotion in Tweet=%{y}<br>No. of Tweets=%{x}<extra></extra>\", \"legendgroup\": \"trust\", \"marker\": {\"color\": \"#EF553B\"}, \"name\": \"trust\", \"offsetgroup\": \"trust\", \"orientation\": \"h\", \"showlegend\": true, \"textposition\": \"auto\", \"type\": \"bar\", \"x\": [50], \"xaxis\": \"x\", \"y\": [\"trust\"], \"yaxis\": \"y\"}, {\"alignmentgroup\": \"True\", \"hovertemplate\": \"Emotion in Tweet=%{y}<br>No. of Tweets=%{x}<extra></extra>\", \"legendgroup\": \"anticipation\", \"marker\": {\"color\": \"#00cc96\"}, \"name\": \"anticipation\", \"offsetgroup\": \"anticipation\", \"orientation\": \"h\", \"showlegend\": true, \"textposition\": \"auto\", \"type\": \"bar\", \"x\": [18], \"xaxis\": \"x\", \"y\": [\"anticipation\"], \"yaxis\": \"y\"}, {\"alignmentgroup\": \"True\", \"hovertemplate\": \"Emotion in Tweet=%{y}<br>No. of Tweets=%{x}<extra></extra>\", \"legendgroup\": \"anger\", \"marker\": {\"color\": \"#ab63fa\"}, \"name\": \"anger\", \"offsetgroup\": \"anger\", \"orientation\": \"h\", \"showlegend\": true, \"textposition\": \"auto\", \"type\": \"bar\", \"x\": [13], \"xaxis\": \"x\", \"y\": [\"anger\"], \"yaxis\": \"y\"}, {\"alignmentgroup\": \"True\", \"hovertemplate\": \"Emotion in Tweet=%{y}<br>No. of Tweets=%{x}<extra></extra>\", \"legendgroup\": \"surprise\", \"marker\": {\"color\": \"#FFA15A\"}, \"name\": \"surprise\", \"offsetgroup\": \"surprise\", \"orientation\": \"h\", \"showlegend\": true, \"textposition\": \"auto\", \"type\": \"bar\", \"x\": [6], \"xaxis\": \"x\", \"y\": [\"surprise\"], \"yaxis\": \"y\"}, {\"alignmentgroup\": \"True\", \"hovertemplate\": \"Emotion in Tweet=%{y}<br>No. of Tweets=%{x}<extra></extra>\", \"legendgroup\": \"disgust\", \"marker\": {\"color\": \"#19d3f3\"}, \"name\": \"disgust\", \"offsetgroup\": \"disgust\", \"orientation\": \"h\", \"showlegend\": true, \"textposition\": \"auto\", \"type\": \"bar\", \"x\": [5], \"xaxis\": \"x\", \"y\": [\"disgust\"], \"yaxis\": \"y\"}, {\"alignmentgroup\": \"True\", \"hovertemplate\": \"Emotion in Tweet=%{y}<br>No. of Tweets=%{x}<extra></extra>\", \"legendgroup\": \"sadness\", \"marker\": {\"color\": \"#FF6692\"}, \"name\": \"sadness\", \"offsetgroup\": \"sadness\", \"orientation\": \"h\", \"showlegend\": true, \"textposition\": \"auto\", \"type\": \"bar\", \"x\": [5], \"xaxis\": \"x\", \"y\": [\"sadness\"], \"yaxis\": \"y\"}, {\"alignmentgroup\": \"True\", \"hovertemplate\": \"Emotion in Tweet=%{y}<br>No. of Tweets=%{x}<extra></extra>\", \"legendgroup\": \"joy\", \"marker\": {\"color\": \"#B6E880\"}, \"name\": \"joy\", \"offsetgroup\": \"joy\", \"orientation\": \"h\", \"showlegend\": true, \"textposition\": \"auto\", \"type\": \"bar\", \"x\": [4], \"xaxis\": \"x\", \"y\": [\"joy\"], \"yaxis\": \"y\"}],                        {\"barmode\": \"relative\", \"height\": 400, \"legend\": {\"title\": {\"text\": \"Emotion in Tweet\"}, \"tracegroupgap\": 0}, \"margin\": {\"t\": 60}, \"template\": {\"data\": {\"bar\": [{\"error_x\": {\"color\": \"#2a3f5f\"}, \"error_y\": {\"color\": \"#2a3f5f\"}, \"marker\": {\"line\": {\"color\": \"#E5ECF6\", \"width\": 0.5}}, \"type\": \"bar\"}], \"barpolar\": [{\"marker\": {\"line\": {\"color\": \"#E5ECF6\", \"width\": 0.5}}, \"type\": \"barpolar\"}], \"carpet\": [{\"aaxis\": {\"endlinecolor\": \"#2a3f5f\", \"gridcolor\": \"white\", \"linecolor\": \"white\", \"minorgridcolor\": \"white\", \"startlinecolor\": \"#2a3f5f\"}, \"baxis\": {\"endlinecolor\": \"#2a3f5f\", \"gridcolor\": \"white\", \"linecolor\": \"white\", \"minorgridcolor\": \"white\", \"startlinecolor\": \"#2a3f5f\"}, \"type\": \"carpet\"}], \"choropleth\": [{\"colorbar\": {\"outlinewidth\": 0, \"ticks\": \"\"}, \"type\": \"choropleth\"}], \"contour\": [{\"colorbar\": {\"outlinewidth\": 0, \"ticks\": \"\"}, \"colorscale\": [[0.0, \"#0d0887\"], [0.1111111111111111, \"#46039f\"], [0.2222222222222222, \"#7201a8\"], [0.3333333333333333, \"#9c179e\"], [0.4444444444444444, \"#bd3786\"], [0.5555555555555556, \"#d8576b\"], [0.6666666666666666, \"#ed7953\"], [0.7777777777777778, \"#fb9f3a\"], [0.8888888888888888, \"#fdca26\"], [1.0, \"#f0f921\"]], \"type\": \"contour\"}], \"contourcarpet\": [{\"colorbar\": {\"outlinewidth\": 0, \"ticks\": \"\"}, \"type\": \"contourcarpet\"}], \"heatmap\": [{\"colorbar\": {\"outlinewidth\": 0, \"ticks\": \"\"}, \"colorscale\": [[0.0, \"#0d0887\"], [0.1111111111111111, \"#46039f\"], [0.2222222222222222, \"#7201a8\"], [0.3333333333333333, \"#9c179e\"], [0.4444444444444444, \"#bd3786\"], [0.5555555555555556, \"#d8576b\"], [0.6666666666666666, \"#ed7953\"], [0.7777777777777778, \"#fb9f3a\"], [0.8888888888888888, \"#fdca26\"], [1.0, \"#f0f921\"]], \"type\": \"heatmap\"}], \"heatmapgl\": [{\"colorbar\": {\"outlinewidth\": 0, \"ticks\": \"\"}, \"colorscale\": [[0.0, \"#0d0887\"], [0.1111111111111111, \"#46039f\"], [0.2222222222222222, \"#7201a8\"], [0.3333333333333333, \"#9c179e\"], [0.4444444444444444, \"#bd3786\"], [0.5555555555555556, \"#d8576b\"], [0.6666666666666666, \"#ed7953\"], [0.7777777777777778, \"#fb9f3a\"], [0.8888888888888888, \"#fdca26\"], [1.0, \"#f0f921\"]], \"type\": \"heatmapgl\"}], \"histogram\": [{\"marker\": {\"colorbar\": {\"outlinewidth\": 0, \"ticks\": \"\"}}, \"type\": \"histogram\"}], \"histogram2d\": [{\"colorbar\": {\"outlinewidth\": 0, \"ticks\": \"\"}, \"colorscale\": [[0.0, \"#0d0887\"], [0.1111111111111111, \"#46039f\"], [0.2222222222222222, \"#7201a8\"], [0.3333333333333333, \"#9c179e\"], [0.4444444444444444, \"#bd3786\"], [0.5555555555555556, \"#d8576b\"], [0.6666666666666666, \"#ed7953\"], [0.7777777777777778, \"#fb9f3a\"], [0.8888888888888888, \"#fdca26\"], [1.0, \"#f0f921\"]], \"type\": \"histogram2d\"}], \"histogram2dcontour\": [{\"colorbar\": {\"outlinewidth\": 0, \"ticks\": \"\"}, \"colorscale\": [[0.0, \"#0d0887\"], [0.1111111111111111, \"#46039f\"], [0.2222222222222222, \"#7201a8\"], [0.3333333333333333, \"#9c179e\"], [0.4444444444444444, \"#bd3786\"], [0.5555555555555556, \"#d8576b\"], [0.6666666666666666, \"#ed7953\"], [0.7777777777777778, \"#fb9f3a\"], [0.8888888888888888, \"#fdca26\"], [1.0, \"#f0f921\"]], \"type\": \"histogram2dcontour\"}], \"mesh3d\": [{\"colorbar\": {\"outlinewidth\": 0, \"ticks\": \"\"}, \"type\": \"mesh3d\"}], \"parcoords\": [{\"line\": {\"colorbar\": {\"outlinewidth\": 0, \"ticks\": \"\"}}, \"type\": \"parcoords\"}], \"pie\": [{\"automargin\": true, \"type\": \"pie\"}], \"scatter\": [{\"marker\": {\"colorbar\": {\"outlinewidth\": 0, \"ticks\": \"\"}}, \"type\": \"scatter\"}], \"scatter3d\": [{\"line\": {\"colorbar\": {\"outlinewidth\": 0, \"ticks\": \"\"}}, \"marker\": {\"colorbar\": {\"outlinewidth\": 0, \"ticks\": \"\"}}, \"type\": \"scatter3d\"}], \"scattercarpet\": [{\"marker\": {\"colorbar\": {\"outlinewidth\": 0, \"ticks\": \"\"}}, \"type\": \"scattercarpet\"}], \"scattergeo\": [{\"marker\": {\"colorbar\": {\"outlinewidth\": 0, \"ticks\": \"\"}}, \"type\": \"scattergeo\"}], \"scattergl\": [{\"marker\": {\"colorbar\": {\"outlinewidth\": 0, \"ticks\": \"\"}}, \"type\": \"scattergl\"}], \"scattermapbox\": [{\"marker\": {\"colorbar\": {\"outlinewidth\": 0, \"ticks\": \"\"}}, \"type\": \"scattermapbox\"}], \"scatterpolar\": [{\"marker\": {\"colorbar\": {\"outlinewidth\": 0, \"ticks\": \"\"}}, \"type\": \"scatterpolar\"}], \"scatterpolargl\": [{\"marker\": {\"colorbar\": {\"outlinewidth\": 0, \"ticks\": \"\"}}, \"type\": \"scatterpolargl\"}], \"scatterternary\": [{\"marker\": {\"colorbar\": {\"outlinewidth\": 0, \"ticks\": \"\"}}, \"type\": \"scatterternary\"}], \"surface\": [{\"colorbar\": {\"outlinewidth\": 0, \"ticks\": \"\"}, \"colorscale\": [[0.0, \"#0d0887\"], [0.1111111111111111, \"#46039f\"], [0.2222222222222222, \"#7201a8\"], [0.3333333333333333, \"#9c179e\"], [0.4444444444444444, \"#bd3786\"], [0.5555555555555556, \"#d8576b\"], [0.6666666666666666, \"#ed7953\"], [0.7777777777777778, \"#fb9f3a\"], [0.8888888888888888, \"#fdca26\"], [1.0, \"#f0f921\"]], \"type\": \"surface\"}], \"table\": [{\"cells\": {\"fill\": {\"color\": \"#EBF0F8\"}, \"line\": {\"color\": \"white\"}}, \"header\": {\"fill\": {\"color\": \"#C8D4E3\"}, \"line\": {\"color\": \"white\"}}, \"type\": \"table\"}]}, \"layout\": {\"annotationdefaults\": {\"arrowcolor\": \"#2a3f5f\", \"arrowhead\": 0, \"arrowwidth\": 1}, \"autotypenumbers\": \"strict\", \"coloraxis\": {\"colorbar\": {\"outlinewidth\": 0, \"ticks\": \"\"}}, \"colorscale\": {\"diverging\": [[0, \"#8e0152\"], [0.1, \"#c51b7d\"], [0.2, \"#de77ae\"], [0.3, \"#f1b6da\"], [0.4, \"#fde0ef\"], [0.5, \"#f7f7f7\"], [0.6, \"#e6f5d0\"], [0.7, \"#b8e186\"], [0.8, \"#7fbc41\"], [0.9, \"#4d9221\"], [1, \"#276419\"]], \"sequential\": [[0.0, \"#0d0887\"], [0.1111111111111111, \"#46039f\"], [0.2222222222222222, \"#7201a8\"], [0.3333333333333333, \"#9c179e\"], [0.4444444444444444, \"#bd3786\"], [0.5555555555555556, \"#d8576b\"], [0.6666666666666666, \"#ed7953\"], [0.7777777777777778, \"#fb9f3a\"], [0.8888888888888888, \"#fdca26\"], [1.0, \"#f0f921\"]], \"sequentialminus\": [[0.0, \"#0d0887\"], [0.1111111111111111, \"#46039f\"], [0.2222222222222222, \"#7201a8\"], [0.3333333333333333, \"#9c179e\"], [0.4444444444444444, \"#bd3786\"], [0.5555555555555556, \"#d8576b\"], [0.6666666666666666, \"#ed7953\"], [0.7777777777777778, \"#fb9f3a\"], [0.8888888888888888, \"#fdca26\"], [1.0, \"#f0f921\"]]}, \"colorway\": [\"#636efa\", \"#EF553B\", \"#00cc96\", \"#ab63fa\", \"#FFA15A\", \"#19d3f3\", \"#FF6692\", \"#B6E880\", \"#FF97FF\", \"#FECB52\"], \"font\": {\"color\": \"#2a3f5f\"}, \"geo\": {\"bgcolor\": \"white\", \"lakecolor\": \"white\", \"landcolor\": \"#E5ECF6\", \"showlakes\": true, \"showland\": true, \"subunitcolor\": \"white\"}, \"hoverlabel\": {\"align\": \"left\"}, \"hovermode\": \"closest\", \"mapbox\": {\"style\": \"light\"}, \"paper_bgcolor\": \"white\", \"plot_bgcolor\": \"#E5ECF6\", \"polar\": {\"angularaxis\": {\"gridcolor\": \"white\", \"linecolor\": \"white\", \"ticks\": \"\"}, \"bgcolor\": \"#E5ECF6\", \"radialaxis\": {\"gridcolor\": \"white\", \"linecolor\": \"white\", \"ticks\": \"\"}}, \"scene\": {\"xaxis\": {\"backgroundcolor\": \"#E5ECF6\", \"gridcolor\": \"white\", \"gridwidth\": 2, \"linecolor\": \"white\", \"showbackground\": true, \"ticks\": \"\", \"zerolinecolor\": \"white\"}, \"yaxis\": {\"backgroundcolor\": \"#E5ECF6\", \"gridcolor\": \"white\", \"gridwidth\": 2, \"linecolor\": \"white\", \"showbackground\": true, \"ticks\": \"\", \"zerolinecolor\": \"white\"}, \"zaxis\": {\"backgroundcolor\": \"#E5ECF6\", \"gridcolor\": \"white\", \"gridwidth\": 2, \"linecolor\": \"white\", \"showbackground\": true, \"ticks\": \"\", \"zerolinecolor\": \"white\"}}, \"shapedefaults\": {\"line\": {\"color\": \"#2a3f5f\"}}, \"ternary\": {\"aaxis\": {\"gridcolor\": \"white\", \"linecolor\": \"white\", \"ticks\": \"\"}, \"baxis\": {\"gridcolor\": \"white\", \"linecolor\": \"white\", \"ticks\": \"\"}, \"bgcolor\": \"#E5ECF6\", \"caxis\": {\"gridcolor\": \"white\", \"linecolor\": \"white\", \"ticks\": \"\"}}, \"title\": {\"x\": 0.05}, \"xaxis\": {\"automargin\": true, \"gridcolor\": \"white\", \"linecolor\": \"white\", \"ticks\": \"\", \"title\": {\"standoff\": 15}, \"zerolinecolor\": \"white\", \"zerolinewidth\": 2}, \"yaxis\": {\"automargin\": true, \"gridcolor\": \"white\", \"linecolor\": \"white\", \"ticks\": \"\", \"title\": {\"standoff\": 15}, \"zerolinecolor\": \"white\", \"zerolinewidth\": 2}}}, \"width\": 800, \"xaxis\": {\"anchor\": \"y\", \"domain\": [0.0, 1.0], \"title\": {\"text\": \"No. of Tweets\"}}, \"yaxis\": {\"anchor\": \"x\", \"categoryarray\": [\"joy\", \"sadness\", \"disgust\", \"surprise\", \"anger\", \"anticipation\", \"trust\", \"fear\"], \"categoryorder\": \"array\", \"domain\": [0.0, 1.0], \"title\": {\"text\": \"Emotion in Tweet\"}}},                        {\"responsive\": true}                    ).then(function(){\n",
       "                            \n",
       "var gd = document.getElementById('3166e712-4078-493d-b64b-bbd9da19b2f0');\n",
       "var x = new MutationObserver(function (mutations, observer) {{\n",
       "        var display = window.getComputedStyle(gd).display;\n",
       "        if (!display || display === 'none') {{\n",
       "            console.log([gd, 'removed!']);\n",
       "            Plotly.purge(gd);\n",
       "            observer.disconnect();\n",
       "        }}\n",
       "}});\n",
       "\n",
       "// Listen for the removal of the full notebook cells\n",
       "var notebookContainer = gd.closest('#notebook-container');\n",
       "if (notebookContainer) {{\n",
       "    x.observe(notebookContainer, {childList: true});\n",
       "}}\n",
       "\n",
       "// Listen for the clearing of the current output cell\n",
       "var outputEl = gd.closest('.output');\n",
       "if (outputEl) {{\n",
       "    x.observe(outputEl, {childList: true});\n",
       "}}\n",
       "\n",
       "                        })                };                });            </script>        </div>"
      ]
     },
     "metadata": {},
     "output_type": "display_data"
    }
   ],
   "source": [
    "emo_freq = pd.Series(df_emo_freq_new['Emotion'].value_counts()).to_dict()\n",
    "#emo_freq.sort_values()[-10:].plot(kind = 'barh')\n",
    "emotion_df = pd.DataFrame.from_dict(emo_freq, orient='index')\n",
    "emotion_df = emotion_df.reset_index()\n",
    "emotion_df = emotion_df.rename(columns={'index' : 'Emotion in Tweet' , 0: 'No. of Tweets'})\n",
    "emotion_df = emotion_df.sort_values(by=['No. of Tweets'], ascending=False)\n",
    "import plotly.express as px\n",
    "fig = px.bar(emotion_df, x='No. of Tweets', y='Emotion in Tweet', color = 'Emotion in Tweet', orientation='h', width = 800, height = 400)\n",
    "fig.show()"
   ]
  },
  {
   "cell_type": "code",
   "execution_count": 177,
   "metadata": {},
   "outputs": [],
   "source": [
    "all_emo_df = pd.read_csv('C:\\\\Users\\\\Surendra\\\\OneDrive\\\\Desktop\\\\Capstone\\\\Capstone_2\\\\output_emo\\\\all_emotions.csv')"
   ]
  },
  {
   "cell_type": "code",
   "execution_count": 179,
   "metadata": {},
   "outputs": [
    {
     "data": {
      "text/plain": [
       "Index(['Tweet', 'numTokens', 'numLexTokens', 'lexRatio', 'avgLexVal_trust',\n",
       "       'emotion_trust', 'avgLexVal_anticipation', 'emotion_anticipation',\n",
       "       'avgLexVal_anger', 'emotion_anger', 'avgLexVal_disgust',\n",
       "       'emotion_disgust', 'avgLexVal_fear', 'emotion_fear', 'avgLexVal_joy',\n",
       "       'emotion_joy', 'avgLexVal_surprise', 'emotion_surprise',\n",
       "       'avgLexVal_sadness', 'emotion_sadness'],\n",
       "      dtype='object')"
      ]
     },
     "execution_count": 179,
     "metadata": {},
     "output_type": "execute_result"
    }
   ],
   "source": [
    "all_emo_df.columns"
   ]
  },
  {
   "cell_type": "code",
   "execution_count": 180,
   "metadata": {},
   "outputs": [],
   "source": [
    "all_emo_df_new = all_emo_df.drop(columns=['Tweet', 'numTokens', 'numLexTokens', 'lexRatio', 'emotion_trust',\n",
    "                                          'emotion_anticipation','emotion_anger', 'emotion_disgust', 'emotion_fear',\n",
    "                                          'emotion_joy', 'emotion_surprise', 'emotion_sadness'])"
   ]
  },
  {
   "cell_type": "code",
   "execution_count": 181,
   "metadata": {},
   "outputs": [
    {
     "name": "stdout",
     "output_type": "stream",
     "text": [
      "0      avgLexVal_anticipation\n",
      "1      avgLexVal_anticipation\n",
      "2             avgLexVal_anger\n",
      "3             avgLexVal_trust\n",
      "4             avgLexVal_trust\n",
      "                ...          \n",
      "241           avgLexVal_trust\n",
      "242           avgLexVal_trust\n",
      "243        avgLexVal_surprise\n",
      "244    avgLexVal_anticipation\n",
      "245           avgLexVal_trust\n",
      "Length: 246, dtype: object\n"
     ]
    }
   ],
   "source": [
    "maxValues = all_emo_df_new.astype(float).idxmax(axis=1)\n",
    "print(maxValues)"
   ]
  },
  {
   "cell_type": "code",
   "execution_count": 189,
   "metadata": {},
   "outputs": [
    {
     "data": {
      "text/html": [
       "<div>\n",
       "<style scoped>\n",
       "    .dataframe tbody tr th:only-of-type {\n",
       "        vertical-align: middle;\n",
       "    }\n",
       "\n",
       "    .dataframe tbody tr th {\n",
       "        vertical-align: top;\n",
       "    }\n",
       "\n",
       "    .dataframe thead th {\n",
       "        text-align: right;\n",
       "    }\n",
       "</style>\n",
       "<table border=\"1\" class=\"dataframe\">\n",
       "  <thead>\n",
       "    <tr style=\"text-align: right;\">\n",
       "      <th></th>\n",
       "    </tr>\n",
       "  </thead>\n",
       "  <tbody>\n",
       "  </tbody>\n",
       "</table>\n",
       "</div>"
      ],
      "text/plain": [
       "Empty DataFrame\n",
       "Columns: []\n",
       "Index: []"
      ]
     },
     "execution_count": 189,
     "metadata": {},
     "output_type": "execute_result"
    },
    {
     "data": {
      "text/html": [
       "<div>\n",
       "<style scoped>\n",
       "    .dataframe tbody tr th:only-of-type {\n",
       "        vertical-align: middle;\n",
       "    }\n",
       "\n",
       "    .dataframe tbody tr th {\n",
       "        vertical-align: top;\n",
       "    }\n",
       "\n",
       "    .dataframe thead th {\n",
       "        text-align: right;\n",
       "    }\n",
       "</style>\n",
       "<table border=\"1\" class=\"dataframe\">\n",
       "  <thead>\n",
       "    <tr style=\"text-align: right;\">\n",
       "      <th></th>\n",
       "      <th>avg_lex_val</th>\n",
       "      <th>Emotion</th>\n",
       "    </tr>\n",
       "  </thead>\n",
       "  <tbody>\n",
       "    <tr>\n",
       "      <th>0</th>\n",
       "      <td>avgLexVal</td>\n",
       "      <td>anticipation</td>\n",
       "    </tr>\n",
       "    <tr>\n",
       "      <th>1</th>\n",
       "      <td>avgLexVal</td>\n",
       "      <td>anticipation</td>\n",
       "    </tr>\n",
       "    <tr>\n",
       "      <th>2</th>\n",
       "      <td>avgLexVal</td>\n",
       "      <td>anger</td>\n",
       "    </tr>\n",
       "    <tr>\n",
       "      <th>3</th>\n",
       "      <td>avgLexVal</td>\n",
       "      <td>trust</td>\n",
       "    </tr>\n",
       "    <tr>\n",
       "      <th>4</th>\n",
       "      <td>avgLexVal</td>\n",
       "      <td>trust</td>\n",
       "    </tr>\n",
       "    <tr>\n",
       "      <th>...</th>\n",
       "      <td>...</td>\n",
       "      <td>...</td>\n",
       "    </tr>\n",
       "    <tr>\n",
       "      <th>241</th>\n",
       "      <td>avgLexVal</td>\n",
       "      <td>trust</td>\n",
       "    </tr>\n",
       "    <tr>\n",
       "      <th>242</th>\n",
       "      <td>avgLexVal</td>\n",
       "      <td>trust</td>\n",
       "    </tr>\n",
       "    <tr>\n",
       "      <th>243</th>\n",
       "      <td>avgLexVal</td>\n",
       "      <td>surprise</td>\n",
       "    </tr>\n",
       "    <tr>\n",
       "      <th>244</th>\n",
       "      <td>avgLexVal</td>\n",
       "      <td>anticipation</td>\n",
       "    </tr>\n",
       "    <tr>\n",
       "      <th>245</th>\n",
       "      <td>avgLexVal</td>\n",
       "      <td>trust</td>\n",
       "    </tr>\n",
       "  </tbody>\n",
       "</table>\n",
       "<p>246 rows × 2 columns</p>\n",
       "</div>"
      ],
      "text/plain": [
       "    avg_lex_val       Emotion\n",
       "0     avgLexVal  anticipation\n",
       "1     avgLexVal  anticipation\n",
       "2     avgLexVal         anger\n",
       "3     avgLexVal         trust\n",
       "4     avgLexVal         trust\n",
       "..          ...           ...\n",
       "241   avgLexVal         trust\n",
       "242   avgLexVal         trust\n",
       "243   avgLexVal      surprise\n",
       "244   avgLexVal  anticipation\n",
       "245   avgLexVal         trust\n",
       "\n",
       "[246 rows x 2 columns]"
      ]
     },
     "execution_count": 189,
     "metadata": {},
     "output_type": "execute_result"
    }
   ],
   "source": [
    "all_emo_df_new_1 = pd.DataFrame(maxValues, columns=['Emotion'])\n",
    "all_emo_df_new_2 = pd.DataFrame()\n",
    "all_emo_df_new_2\n",
    "all_emo_df_new_2[['avg_lex_val','Emotion']] = all_emo_df_new_1['Emotion'].str.split('_', expand=True)\n",
    "all_emo_df_new_2"
   ]
  },
  {
   "cell_type": "code",
   "execution_count": 190,
   "metadata": {},
   "outputs": [
    {
     "data": {
      "text/html": [
       "<div>\n",
       "<style scoped>\n",
       "    .dataframe tbody tr th:only-of-type {\n",
       "        vertical-align: middle;\n",
       "    }\n",
       "\n",
       "    .dataframe tbody tr th {\n",
       "        vertical-align: top;\n",
       "    }\n",
       "\n",
       "    .dataframe thead th {\n",
       "        text-align: right;\n",
       "    }\n",
       "</style>\n",
       "<table border=\"1\" class=\"dataframe\">\n",
       "  <thead>\n",
       "    <tr style=\"text-align: right;\">\n",
       "      <th></th>\n",
       "      <th>Tweet</th>\n",
       "      <th>numTokens</th>\n",
       "      <th>numLexTokens</th>\n",
       "      <th>lexRatio</th>\n",
       "      <th>avgLexVal_trust</th>\n",
       "      <th>emotion_trust</th>\n",
       "      <th>avgLexVal_anticipation</th>\n",
       "      <th>emotion_anticipation</th>\n",
       "      <th>avgLexVal_anger</th>\n",
       "      <th>emotion_anger</th>\n",
       "      <th>...</th>\n",
       "      <th>emotion_disgust</th>\n",
       "      <th>avgLexVal_fear</th>\n",
       "      <th>emotion_fear</th>\n",
       "      <th>avgLexVal_joy</th>\n",
       "      <th>emotion_joy</th>\n",
       "      <th>avgLexVal_surprise</th>\n",
       "      <th>emotion_surprise</th>\n",
       "      <th>avgLexVal_sadness</th>\n",
       "      <th>emotion_sadness</th>\n",
       "      <th>Emotion</th>\n",
       "    </tr>\n",
       "  </thead>\n",
       "  <tbody>\n",
       "    <tr>\n",
       "      <th>0</th>\n",
       "      <td>silkboard traffic will be the death of me</td>\n",
       "      <td>8</td>\n",
       "      <td>2</td>\n",
       "      <td>0.250000</td>\n",
       "      <td>0.000000</td>\n",
       "      <td>trust</td>\n",
       "      <td>0.500000</td>\n",
       "      <td>anticipation</td>\n",
       "      <td>0.500000</td>\n",
       "      <td>anger</td>\n",
       "      <td>...</td>\n",
       "      <td>disgust</td>\n",
       "      <td>0.500000</td>\n",
       "      <td>fear</td>\n",
       "      <td>0.00</td>\n",
       "      <td>joy</td>\n",
       "      <td>0.50</td>\n",
       "      <td>surprise</td>\n",
       "      <td>0.50</td>\n",
       "      <td>sadness</td>\n",
       "      <td>anticipation</td>\n",
       "    </tr>\n",
       "    <tr>\n",
       "      <th>1</th>\n",
       "      <td>The capital of traffic in Bangalore Silk Board...</td>\n",
       "      <td>19</td>\n",
       "      <td>6</td>\n",
       "      <td>0.315789</td>\n",
       "      <td>0.000000</td>\n",
       "      <td>trust</td>\n",
       "      <td>0.166667</td>\n",
       "      <td>anticipation</td>\n",
       "      <td>0.166667</td>\n",
       "      <td>anger</td>\n",
       "      <td>...</td>\n",
       "      <td>disgust</td>\n",
       "      <td>0.000000</td>\n",
       "      <td>fear</td>\n",
       "      <td>0.00</td>\n",
       "      <td>joy</td>\n",
       "      <td>0.00</td>\n",
       "      <td>surprise</td>\n",
       "      <td>0.00</td>\n",
       "      <td>sadness</td>\n",
       "      <td>anticipation</td>\n",
       "    </tr>\n",
       "    <tr>\n",
       "      <th>2</th>\n",
       "      <td>Suryapsingh32 satishacharya Fix your traffic f...</td>\n",
       "      <td>14</td>\n",
       "      <td>4</td>\n",
       "      <td>0.285714</td>\n",
       "      <td>0.000000</td>\n",
       "      <td>trust</td>\n",
       "      <td>0.000000</td>\n",
       "      <td>anticipation</td>\n",
       "      <td>0.250000</td>\n",
       "      <td>anger</td>\n",
       "      <td>...</td>\n",
       "      <td>disgust</td>\n",
       "      <td>0.250000</td>\n",
       "      <td>fear</td>\n",
       "      <td>0.00</td>\n",
       "      <td>joy</td>\n",
       "      <td>0.00</td>\n",
       "      <td>surprise</td>\n",
       "      <td>0.25</td>\n",
       "      <td>sadness</td>\n",
       "      <td>anger</td>\n",
       "    </tr>\n",
       "    <tr>\n",
       "      <th>3</th>\n",
       "      <td>Those who always crack silkboard traffic jokes...</td>\n",
       "      <td>15</td>\n",
       "      <td>3</td>\n",
       "      <td>0.200000</td>\n",
       "      <td>0.000000</td>\n",
       "      <td>trust</td>\n",
       "      <td>0.000000</td>\n",
       "      <td>anticipation</td>\n",
       "      <td>0.000000</td>\n",
       "      <td>anger</td>\n",
       "      <td>...</td>\n",
       "      <td>disgust</td>\n",
       "      <td>0.000000</td>\n",
       "      <td>fear</td>\n",
       "      <td>0.00</td>\n",
       "      <td>joy</td>\n",
       "      <td>0.00</td>\n",
       "      <td>surprise</td>\n",
       "      <td>0.00</td>\n",
       "      <td>sadness</td>\n",
       "      <td>trust</td>\n",
       "    </tr>\n",
       "    <tr>\n",
       "      <th>4</th>\n",
       "      <td>In Bangalore who is richer than CEO The averag...</td>\n",
       "      <td>11</td>\n",
       "      <td>3</td>\n",
       "      <td>0.272727</td>\n",
       "      <td>0.333333</td>\n",
       "      <td>trust</td>\n",
       "      <td>0.000000</td>\n",
       "      <td>anticipation</td>\n",
       "      <td>0.000000</td>\n",
       "      <td>anger</td>\n",
       "      <td>...</td>\n",
       "      <td>disgust</td>\n",
       "      <td>0.333333</td>\n",
       "      <td>fear</td>\n",
       "      <td>0.00</td>\n",
       "      <td>joy</td>\n",
       "      <td>0.00</td>\n",
       "      <td>surprise</td>\n",
       "      <td>0.00</td>\n",
       "      <td>sadness</td>\n",
       "      <td>trust</td>\n",
       "    </tr>\n",
       "    <tr>\n",
       "      <th>...</th>\n",
       "      <td>...</td>\n",
       "      <td>...</td>\n",
       "      <td>...</td>\n",
       "      <td>...</td>\n",
       "      <td>...</td>\n",
       "      <td>...</td>\n",
       "      <td>...</td>\n",
       "      <td>...</td>\n",
       "      <td>...</td>\n",
       "      <td>...</td>\n",
       "      <td>...</td>\n",
       "      <td>...</td>\n",
       "      <td>...</td>\n",
       "      <td>...</td>\n",
       "      <td>...</td>\n",
       "      <td>...</td>\n",
       "      <td>...</td>\n",
       "      <td>...</td>\n",
       "      <td>...</td>\n",
       "      <td>...</td>\n",
       "      <td>...</td>\n",
       "    </tr>\n",
       "    <tr>\n",
       "      <th>241</th>\n",
       "      <td>mybangalore blrcitytraffic NGR blr anil lulla ...</td>\n",
       "      <td>13</td>\n",
       "      <td>2</td>\n",
       "      <td>0.153846</td>\n",
       "      <td>0.000000</td>\n",
       "      <td>trust</td>\n",
       "      <td>0.000000</td>\n",
       "      <td>anticipation</td>\n",
       "      <td>0.000000</td>\n",
       "      <td>anger</td>\n",
       "      <td>...</td>\n",
       "      <td>disgust</td>\n",
       "      <td>0.000000</td>\n",
       "      <td>fear</td>\n",
       "      <td>0.00</td>\n",
       "      <td>joy</td>\n",
       "      <td>0.00</td>\n",
       "      <td>surprise</td>\n",
       "      <td>0.00</td>\n",
       "      <td>sadness</td>\n",
       "      <td>trust</td>\n",
       "    </tr>\n",
       "    <tr>\n",
       "      <th>242</th>\n",
       "      <td>UPDATE Traffic signals are flashing red on 36 ...</td>\n",
       "      <td>14</td>\n",
       "      <td>3</td>\n",
       "      <td>0.214286</td>\n",
       "      <td>0.000000</td>\n",
       "      <td>trust</td>\n",
       "      <td>0.000000</td>\n",
       "      <td>anticipation</td>\n",
       "      <td>0.000000</td>\n",
       "      <td>anger</td>\n",
       "      <td>...</td>\n",
       "      <td>disgust</td>\n",
       "      <td>0.000000</td>\n",
       "      <td>fear</td>\n",
       "      <td>0.00</td>\n",
       "      <td>joy</td>\n",
       "      <td>0.00</td>\n",
       "      <td>surprise</td>\n",
       "      <td>0.00</td>\n",
       "      <td>sadness</td>\n",
       "      <td>trust</td>\n",
       "    </tr>\n",
       "    <tr>\n",
       "      <th>243</th>\n",
       "      <td>ALERT Traffic incident on 36 St and Whitefield...</td>\n",
       "      <td>15</td>\n",
       "      <td>4</td>\n",
       "      <td>0.266667</td>\n",
       "      <td>0.000000</td>\n",
       "      <td>trust</td>\n",
       "      <td>0.000000</td>\n",
       "      <td>anticipation</td>\n",
       "      <td>0.000000</td>\n",
       "      <td>anger</td>\n",
       "      <td>...</td>\n",
       "      <td>disgust</td>\n",
       "      <td>0.000000</td>\n",
       "      <td>fear</td>\n",
       "      <td>0.00</td>\n",
       "      <td>joy</td>\n",
       "      <td>0.25</td>\n",
       "      <td>surprise</td>\n",
       "      <td>0.00</td>\n",
       "      <td>sadness</td>\n",
       "      <td>surprise</td>\n",
       "    </tr>\n",
       "    <tr>\n",
       "      <th>244</th>\n",
       "      <td>TW 004 17092022 Coming in wrong direction KA 0...</td>\n",
       "      <td>14</td>\n",
       "      <td>5</td>\n",
       "      <td>0.357143</td>\n",
       "      <td>0.000000</td>\n",
       "      <td>trust</td>\n",
       "      <td>0.200000</td>\n",
       "      <td>anticipation</td>\n",
       "      <td>0.000000</td>\n",
       "      <td>anger</td>\n",
       "      <td>...</td>\n",
       "      <td>disgust</td>\n",
       "      <td>0.000000</td>\n",
       "      <td>fear</td>\n",
       "      <td>0.00</td>\n",
       "      <td>joy</td>\n",
       "      <td>0.00</td>\n",
       "      <td>surprise</td>\n",
       "      <td>0.00</td>\n",
       "      <td>sadness</td>\n",
       "      <td>anticipation</td>\n",
       "    </tr>\n",
       "    <tr>\n",
       "      <th>245</th>\n",
       "      <td>Mad respect for the Doctor There are heroes no...</td>\n",
       "      <td>20</td>\n",
       "      <td>4</td>\n",
       "      <td>0.200000</td>\n",
       "      <td>0.500000</td>\n",
       "      <td>trust</td>\n",
       "      <td>0.250000</td>\n",
       "      <td>anticipation</td>\n",
       "      <td>0.250000</td>\n",
       "      <td>anger</td>\n",
       "      <td>...</td>\n",
       "      <td>disgust</td>\n",
       "      <td>0.250000</td>\n",
       "      <td>fear</td>\n",
       "      <td>0.25</td>\n",
       "      <td>joy</td>\n",
       "      <td>0.00</td>\n",
       "      <td>surprise</td>\n",
       "      <td>0.25</td>\n",
       "      <td>sadness</td>\n",
       "      <td>trust</td>\n",
       "    </tr>\n",
       "  </tbody>\n",
       "</table>\n",
       "<p>246 rows × 21 columns</p>\n",
       "</div>"
      ],
      "text/plain": [
       "                                                 Tweet  numTokens  \\\n",
       "0            silkboard traffic will be the death of me          8   \n",
       "1    The capital of traffic in Bangalore Silk Board...         19   \n",
       "2    Suryapsingh32 satishacharya Fix your traffic f...         14   \n",
       "3    Those who always crack silkboard traffic jokes...         15   \n",
       "4    In Bangalore who is richer than CEO The averag...         11   \n",
       "..                                                 ...        ...   \n",
       "241  mybangalore blrcitytraffic NGR blr anil lulla ...         13   \n",
       "242  UPDATE Traffic signals are flashing red on 36 ...         14   \n",
       "243  ALERT Traffic incident on 36 St and Whitefield...         15   \n",
       "244  TW 004 17092022 Coming in wrong direction KA 0...         14   \n",
       "245  Mad respect for the Doctor There are heroes no...         20   \n",
       "\n",
       "     numLexTokens  lexRatio  avgLexVal_trust emotion_trust  \\\n",
       "0               2  0.250000         0.000000         trust   \n",
       "1               6  0.315789         0.000000         trust   \n",
       "2               4  0.285714         0.000000         trust   \n",
       "3               3  0.200000         0.000000         trust   \n",
       "4               3  0.272727         0.333333         trust   \n",
       "..            ...       ...              ...           ...   \n",
       "241             2  0.153846         0.000000         trust   \n",
       "242             3  0.214286         0.000000         trust   \n",
       "243             4  0.266667         0.000000         trust   \n",
       "244             5  0.357143         0.000000         trust   \n",
       "245             4  0.200000         0.500000         trust   \n",
       "\n",
       "     avgLexVal_anticipation emotion_anticipation  avgLexVal_anger  \\\n",
       "0                  0.500000         anticipation         0.500000   \n",
       "1                  0.166667         anticipation         0.166667   \n",
       "2                  0.000000         anticipation         0.250000   \n",
       "3                  0.000000         anticipation         0.000000   \n",
       "4                  0.000000         anticipation         0.000000   \n",
       "..                      ...                  ...              ...   \n",
       "241                0.000000         anticipation         0.000000   \n",
       "242                0.000000         anticipation         0.000000   \n",
       "243                0.000000         anticipation         0.000000   \n",
       "244                0.200000         anticipation         0.000000   \n",
       "245                0.250000         anticipation         0.250000   \n",
       "\n",
       "    emotion_anger  ...  emotion_disgust avgLexVal_fear  emotion_fear  \\\n",
       "0           anger  ...          disgust       0.500000          fear   \n",
       "1           anger  ...          disgust       0.000000          fear   \n",
       "2           anger  ...          disgust       0.250000          fear   \n",
       "3           anger  ...          disgust       0.000000          fear   \n",
       "4           anger  ...          disgust       0.333333          fear   \n",
       "..            ...  ...              ...            ...           ...   \n",
       "241         anger  ...          disgust       0.000000          fear   \n",
       "242         anger  ...          disgust       0.000000          fear   \n",
       "243         anger  ...          disgust       0.000000          fear   \n",
       "244         anger  ...          disgust       0.000000          fear   \n",
       "245         anger  ...          disgust       0.250000          fear   \n",
       "\n",
       "    avgLexVal_joy  emotion_joy avgLexVal_surprise  emotion_surprise  \\\n",
       "0            0.00          joy               0.50          surprise   \n",
       "1            0.00          joy               0.00          surprise   \n",
       "2            0.00          joy               0.00          surprise   \n",
       "3            0.00          joy               0.00          surprise   \n",
       "4            0.00          joy               0.00          surprise   \n",
       "..            ...          ...                ...               ...   \n",
       "241          0.00          joy               0.00          surprise   \n",
       "242          0.00          joy               0.00          surprise   \n",
       "243          0.00          joy               0.25          surprise   \n",
       "244          0.00          joy               0.00          surprise   \n",
       "245          0.25          joy               0.00          surprise   \n",
       "\n",
       "    avgLexVal_sadness  emotion_sadness       Emotion  \n",
       "0                0.50          sadness  anticipation  \n",
       "1                0.00          sadness  anticipation  \n",
       "2                0.25          sadness         anger  \n",
       "3                0.00          sadness         trust  \n",
       "4                0.00          sadness         trust  \n",
       "..                ...              ...           ...  \n",
       "241              0.00          sadness         trust  \n",
       "242              0.00          sadness         trust  \n",
       "243              0.00          sadness      surprise  \n",
       "244              0.00          sadness  anticipation  \n",
       "245              0.25          sadness         trust  \n",
       "\n",
       "[246 rows x 21 columns]"
      ]
     },
     "execution_count": 190,
     "metadata": {},
     "output_type": "execute_result"
    }
   ],
   "source": [
    "all_emo_df['Emotion'] = all_emo_df_new_2[['Emotion']].copy()"
   ]
  },
  {
   "cell_type": "code",
   "execution_count": 192,
   "metadata": {},
   "outputs": [],
   "source": [
    "all_emo_df_final = pd.DataFrame(all_emo_df, columns=['Tweet','Emotion'])\n",
    "all_emo_df_final.to_csv('C:\\\\Users\\\\Surendra\\\\OneDrive\\\\Desktop\\\\Capstone\\\\Capstone_2\\\\Tweet_Emotion_label_first.csv', index= False)"
   ]
  },
  {
   "cell_type": "code",
   "execution_count": 195,
   "metadata": {},
   "outputs": [
    {
     "data": {
      "text/html": [
       "<div>\n",
       "<style scoped>\n",
       "    .dataframe tbody tr th:only-of-type {\n",
       "        vertical-align: middle;\n",
       "    }\n",
       "\n",
       "    .dataframe tbody tr th {\n",
       "        vertical-align: top;\n",
       "    }\n",
       "\n",
       "    .dataframe thead th {\n",
       "        text-align: right;\n",
       "    }\n",
       "</style>\n",
       "<table border=\"1\" class=\"dataframe\">\n",
       "  <thead>\n",
       "    <tr style=\"text-align: right;\">\n",
       "      <th></th>\n",
       "      <th>Tweet</th>\n",
       "    </tr>\n",
       "    <tr>\n",
       "      <th>Emotion</th>\n",
       "      <th></th>\n",
       "    </tr>\n",
       "  </thead>\n",
       "  <tbody>\n",
       "    <tr>\n",
       "      <th>anger</th>\n",
       "      <td>21</td>\n",
       "    </tr>\n",
       "    <tr>\n",
       "      <th>anticipation</th>\n",
       "      <td>38</td>\n",
       "    </tr>\n",
       "    <tr>\n",
       "      <th>disgust</th>\n",
       "      <td>5</td>\n",
       "    </tr>\n",
       "    <tr>\n",
       "      <th>fear</th>\n",
       "      <td>14</td>\n",
       "    </tr>\n",
       "    <tr>\n",
       "      <th>joy</th>\n",
       "      <td>2</td>\n",
       "    </tr>\n",
       "    <tr>\n",
       "      <th>sadness</th>\n",
       "      <td>3</td>\n",
       "    </tr>\n",
       "    <tr>\n",
       "      <th>surprise</th>\n",
       "      <td>4</td>\n",
       "    </tr>\n",
       "    <tr>\n",
       "      <th>trust</th>\n",
       "      <td>159</td>\n",
       "    </tr>\n",
       "  </tbody>\n",
       "</table>\n",
       "</div>"
      ],
      "text/plain": [
       "              Tweet\n",
       "Emotion            \n",
       "anger            21\n",
       "anticipation     38\n",
       "disgust           5\n",
       "fear             14\n",
       "joy               2\n",
       "sadness           3\n",
       "surprise          4\n",
       "trust           159"
      ]
     },
     "execution_count": 195,
     "metadata": {},
     "output_type": "execute_result"
    },
    {
     "data": {
      "text/plain": [
       "trust           159\n",
       "anticipation     38\n",
       "anger            21\n",
       "fear             14\n",
       "disgust           5\n",
       "surprise          4\n",
       "sadness           3\n",
       "joy               2\n",
       "Name: Emotion, dtype: int64"
      ]
     },
     "execution_count": 195,
     "metadata": {},
     "output_type": "execute_result"
    }
   ],
   "source": [
    "all_emo_df_final.groupby('Emotion').count()\n",
    "emotions = all_emo_df_final['Emotion'].value_counts()\n",
    "emotions"
   ]
  },
  {
   "cell_type": "code",
   "execution_count": 197,
   "metadata": {},
   "outputs": [
    {
     "data": {
      "application/vnd.plotly.v1+json": {
       "config": {
        "plotlyServerURL": "https://plot.ly"
       },
       "data": [
        {
         "alignmentgroup": "True",
         "hovertemplate": "Emotion in Tweet=%{y}<br>No. of Tweets=%{x}<extra></extra>",
         "legendgroup": "trust",
         "marker": {
          "color": "#636efa"
         },
         "name": "trust",
         "offsetgroup": "trust",
         "orientation": "h",
         "showlegend": true,
         "textposition": "auto",
         "type": "bar",
         "x": [
          159
         ],
         "xaxis": "x",
         "y": [
          "trust"
         ],
         "yaxis": "y"
        },
        {
         "alignmentgroup": "True",
         "hovertemplate": "Emotion in Tweet=%{y}<br>No. of Tweets=%{x}<extra></extra>",
         "legendgroup": "anticipation",
         "marker": {
          "color": "#EF553B"
         },
         "name": "anticipation",
         "offsetgroup": "anticipation",
         "orientation": "h",
         "showlegend": true,
         "textposition": "auto",
         "type": "bar",
         "x": [
          38
         ],
         "xaxis": "x",
         "y": [
          "anticipation"
         ],
         "yaxis": "y"
        },
        {
         "alignmentgroup": "True",
         "hovertemplate": "Emotion in Tweet=%{y}<br>No. of Tweets=%{x}<extra></extra>",
         "legendgroup": "anger",
         "marker": {
          "color": "#00cc96"
         },
         "name": "anger",
         "offsetgroup": "anger",
         "orientation": "h",
         "showlegend": true,
         "textposition": "auto",
         "type": "bar",
         "x": [
          21
         ],
         "xaxis": "x",
         "y": [
          "anger"
         ],
         "yaxis": "y"
        },
        {
         "alignmentgroup": "True",
         "hovertemplate": "Emotion in Tweet=%{y}<br>No. of Tweets=%{x}<extra></extra>",
         "legendgroup": "fear",
         "marker": {
          "color": "#ab63fa"
         },
         "name": "fear",
         "offsetgroup": "fear",
         "orientation": "h",
         "showlegend": true,
         "textposition": "auto",
         "type": "bar",
         "x": [
          14
         ],
         "xaxis": "x",
         "y": [
          "fear"
         ],
         "yaxis": "y"
        },
        {
         "alignmentgroup": "True",
         "hovertemplate": "Emotion in Tweet=%{y}<br>No. of Tweets=%{x}<extra></extra>",
         "legendgroup": "disgust",
         "marker": {
          "color": "#FFA15A"
         },
         "name": "disgust",
         "offsetgroup": "disgust",
         "orientation": "h",
         "showlegend": true,
         "textposition": "auto",
         "type": "bar",
         "x": [
          5
         ],
         "xaxis": "x",
         "y": [
          "disgust"
         ],
         "yaxis": "y"
        },
        {
         "alignmentgroup": "True",
         "hovertemplate": "Emotion in Tweet=%{y}<br>No. of Tweets=%{x}<extra></extra>",
         "legendgroup": "surprise",
         "marker": {
          "color": "#19d3f3"
         },
         "name": "surprise",
         "offsetgroup": "surprise",
         "orientation": "h",
         "showlegend": true,
         "textposition": "auto",
         "type": "bar",
         "x": [
          4
         ],
         "xaxis": "x",
         "y": [
          "surprise"
         ],
         "yaxis": "y"
        },
        {
         "alignmentgroup": "True",
         "hovertemplate": "Emotion in Tweet=%{y}<br>No. of Tweets=%{x}<extra></extra>",
         "legendgroup": "sadness",
         "marker": {
          "color": "#FF6692"
         },
         "name": "sadness",
         "offsetgroup": "sadness",
         "orientation": "h",
         "showlegend": true,
         "textposition": "auto",
         "type": "bar",
         "x": [
          3
         ],
         "xaxis": "x",
         "y": [
          "sadness"
         ],
         "yaxis": "y"
        },
        {
         "alignmentgroup": "True",
         "hovertemplate": "Emotion in Tweet=%{y}<br>No. of Tweets=%{x}<extra></extra>",
         "legendgroup": "joy",
         "marker": {
          "color": "#B6E880"
         },
         "name": "joy",
         "offsetgroup": "joy",
         "orientation": "h",
         "showlegend": true,
         "textposition": "auto",
         "type": "bar",
         "x": [
          2
         ],
         "xaxis": "x",
         "y": [
          "joy"
         ],
         "yaxis": "y"
        }
       ],
       "layout": {
        "barmode": "relative",
        "height": 400,
        "legend": {
         "title": {
          "text": "Emotion in Tweet"
         },
         "tracegroupgap": 0
        },
        "margin": {
         "t": 60
        },
        "template": {
         "data": {
          "bar": [
           {
            "error_x": {
             "color": "#2a3f5f"
            },
            "error_y": {
             "color": "#2a3f5f"
            },
            "marker": {
             "line": {
              "color": "#E5ECF6",
              "width": 0.5
             }
            },
            "type": "bar"
           }
          ],
          "barpolar": [
           {
            "marker": {
             "line": {
              "color": "#E5ECF6",
              "width": 0.5
             }
            },
            "type": "barpolar"
           }
          ],
          "carpet": [
           {
            "aaxis": {
             "endlinecolor": "#2a3f5f",
             "gridcolor": "white",
             "linecolor": "white",
             "minorgridcolor": "white",
             "startlinecolor": "#2a3f5f"
            },
            "baxis": {
             "endlinecolor": "#2a3f5f",
             "gridcolor": "white",
             "linecolor": "white",
             "minorgridcolor": "white",
             "startlinecolor": "#2a3f5f"
            },
            "type": "carpet"
           }
          ],
          "choropleth": [
           {
            "colorbar": {
             "outlinewidth": 0,
             "ticks": ""
            },
            "type": "choropleth"
           }
          ],
          "contour": [
           {
            "colorbar": {
             "outlinewidth": 0,
             "ticks": ""
            },
            "colorscale": [
             [
              0,
              "#0d0887"
             ],
             [
              0.1111111111111111,
              "#46039f"
             ],
             [
              0.2222222222222222,
              "#7201a8"
             ],
             [
              0.3333333333333333,
              "#9c179e"
             ],
             [
              0.4444444444444444,
              "#bd3786"
             ],
             [
              0.5555555555555556,
              "#d8576b"
             ],
             [
              0.6666666666666666,
              "#ed7953"
             ],
             [
              0.7777777777777778,
              "#fb9f3a"
             ],
             [
              0.8888888888888888,
              "#fdca26"
             ],
             [
              1,
              "#f0f921"
             ]
            ],
            "type": "contour"
           }
          ],
          "contourcarpet": [
           {
            "colorbar": {
             "outlinewidth": 0,
             "ticks": ""
            },
            "type": "contourcarpet"
           }
          ],
          "heatmap": [
           {
            "colorbar": {
             "outlinewidth": 0,
             "ticks": ""
            },
            "colorscale": [
             [
              0,
              "#0d0887"
             ],
             [
              0.1111111111111111,
              "#46039f"
             ],
             [
              0.2222222222222222,
              "#7201a8"
             ],
             [
              0.3333333333333333,
              "#9c179e"
             ],
             [
              0.4444444444444444,
              "#bd3786"
             ],
             [
              0.5555555555555556,
              "#d8576b"
             ],
             [
              0.6666666666666666,
              "#ed7953"
             ],
             [
              0.7777777777777778,
              "#fb9f3a"
             ],
             [
              0.8888888888888888,
              "#fdca26"
             ],
             [
              1,
              "#f0f921"
             ]
            ],
            "type": "heatmap"
           }
          ],
          "heatmapgl": [
           {
            "colorbar": {
             "outlinewidth": 0,
             "ticks": ""
            },
            "colorscale": [
             [
              0,
              "#0d0887"
             ],
             [
              0.1111111111111111,
              "#46039f"
             ],
             [
              0.2222222222222222,
              "#7201a8"
             ],
             [
              0.3333333333333333,
              "#9c179e"
             ],
             [
              0.4444444444444444,
              "#bd3786"
             ],
             [
              0.5555555555555556,
              "#d8576b"
             ],
             [
              0.6666666666666666,
              "#ed7953"
             ],
             [
              0.7777777777777778,
              "#fb9f3a"
             ],
             [
              0.8888888888888888,
              "#fdca26"
             ],
             [
              1,
              "#f0f921"
             ]
            ],
            "type": "heatmapgl"
           }
          ],
          "histogram": [
           {
            "marker": {
             "colorbar": {
              "outlinewidth": 0,
              "ticks": ""
             }
            },
            "type": "histogram"
           }
          ],
          "histogram2d": [
           {
            "colorbar": {
             "outlinewidth": 0,
             "ticks": ""
            },
            "colorscale": [
             [
              0,
              "#0d0887"
             ],
             [
              0.1111111111111111,
              "#46039f"
             ],
             [
              0.2222222222222222,
              "#7201a8"
             ],
             [
              0.3333333333333333,
              "#9c179e"
             ],
             [
              0.4444444444444444,
              "#bd3786"
             ],
             [
              0.5555555555555556,
              "#d8576b"
             ],
             [
              0.6666666666666666,
              "#ed7953"
             ],
             [
              0.7777777777777778,
              "#fb9f3a"
             ],
             [
              0.8888888888888888,
              "#fdca26"
             ],
             [
              1,
              "#f0f921"
             ]
            ],
            "type": "histogram2d"
           }
          ],
          "histogram2dcontour": [
           {
            "colorbar": {
             "outlinewidth": 0,
             "ticks": ""
            },
            "colorscale": [
             [
              0,
              "#0d0887"
             ],
             [
              0.1111111111111111,
              "#46039f"
             ],
             [
              0.2222222222222222,
              "#7201a8"
             ],
             [
              0.3333333333333333,
              "#9c179e"
             ],
             [
              0.4444444444444444,
              "#bd3786"
             ],
             [
              0.5555555555555556,
              "#d8576b"
             ],
             [
              0.6666666666666666,
              "#ed7953"
             ],
             [
              0.7777777777777778,
              "#fb9f3a"
             ],
             [
              0.8888888888888888,
              "#fdca26"
             ],
             [
              1,
              "#f0f921"
             ]
            ],
            "type": "histogram2dcontour"
           }
          ],
          "mesh3d": [
           {
            "colorbar": {
             "outlinewidth": 0,
             "ticks": ""
            },
            "type": "mesh3d"
           }
          ],
          "parcoords": [
           {
            "line": {
             "colorbar": {
              "outlinewidth": 0,
              "ticks": ""
             }
            },
            "type": "parcoords"
           }
          ],
          "pie": [
           {
            "automargin": true,
            "type": "pie"
           }
          ],
          "scatter": [
           {
            "marker": {
             "colorbar": {
              "outlinewidth": 0,
              "ticks": ""
             }
            },
            "type": "scatter"
           }
          ],
          "scatter3d": [
           {
            "line": {
             "colorbar": {
              "outlinewidth": 0,
              "ticks": ""
             }
            },
            "marker": {
             "colorbar": {
              "outlinewidth": 0,
              "ticks": ""
             }
            },
            "type": "scatter3d"
           }
          ],
          "scattercarpet": [
           {
            "marker": {
             "colorbar": {
              "outlinewidth": 0,
              "ticks": ""
             }
            },
            "type": "scattercarpet"
           }
          ],
          "scattergeo": [
           {
            "marker": {
             "colorbar": {
              "outlinewidth": 0,
              "ticks": ""
             }
            },
            "type": "scattergeo"
           }
          ],
          "scattergl": [
           {
            "marker": {
             "colorbar": {
              "outlinewidth": 0,
              "ticks": ""
             }
            },
            "type": "scattergl"
           }
          ],
          "scattermapbox": [
           {
            "marker": {
             "colorbar": {
              "outlinewidth": 0,
              "ticks": ""
             }
            },
            "type": "scattermapbox"
           }
          ],
          "scatterpolar": [
           {
            "marker": {
             "colorbar": {
              "outlinewidth": 0,
              "ticks": ""
             }
            },
            "type": "scatterpolar"
           }
          ],
          "scatterpolargl": [
           {
            "marker": {
             "colorbar": {
              "outlinewidth": 0,
              "ticks": ""
             }
            },
            "type": "scatterpolargl"
           }
          ],
          "scatterternary": [
           {
            "marker": {
             "colorbar": {
              "outlinewidth": 0,
              "ticks": ""
             }
            },
            "type": "scatterternary"
           }
          ],
          "surface": [
           {
            "colorbar": {
             "outlinewidth": 0,
             "ticks": ""
            },
            "colorscale": [
             [
              0,
              "#0d0887"
             ],
             [
              0.1111111111111111,
              "#46039f"
             ],
             [
              0.2222222222222222,
              "#7201a8"
             ],
             [
              0.3333333333333333,
              "#9c179e"
             ],
             [
              0.4444444444444444,
              "#bd3786"
             ],
             [
              0.5555555555555556,
              "#d8576b"
             ],
             [
              0.6666666666666666,
              "#ed7953"
             ],
             [
              0.7777777777777778,
              "#fb9f3a"
             ],
             [
              0.8888888888888888,
              "#fdca26"
             ],
             [
              1,
              "#f0f921"
             ]
            ],
            "type": "surface"
           }
          ],
          "table": [
           {
            "cells": {
             "fill": {
              "color": "#EBF0F8"
             },
             "line": {
              "color": "white"
             }
            },
            "header": {
             "fill": {
              "color": "#C8D4E3"
             },
             "line": {
              "color": "white"
             }
            },
            "type": "table"
           }
          ]
         },
         "layout": {
          "annotationdefaults": {
           "arrowcolor": "#2a3f5f",
           "arrowhead": 0,
           "arrowwidth": 1
          },
          "autotypenumbers": "strict",
          "coloraxis": {
           "colorbar": {
            "outlinewidth": 0,
            "ticks": ""
           }
          },
          "colorscale": {
           "diverging": [
            [
             0,
             "#8e0152"
            ],
            [
             0.1,
             "#c51b7d"
            ],
            [
             0.2,
             "#de77ae"
            ],
            [
             0.3,
             "#f1b6da"
            ],
            [
             0.4,
             "#fde0ef"
            ],
            [
             0.5,
             "#f7f7f7"
            ],
            [
             0.6,
             "#e6f5d0"
            ],
            [
             0.7,
             "#b8e186"
            ],
            [
             0.8,
             "#7fbc41"
            ],
            [
             0.9,
             "#4d9221"
            ],
            [
             1,
             "#276419"
            ]
           ],
           "sequential": [
            [
             0,
             "#0d0887"
            ],
            [
             0.1111111111111111,
             "#46039f"
            ],
            [
             0.2222222222222222,
             "#7201a8"
            ],
            [
             0.3333333333333333,
             "#9c179e"
            ],
            [
             0.4444444444444444,
             "#bd3786"
            ],
            [
             0.5555555555555556,
             "#d8576b"
            ],
            [
             0.6666666666666666,
             "#ed7953"
            ],
            [
             0.7777777777777778,
             "#fb9f3a"
            ],
            [
             0.8888888888888888,
             "#fdca26"
            ],
            [
             1,
             "#f0f921"
            ]
           ],
           "sequentialminus": [
            [
             0,
             "#0d0887"
            ],
            [
             0.1111111111111111,
             "#46039f"
            ],
            [
             0.2222222222222222,
             "#7201a8"
            ],
            [
             0.3333333333333333,
             "#9c179e"
            ],
            [
             0.4444444444444444,
             "#bd3786"
            ],
            [
             0.5555555555555556,
             "#d8576b"
            ],
            [
             0.6666666666666666,
             "#ed7953"
            ],
            [
             0.7777777777777778,
             "#fb9f3a"
            ],
            [
             0.8888888888888888,
             "#fdca26"
            ],
            [
             1,
             "#f0f921"
            ]
           ]
          },
          "colorway": [
           "#636efa",
           "#EF553B",
           "#00cc96",
           "#ab63fa",
           "#FFA15A",
           "#19d3f3",
           "#FF6692",
           "#B6E880",
           "#FF97FF",
           "#FECB52"
          ],
          "font": {
           "color": "#2a3f5f"
          },
          "geo": {
           "bgcolor": "white",
           "lakecolor": "white",
           "landcolor": "#E5ECF6",
           "showlakes": true,
           "showland": true,
           "subunitcolor": "white"
          },
          "hoverlabel": {
           "align": "left"
          },
          "hovermode": "closest",
          "mapbox": {
           "style": "light"
          },
          "paper_bgcolor": "white",
          "plot_bgcolor": "#E5ECF6",
          "polar": {
           "angularaxis": {
            "gridcolor": "white",
            "linecolor": "white",
            "ticks": ""
           },
           "bgcolor": "#E5ECF6",
           "radialaxis": {
            "gridcolor": "white",
            "linecolor": "white",
            "ticks": ""
           }
          },
          "scene": {
           "xaxis": {
            "backgroundcolor": "#E5ECF6",
            "gridcolor": "white",
            "gridwidth": 2,
            "linecolor": "white",
            "showbackground": true,
            "ticks": "",
            "zerolinecolor": "white"
           },
           "yaxis": {
            "backgroundcolor": "#E5ECF6",
            "gridcolor": "white",
            "gridwidth": 2,
            "linecolor": "white",
            "showbackground": true,
            "ticks": "",
            "zerolinecolor": "white"
           },
           "zaxis": {
            "backgroundcolor": "#E5ECF6",
            "gridcolor": "white",
            "gridwidth": 2,
            "linecolor": "white",
            "showbackground": true,
            "ticks": "",
            "zerolinecolor": "white"
           }
          },
          "shapedefaults": {
           "line": {
            "color": "#2a3f5f"
           }
          },
          "ternary": {
           "aaxis": {
            "gridcolor": "white",
            "linecolor": "white",
            "ticks": ""
           },
           "baxis": {
            "gridcolor": "white",
            "linecolor": "white",
            "ticks": ""
           },
           "bgcolor": "#E5ECF6",
           "caxis": {
            "gridcolor": "white",
            "linecolor": "white",
            "ticks": ""
           }
          },
          "title": {
           "x": 0.05
          },
          "xaxis": {
           "automargin": true,
           "gridcolor": "white",
           "linecolor": "white",
           "ticks": "",
           "title": {
            "standoff": 15
           },
           "zerolinecolor": "white",
           "zerolinewidth": 2
          },
          "yaxis": {
           "automargin": true,
           "gridcolor": "white",
           "linecolor": "white",
           "ticks": "",
           "title": {
            "standoff": 15
           },
           "zerolinecolor": "white",
           "zerolinewidth": 2
          }
         }
        },
        "width": 800,
        "xaxis": {
         "anchor": "y",
         "domain": [
          0,
          1
         ],
         "title": {
          "text": "No. of Tweets"
         }
        },
        "yaxis": {
         "anchor": "x",
         "categoryarray": [
          "joy",
          "sadness",
          "surprise",
          "disgust",
          "fear",
          "anger",
          "anticipation",
          "trust"
         ],
         "categoryorder": "array",
         "domain": [
          0,
          1
         ],
         "title": {
          "text": "Emotion in Tweet"
         }
        }
       }
      },
      "text/html": [
       "<div>                            <div id=\"01c03ceb-c87c-4f2a-9c02-4a921c4e74ae\" class=\"plotly-graph-div\" style=\"height:400px; width:800px;\"></div>            <script type=\"text/javascript\">                require([\"plotly\"], function(Plotly) {                    window.PLOTLYENV=window.PLOTLYENV || {};                                    if (document.getElementById(\"01c03ceb-c87c-4f2a-9c02-4a921c4e74ae\")) {                    Plotly.newPlot(                        \"01c03ceb-c87c-4f2a-9c02-4a921c4e74ae\",                        [{\"alignmentgroup\": \"True\", \"hovertemplate\": \"Emotion in Tweet=%{y}<br>No. of Tweets=%{x}<extra></extra>\", \"legendgroup\": \"trust\", \"marker\": {\"color\": \"#636efa\"}, \"name\": \"trust\", \"offsetgroup\": \"trust\", \"orientation\": \"h\", \"showlegend\": true, \"textposition\": \"auto\", \"type\": \"bar\", \"x\": [159], \"xaxis\": \"x\", \"y\": [\"trust\"], \"yaxis\": \"y\"}, {\"alignmentgroup\": \"True\", \"hovertemplate\": \"Emotion in Tweet=%{y}<br>No. of Tweets=%{x}<extra></extra>\", \"legendgroup\": \"anticipation\", \"marker\": {\"color\": \"#EF553B\"}, \"name\": \"anticipation\", \"offsetgroup\": \"anticipation\", \"orientation\": \"h\", \"showlegend\": true, \"textposition\": \"auto\", \"type\": \"bar\", \"x\": [38], \"xaxis\": \"x\", \"y\": [\"anticipation\"], \"yaxis\": \"y\"}, {\"alignmentgroup\": \"True\", \"hovertemplate\": \"Emotion in Tweet=%{y}<br>No. of Tweets=%{x}<extra></extra>\", \"legendgroup\": \"anger\", \"marker\": {\"color\": \"#00cc96\"}, \"name\": \"anger\", \"offsetgroup\": \"anger\", \"orientation\": \"h\", \"showlegend\": true, \"textposition\": \"auto\", \"type\": \"bar\", \"x\": [21], \"xaxis\": \"x\", \"y\": [\"anger\"], \"yaxis\": \"y\"}, {\"alignmentgroup\": \"True\", \"hovertemplate\": \"Emotion in Tweet=%{y}<br>No. of Tweets=%{x}<extra></extra>\", \"legendgroup\": \"fear\", \"marker\": {\"color\": \"#ab63fa\"}, \"name\": \"fear\", \"offsetgroup\": \"fear\", \"orientation\": \"h\", \"showlegend\": true, \"textposition\": \"auto\", \"type\": \"bar\", \"x\": [14], \"xaxis\": \"x\", \"y\": [\"fear\"], \"yaxis\": \"y\"}, {\"alignmentgroup\": \"True\", \"hovertemplate\": \"Emotion in Tweet=%{y}<br>No. of Tweets=%{x}<extra></extra>\", \"legendgroup\": \"disgust\", \"marker\": {\"color\": \"#FFA15A\"}, \"name\": \"disgust\", \"offsetgroup\": \"disgust\", \"orientation\": \"h\", \"showlegend\": true, \"textposition\": \"auto\", \"type\": \"bar\", \"x\": [5], \"xaxis\": \"x\", \"y\": [\"disgust\"], \"yaxis\": \"y\"}, {\"alignmentgroup\": \"True\", \"hovertemplate\": \"Emotion in Tweet=%{y}<br>No. of Tweets=%{x}<extra></extra>\", \"legendgroup\": \"surprise\", \"marker\": {\"color\": \"#19d3f3\"}, \"name\": \"surprise\", \"offsetgroup\": \"surprise\", \"orientation\": \"h\", \"showlegend\": true, \"textposition\": \"auto\", \"type\": \"bar\", \"x\": [4], \"xaxis\": \"x\", \"y\": [\"surprise\"], \"yaxis\": \"y\"}, {\"alignmentgroup\": \"True\", \"hovertemplate\": \"Emotion in Tweet=%{y}<br>No. of Tweets=%{x}<extra></extra>\", \"legendgroup\": \"sadness\", \"marker\": {\"color\": \"#FF6692\"}, \"name\": \"sadness\", \"offsetgroup\": \"sadness\", \"orientation\": \"h\", \"showlegend\": true, \"textposition\": \"auto\", \"type\": \"bar\", \"x\": [3], \"xaxis\": \"x\", \"y\": [\"sadness\"], \"yaxis\": \"y\"}, {\"alignmentgroup\": \"True\", \"hovertemplate\": \"Emotion in Tweet=%{y}<br>No. of Tweets=%{x}<extra></extra>\", \"legendgroup\": \"joy\", \"marker\": {\"color\": \"#B6E880\"}, \"name\": \"joy\", \"offsetgroup\": \"joy\", \"orientation\": \"h\", \"showlegend\": true, \"textposition\": \"auto\", \"type\": \"bar\", \"x\": [2], \"xaxis\": \"x\", \"y\": [\"joy\"], \"yaxis\": \"y\"}],                        {\"barmode\": \"relative\", \"height\": 400, \"legend\": {\"title\": {\"text\": \"Emotion in Tweet\"}, \"tracegroupgap\": 0}, \"margin\": {\"t\": 60}, \"template\": {\"data\": {\"bar\": [{\"error_x\": {\"color\": \"#2a3f5f\"}, \"error_y\": {\"color\": \"#2a3f5f\"}, \"marker\": {\"line\": {\"color\": \"#E5ECF6\", \"width\": 0.5}}, \"type\": \"bar\"}], \"barpolar\": [{\"marker\": {\"line\": {\"color\": \"#E5ECF6\", \"width\": 0.5}}, \"type\": \"barpolar\"}], \"carpet\": [{\"aaxis\": {\"endlinecolor\": \"#2a3f5f\", \"gridcolor\": \"white\", \"linecolor\": \"white\", \"minorgridcolor\": \"white\", \"startlinecolor\": \"#2a3f5f\"}, \"baxis\": {\"endlinecolor\": \"#2a3f5f\", \"gridcolor\": \"white\", \"linecolor\": \"white\", \"minorgridcolor\": \"white\", \"startlinecolor\": \"#2a3f5f\"}, \"type\": \"carpet\"}], \"choropleth\": [{\"colorbar\": {\"outlinewidth\": 0, \"ticks\": \"\"}, \"type\": \"choropleth\"}], \"contour\": [{\"colorbar\": {\"outlinewidth\": 0, \"ticks\": \"\"}, \"colorscale\": [[0.0, \"#0d0887\"], [0.1111111111111111, \"#46039f\"], [0.2222222222222222, \"#7201a8\"], [0.3333333333333333, \"#9c179e\"], [0.4444444444444444, \"#bd3786\"], [0.5555555555555556, \"#d8576b\"], [0.6666666666666666, \"#ed7953\"], [0.7777777777777778, \"#fb9f3a\"], [0.8888888888888888, \"#fdca26\"], [1.0, \"#f0f921\"]], \"type\": \"contour\"}], \"contourcarpet\": [{\"colorbar\": {\"outlinewidth\": 0, \"ticks\": \"\"}, \"type\": \"contourcarpet\"}], \"heatmap\": [{\"colorbar\": {\"outlinewidth\": 0, \"ticks\": \"\"}, \"colorscale\": [[0.0, \"#0d0887\"], [0.1111111111111111, \"#46039f\"], [0.2222222222222222, \"#7201a8\"], [0.3333333333333333, \"#9c179e\"], [0.4444444444444444, \"#bd3786\"], [0.5555555555555556, \"#d8576b\"], [0.6666666666666666, \"#ed7953\"], [0.7777777777777778, \"#fb9f3a\"], [0.8888888888888888, \"#fdca26\"], [1.0, \"#f0f921\"]], \"type\": \"heatmap\"}], \"heatmapgl\": [{\"colorbar\": {\"outlinewidth\": 0, \"ticks\": \"\"}, \"colorscale\": [[0.0, \"#0d0887\"], [0.1111111111111111, \"#46039f\"], [0.2222222222222222, \"#7201a8\"], [0.3333333333333333, \"#9c179e\"], [0.4444444444444444, \"#bd3786\"], [0.5555555555555556, \"#d8576b\"], [0.6666666666666666, \"#ed7953\"], [0.7777777777777778, \"#fb9f3a\"], [0.8888888888888888, \"#fdca26\"], [1.0, \"#f0f921\"]], \"type\": \"heatmapgl\"}], \"histogram\": [{\"marker\": {\"colorbar\": {\"outlinewidth\": 0, \"ticks\": \"\"}}, \"type\": \"histogram\"}], \"histogram2d\": [{\"colorbar\": {\"outlinewidth\": 0, \"ticks\": \"\"}, \"colorscale\": [[0.0, \"#0d0887\"], [0.1111111111111111, \"#46039f\"], [0.2222222222222222, \"#7201a8\"], [0.3333333333333333, \"#9c179e\"], [0.4444444444444444, \"#bd3786\"], [0.5555555555555556, \"#d8576b\"], [0.6666666666666666, \"#ed7953\"], [0.7777777777777778, \"#fb9f3a\"], [0.8888888888888888, \"#fdca26\"], [1.0, \"#f0f921\"]], \"type\": \"histogram2d\"}], \"histogram2dcontour\": [{\"colorbar\": {\"outlinewidth\": 0, \"ticks\": \"\"}, \"colorscale\": [[0.0, \"#0d0887\"], [0.1111111111111111, \"#46039f\"], [0.2222222222222222, \"#7201a8\"], [0.3333333333333333, \"#9c179e\"], [0.4444444444444444, \"#bd3786\"], [0.5555555555555556, \"#d8576b\"], [0.6666666666666666, \"#ed7953\"], [0.7777777777777778, \"#fb9f3a\"], [0.8888888888888888, \"#fdca26\"], [1.0, \"#f0f921\"]], \"type\": \"histogram2dcontour\"}], \"mesh3d\": [{\"colorbar\": {\"outlinewidth\": 0, \"ticks\": \"\"}, \"type\": \"mesh3d\"}], \"parcoords\": [{\"line\": {\"colorbar\": {\"outlinewidth\": 0, \"ticks\": \"\"}}, \"type\": \"parcoords\"}], \"pie\": [{\"automargin\": true, \"type\": \"pie\"}], \"scatter\": [{\"marker\": {\"colorbar\": {\"outlinewidth\": 0, \"ticks\": \"\"}}, \"type\": \"scatter\"}], \"scatter3d\": [{\"line\": {\"colorbar\": {\"outlinewidth\": 0, \"ticks\": \"\"}}, \"marker\": {\"colorbar\": {\"outlinewidth\": 0, \"ticks\": \"\"}}, \"type\": \"scatter3d\"}], \"scattercarpet\": [{\"marker\": {\"colorbar\": {\"outlinewidth\": 0, \"ticks\": \"\"}}, \"type\": \"scattercarpet\"}], \"scattergeo\": [{\"marker\": {\"colorbar\": {\"outlinewidth\": 0, \"ticks\": \"\"}}, \"type\": \"scattergeo\"}], \"scattergl\": [{\"marker\": {\"colorbar\": {\"outlinewidth\": 0, \"ticks\": \"\"}}, \"type\": \"scattergl\"}], \"scattermapbox\": [{\"marker\": {\"colorbar\": {\"outlinewidth\": 0, \"ticks\": \"\"}}, \"type\": \"scattermapbox\"}], \"scatterpolar\": [{\"marker\": {\"colorbar\": {\"outlinewidth\": 0, \"ticks\": \"\"}}, \"type\": \"scatterpolar\"}], \"scatterpolargl\": [{\"marker\": {\"colorbar\": {\"outlinewidth\": 0, \"ticks\": \"\"}}, \"type\": \"scatterpolargl\"}], \"scatterternary\": [{\"marker\": {\"colorbar\": {\"outlinewidth\": 0, \"ticks\": \"\"}}, \"type\": \"scatterternary\"}], \"surface\": [{\"colorbar\": {\"outlinewidth\": 0, \"ticks\": \"\"}, \"colorscale\": [[0.0, \"#0d0887\"], [0.1111111111111111, \"#46039f\"], [0.2222222222222222, \"#7201a8\"], [0.3333333333333333, \"#9c179e\"], [0.4444444444444444, \"#bd3786\"], [0.5555555555555556, \"#d8576b\"], [0.6666666666666666, \"#ed7953\"], [0.7777777777777778, \"#fb9f3a\"], [0.8888888888888888, \"#fdca26\"], [1.0, \"#f0f921\"]], \"type\": \"surface\"}], \"table\": [{\"cells\": {\"fill\": {\"color\": \"#EBF0F8\"}, \"line\": {\"color\": \"white\"}}, \"header\": {\"fill\": {\"color\": \"#C8D4E3\"}, \"line\": {\"color\": \"white\"}}, \"type\": \"table\"}]}, \"layout\": {\"annotationdefaults\": {\"arrowcolor\": \"#2a3f5f\", \"arrowhead\": 0, \"arrowwidth\": 1}, \"autotypenumbers\": \"strict\", \"coloraxis\": {\"colorbar\": {\"outlinewidth\": 0, \"ticks\": \"\"}}, \"colorscale\": {\"diverging\": [[0, \"#8e0152\"], [0.1, \"#c51b7d\"], [0.2, \"#de77ae\"], [0.3, \"#f1b6da\"], [0.4, \"#fde0ef\"], [0.5, \"#f7f7f7\"], [0.6, \"#e6f5d0\"], [0.7, \"#b8e186\"], [0.8, \"#7fbc41\"], [0.9, \"#4d9221\"], [1, \"#276419\"]], \"sequential\": [[0.0, \"#0d0887\"], [0.1111111111111111, \"#46039f\"], [0.2222222222222222, \"#7201a8\"], [0.3333333333333333, \"#9c179e\"], [0.4444444444444444, \"#bd3786\"], [0.5555555555555556, \"#d8576b\"], [0.6666666666666666, \"#ed7953\"], [0.7777777777777778, \"#fb9f3a\"], [0.8888888888888888, \"#fdca26\"], [1.0, \"#f0f921\"]], \"sequentialminus\": [[0.0, \"#0d0887\"], [0.1111111111111111, \"#46039f\"], [0.2222222222222222, \"#7201a8\"], [0.3333333333333333, \"#9c179e\"], [0.4444444444444444, \"#bd3786\"], [0.5555555555555556, \"#d8576b\"], [0.6666666666666666, \"#ed7953\"], [0.7777777777777778, \"#fb9f3a\"], [0.8888888888888888, \"#fdca26\"], [1.0, \"#f0f921\"]]}, \"colorway\": [\"#636efa\", \"#EF553B\", \"#00cc96\", \"#ab63fa\", \"#FFA15A\", \"#19d3f3\", \"#FF6692\", \"#B6E880\", \"#FF97FF\", \"#FECB52\"], \"font\": {\"color\": \"#2a3f5f\"}, \"geo\": {\"bgcolor\": \"white\", \"lakecolor\": \"white\", \"landcolor\": \"#E5ECF6\", \"showlakes\": true, \"showland\": true, \"subunitcolor\": \"white\"}, \"hoverlabel\": {\"align\": \"left\"}, \"hovermode\": \"closest\", \"mapbox\": {\"style\": \"light\"}, \"paper_bgcolor\": \"white\", \"plot_bgcolor\": \"#E5ECF6\", \"polar\": {\"angularaxis\": {\"gridcolor\": \"white\", \"linecolor\": \"white\", \"ticks\": \"\"}, \"bgcolor\": \"#E5ECF6\", \"radialaxis\": {\"gridcolor\": \"white\", \"linecolor\": \"white\", \"ticks\": \"\"}}, \"scene\": {\"xaxis\": {\"backgroundcolor\": \"#E5ECF6\", \"gridcolor\": \"white\", \"gridwidth\": 2, \"linecolor\": \"white\", \"showbackground\": true, \"ticks\": \"\", \"zerolinecolor\": \"white\"}, \"yaxis\": {\"backgroundcolor\": \"#E5ECF6\", \"gridcolor\": \"white\", \"gridwidth\": 2, \"linecolor\": \"white\", \"showbackground\": true, \"ticks\": \"\", \"zerolinecolor\": \"white\"}, \"zaxis\": {\"backgroundcolor\": \"#E5ECF6\", \"gridcolor\": \"white\", \"gridwidth\": 2, \"linecolor\": \"white\", \"showbackground\": true, \"ticks\": \"\", \"zerolinecolor\": \"white\"}}, \"shapedefaults\": {\"line\": {\"color\": \"#2a3f5f\"}}, \"ternary\": {\"aaxis\": {\"gridcolor\": \"white\", \"linecolor\": \"white\", \"ticks\": \"\"}, \"baxis\": {\"gridcolor\": \"white\", \"linecolor\": \"white\", \"ticks\": \"\"}, \"bgcolor\": \"#E5ECF6\", \"caxis\": {\"gridcolor\": \"white\", \"linecolor\": \"white\", \"ticks\": \"\"}}, \"title\": {\"x\": 0.05}, \"xaxis\": {\"automargin\": true, \"gridcolor\": \"white\", \"linecolor\": \"white\", \"ticks\": \"\", \"title\": {\"standoff\": 15}, \"zerolinecolor\": \"white\", \"zerolinewidth\": 2}, \"yaxis\": {\"automargin\": true, \"gridcolor\": \"white\", \"linecolor\": \"white\", \"ticks\": \"\", \"title\": {\"standoff\": 15}, \"zerolinecolor\": \"white\", \"zerolinewidth\": 2}}}, \"width\": 800, \"xaxis\": {\"anchor\": \"y\", \"domain\": [0.0, 1.0], \"title\": {\"text\": \"No. of Tweets\"}}, \"yaxis\": {\"anchor\": \"x\", \"categoryarray\": [\"joy\", \"sadness\", \"surprise\", \"disgust\", \"fear\", \"anger\", \"anticipation\", \"trust\"], \"categoryorder\": \"array\", \"domain\": [0.0, 1.0], \"title\": {\"text\": \"Emotion in Tweet\"}}},                        {\"responsive\": true}                    ).then(function(){\n",
       "                            \n",
       "var gd = document.getElementById('01c03ceb-c87c-4f2a-9c02-4a921c4e74ae');\n",
       "var x = new MutationObserver(function (mutations, observer) {{\n",
       "        var display = window.getComputedStyle(gd).display;\n",
       "        if (!display || display === 'none') {{\n",
       "            console.log([gd, 'removed!']);\n",
       "            Plotly.purge(gd);\n",
       "            observer.disconnect();\n",
       "        }}\n",
       "}});\n",
       "\n",
       "// Listen for the removal of the full notebook cells\n",
       "var notebookContainer = gd.closest('#notebook-container');\n",
       "if (notebookContainer) {{\n",
       "    x.observe(notebookContainer, {childList: true});\n",
       "}}\n",
       "\n",
       "// Listen for the clearing of the current output cell\n",
       "var outputEl = gd.closest('.output');\n",
       "if (outputEl) {{\n",
       "    x.observe(outputEl, {childList: true});\n",
       "}}\n",
       "\n",
       "                        })                };                });            </script>        </div>"
      ]
     },
     "metadata": {},
     "output_type": "display_data"
    }
   ],
   "source": [
    "emo_freq = pd.Series(all_emo_df_final['Emotion'].value_counts()).to_dict()\n",
    "#emo_freq.sort_values()[-10:].plot(kind = 'barh')\n",
    "emotion_df = pd.DataFrame.from_dict(emo_freq, orient='index')\n",
    "emotion_df = emotion_df.reset_index()\n",
    "emotion_df = emotion_df.rename(columns={'index' : 'Emotion in Tweet' , 0: 'No. of Tweets'})\n",
    "emotion_df = emotion_df.sort_values(by=['No. of Tweets'], ascending=False)\n",
    "import plotly.express as px\n",
    "fig = px.bar(emotion_df, x='No. of Tweets', y='Emotion in Tweet', color = 'Emotion in Tweet', orientation='h', width = 800, height = 400)\n",
    "fig.show()"
   ]
  },
  {
   "cell_type": "code",
   "execution_count": null,
   "metadata": {},
   "outputs": [],
   "source": []
  }
 ],
 "metadata": {
  "kernelspec": {
   "display_name": "Python 3",
   "language": "python",
   "name": "python3"
  },
  "language_info": {
   "codemirror_mode": {
    "name": "ipython",
    "version": 3
   },
   "file_extension": ".py",
   "mimetype": "text/x-python",
   "name": "python",
   "nbconvert_exporter": "python",
   "pygments_lexer": "ipython3",
   "version": "3.8.3"
  }
 },
 "nbformat": 4,
 "nbformat_minor": 4
}
